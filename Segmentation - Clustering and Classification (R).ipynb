{
 "cells": [
  {
   "cell_type": "markdown",
   "metadata": {},
   "source": [
    "# Segmentation: Clustering and Classification"
   ]
  },
  {
   "cell_type": "markdown",
   "metadata": {},
   "source": [
    "<font size=4><b>Segmentation</b><br></font>\n",
    "Segmentation is the process of categorization of a target population into groups that can be differentiated from each other based on combinations of shared characteristics.\n",
    "It is a form of optimization and requires an iterative approach.\n",
    "\n",
    "<font size=4><b>Market Segmentation</b><br></font>\n",
    "One of the domains where segmentation is essential is in market segmentation, which allows companies to devise optimum marketing strategies. \n",
    "In a well-segmented market the smaller groups would appear homogeneous (relative to the overall market) in terms of consumption patterns, product interest, resonse to marketing efforts etc. \n",
    "\n",
    "<b>Benefits and Limitations</b><br>\n",
    "A marketeer that understands the differences between segments will be able to make better strategic choices for product design, marketing budgets, product positioning and nuanced promotional efforts. \n",
    "However, the most difficult part in effective market segmentation is finding actionable results which would allow for differentiated actions in the real world.  \n",
    "\n",
    "<b>Segmentation Methods</b><br>\n",
    "Two approaches which are useful in segmentation projects are :<br>\n",
    "1) <b>Classification (supervised learning)</b><br>\n",
    "&emsp; Predict an outcome on new data based on a model built by learning from data where outcome was available.<br>\n",
    "\n",
    "2) <b>Clustering (unsupervised learning)</b><br>\n",
    "&emsp; We do not know the outcome groupings but attempt to discover them from structure in the data.<br>\n",
    "\n",
    "Clustering and classification are not mutually exclusive. Sometimes, classification is used after segmentation has been done with clustering, for prediction of some outcome variables of interest that are known."
   ]
  },
  {
   "cell_type": "markdown",
   "metadata": {},
   "source": [
    "<div align=\"center\"><b>------------------------------------------------------------------------------------------------------------------------------------------------------------------------------------------------</b></div>"
   ]
  },
  {
   "cell_type": "markdown",
   "metadata": {},
   "source": [
    "<a id='index'></a>\n",
    "## Index\n",
    "- [1) Import packages](#1%29-Import-packages)\n",
    "- [2) Pre-defined functions](#2%29-Pre-defined-functions)\n",
    "- [3) Load data](#3%29-Load-data)\n",
    "- [4) Preliminary data exploration](#4%29-Preliminary-data-exploration)\n",
    "- [5) Feature adjustments](#5%29-Feature-adjustments)\n",
    "    - [Convert categorical variables to numerical](#Convert-categorical-variables-to-numerical)\n",
    "    - [Standardize data](#Standardize-data)\n",
    "- [Defined functions](#Defined-functions)\n",
    "- [6) Cluster analysis](#6%29-Cluster-analysis)\n",
    "    - [a) Mean-based clustering (k-means)](#a%29-Mean-based-clustering-(k-means%29)\n",
    "        - [Unstandardized data](#Unstandardized-data)\n",
    "            - [Segment distinguishing features](#obs-kmeans)\n",
    "        - [Standardized data](#Standardized-data)\n",
    "            - [Segment distinguishing features](#obs-kmeans2)\n",
    "    - [b) Hierarchical clustering](#b%29-Hierarchical-clustering)\n",
    "        - [Dendrogram](#Dendrogram)\n",
    "        - [Goodness-of-fit test](#Goodness-of-fit-test)\n",
    "        - [Segment assignments](#Segment-assignments)\n",
    "        - [Segment summary](#Segment-summary)\n",
    "    - [c) Model-based clustering](#c%29-Model-based-clustering)\n",
    "    - [d) Latent Class Analysis](#d%29-Latent-Class-Analysis)\n",
    "- [7) Comparing Cluster Solutions](#7%29-Comparing-Cluster-Solutions)\n",
    "- [8) Concluding summary](#8%29-Concluding-summary)"
   ]
  },
  {
   "cell_type": "markdown",
   "metadata": {},
   "source": [
    "<div align=\"center\"><b>------------------------------------------------------------------------------------------------------------------------------------------------------------------------------------------------</b></div>"
   ]
  },
  {
   "cell_type": "markdown",
   "metadata": {},
   "source": [
    "## 1) Import packages"
   ]
  },
  {
   "cell_type": "code",
   "execution_count": 1,
   "metadata": {},
   "outputs": [
    {
     "name": "stderr",
     "output_type": "stream",
     "text": [
      "Warning message:\n",
      "\"package 'splitstackshape' was built under R version 4.0.4\"\n"
     ]
    }
   ],
   "source": [
    "library(ggplot2)\n",
    "suppressPackageStartupMessages(library(splitstackshape))\n",
    "suppressPackageStartupMessages(library(dplyr))"
   ]
  },
  {
   "cell_type": "markdown",
   "metadata": {},
   "source": [
    "###### Some preliminary workings"
   ]
  },
  {
   "cell_type": "code",
   "execution_count": 2,
   "metadata": {},
   "outputs": [],
   "source": [
    "# Save default settings\n",
    "defop = options()\n",
    "defpar = par(no.readonly=T)"
   ]
  },
  {
   "cell_type": "markdown",
   "metadata": {},
   "source": [
    "<div align=\"center\"><b>------------------------------------------------------------------------------------------------------------------------------------------------------------------------------------------------</b></div>"
   ]
  },
  {
   "cell_type": "markdown",
   "metadata": {},
   "source": [
    "## 2) Pre-defined functions"
   ]
  },
  {
   "cell_type": "markdown",
   "metadata": {},
   "source": [
    "##### Function to specify plot parameters"
   ]
  },
  {
   "cell_type": "code",
   "execution_count": 3,
   "metadata": {},
   "outputs": [],
   "source": [
    "# Function to specify plot parameters\n",
    "plot_pars = function(w=6, h=5) options(repr.plot.width=w, repr.plot.height=h)"
   ]
  },
  {
   "cell_type": "markdown",
   "metadata": {},
   "source": [
    "##### Function to return frequency table"
   ]
  },
  {
   "cell_type": "code",
   "execution_count": 4,
   "metadata": {},
   "outputs": [],
   "source": [
    "# Function to return frequency table\n",
    "fd = function(data, sorted=F) {\n",
    "    fd = table(data)\n",
    "    fd = rbind('Freq'=fd, '%'=round(prop.table(fd)*100))\n",
    "    if (sorted == T) fd = fd[, order(fd['Freq',], decreasing=T)]\n",
    "    return(fd)\n",
    "}"
   ]
  },
  {
   "cell_type": "markdown",
   "metadata": {},
   "source": [
    "[go to toc](#index)"
   ]
  },
  {
   "cell_type": "markdown",
   "metadata": {},
   "source": [
    "<div align=\"center\"><b>------------------------------------------------------------------------------------------------------------------------------------------------------------------------------------------------</b></div>"
   ]
  },
  {
   "cell_type": "markdown",
   "metadata": {},
   "source": [
    "## 3) Load data"
   ]
  },
  {
   "cell_type": "code",
   "execution_count": 5,
   "metadata": {},
   "outputs": [
    {
     "data": {
      "text/html": [
       "<style>\n",
       ".list-inline {list-style: none; margin:0; padding: 0}\n",
       ".list-inline>li {display: inline-block}\n",
       ".list-inline>li:not(:last-child)::after {content: \"\\00b7\"; padding: 0 .5ex}\n",
       "</style>\n",
       "<ol class=list-inline><li>300</li><li>7</li></ol>\n"
      ],
      "text/latex": [
       "\\begin{enumerate*}\n",
       "\\item 300\n",
       "\\item 7\n",
       "\\end{enumerate*}\n"
      ],
      "text/markdown": [
       "1. 300\n",
       "2. 7\n",
       "\n",
       "\n"
      ],
      "text/plain": [
       "[1] 300   7"
      ]
     },
     "metadata": {},
     "output_type": "display_data"
    },
    {
     "data": {
      "text/html": [
       "<table>\n",
       "<caption>A data.frame: 6 × 7</caption>\n",
       "<thead>\n",
       "\t<tr><th></th><th scope=col>age</th><th scope=col>gender</th><th scope=col>income</th><th scope=col>kids</th><th scope=col>ownHome</th><th scope=col>subscribe</th><th scope=col>Segment</th></tr>\n",
       "\t<tr><th></th><th scope=col>&lt;dbl&gt;</th><th scope=col>&lt;chr&gt;</th><th scope=col>&lt;dbl&gt;</th><th scope=col>&lt;int&gt;</th><th scope=col>&lt;chr&gt;</th><th scope=col>&lt;chr&gt;</th><th scope=col>&lt;chr&gt;</th></tr>\n",
       "</thead>\n",
       "<tbody>\n",
       "\t<tr><th scope=row>1</th><td>47.31613</td><td>Male  </td><td>49482.81</td><td>2</td><td>ownNo </td><td>subNo</td><td>Suburb mix</td></tr>\n",
       "\t<tr><th scope=row>2</th><td>31.38684</td><td>Male  </td><td>35546.29</td><td>1</td><td>ownYes</td><td>subNo</td><td>Suburb mix</td></tr>\n",
       "\t<tr><th scope=row>3</th><td>43.20034</td><td>Male  </td><td>44169.19</td><td>0</td><td>ownYes</td><td>subNo</td><td>Suburb mix</td></tr>\n",
       "\t<tr><th scope=row>4</th><td>37.31700</td><td>Female</td><td>81041.99</td><td>1</td><td>ownNo </td><td>subNo</td><td>Suburb mix</td></tr>\n",
       "\t<tr><th scope=row>5</th><td>40.95439</td><td>Female</td><td>79353.01</td><td>3</td><td>ownYes</td><td>subNo</td><td>Suburb mix</td></tr>\n",
       "\t<tr><th scope=row>6</th><td>43.03387</td><td>Male  </td><td>58143.36</td><td>4</td><td>ownYes</td><td>subNo</td><td>Suburb mix</td></tr>\n",
       "</tbody>\n",
       "</table>\n"
      ],
      "text/latex": [
       "A data.frame: 6 × 7\n",
       "\\begin{tabular}{r|lllllll}\n",
       "  & age & gender & income & kids & ownHome & subscribe & Segment\\\\\n",
       "  & <dbl> & <chr> & <dbl> & <int> & <chr> & <chr> & <chr>\\\\\n",
       "\\hline\n",
       "\t1 & 47.31613 & Male   & 49482.81 & 2 & ownNo  & subNo & Suburb mix\\\\\n",
       "\t2 & 31.38684 & Male   & 35546.29 & 1 & ownYes & subNo & Suburb mix\\\\\n",
       "\t3 & 43.20034 & Male   & 44169.19 & 0 & ownYes & subNo & Suburb mix\\\\\n",
       "\t4 & 37.31700 & Female & 81041.99 & 1 & ownNo  & subNo & Suburb mix\\\\\n",
       "\t5 & 40.95439 & Female & 79353.01 & 3 & ownYes & subNo & Suburb mix\\\\\n",
       "\t6 & 43.03387 & Male   & 58143.36 & 4 & ownYes & subNo & Suburb mix\\\\\n",
       "\\end{tabular}\n"
      ],
      "text/markdown": [
       "\n",
       "A data.frame: 6 × 7\n",
       "\n",
       "| <!--/--> | age &lt;dbl&gt; | gender &lt;chr&gt; | income &lt;dbl&gt; | kids &lt;int&gt; | ownHome &lt;chr&gt; | subscribe &lt;chr&gt; | Segment &lt;chr&gt; |\n",
       "|---|---|---|---|---|---|---|---|\n",
       "| 1 | 47.31613 | Male   | 49482.81 | 2 | ownNo  | subNo | Suburb mix |\n",
       "| 2 | 31.38684 | Male   | 35546.29 | 1 | ownYes | subNo | Suburb mix |\n",
       "| 3 | 43.20034 | Male   | 44169.19 | 0 | ownYes | subNo | Suburb mix |\n",
       "| 4 | 37.31700 | Female | 81041.99 | 1 | ownNo  | subNo | Suburb mix |\n",
       "| 5 | 40.95439 | Female | 79353.01 | 3 | ownYes | subNo | Suburb mix |\n",
       "| 6 | 43.03387 | Male   | 58143.36 | 4 | ownYes | subNo | Suburb mix |\n",
       "\n"
      ],
      "text/plain": [
       "  age      gender income   kids ownHome subscribe Segment   \n",
       "1 47.31613 Male   49482.81 2    ownNo   subNo     Suburb mix\n",
       "2 31.38684 Male   35546.29 1    ownYes  subNo     Suburb mix\n",
       "3 43.20034 Male   44169.19 0    ownYes  subNo     Suburb mix\n",
       "4 37.31700 Female 81041.99 1    ownNo   subNo     Suburb mix\n",
       "5 40.95439 Female 79353.01 3    ownYes  subNo     Suburb mix\n",
       "6 43.03387 Male   58143.36 4    ownYes  subNo     Suburb mix"
      ]
     },
     "metadata": {},
     "output_type": "display_data"
    }
   ],
   "source": [
    "dfo = read.csv(\"http://goo.gl/qw303p\")\n",
    "\n",
    "# Export for safekeep\n",
    "# write.csv(dfo, file='Subsricption.csv', row.names=F)\n",
    "\n",
    "dim(dfo)\n",
    "head(dfo)"
   ]
  },
  {
   "cell_type": "code",
   "execution_count": 6,
   "metadata": {},
   "outputs": [
    {
     "data": {
      "text/html": [
       "300"
      ],
      "text/latex": [
       "300"
      ],
      "text/markdown": [
       "300"
      ],
      "text/plain": [
       "[1] 300"
      ]
     },
     "metadata": {},
     "output_type": "display_data"
    },
    {
     "data": {
      "text/html": [
       "<table>\n",
       "<caption>A data.frame: 6 × 6</caption>\n",
       "<thead>\n",
       "\t<tr><th></th><th scope=col>age</th><th scope=col>gender</th><th scope=col>income</th><th scope=col>kids</th><th scope=col>ownHome</th><th scope=col>subscribe</th></tr>\n",
       "\t<tr><th></th><th scope=col>&lt;dbl&gt;</th><th scope=col>&lt;chr&gt;</th><th scope=col>&lt;dbl&gt;</th><th scope=col>&lt;int&gt;</th><th scope=col>&lt;chr&gt;</th><th scope=col>&lt;chr&gt;</th></tr>\n",
       "</thead>\n",
       "<tbody>\n",
       "\t<tr><th scope=row>1</th><td>47.31613</td><td>Male  </td><td>49482.81</td><td>2</td><td>ownNo </td><td>subNo</td></tr>\n",
       "\t<tr><th scope=row>2</th><td>31.38684</td><td>Male  </td><td>35546.29</td><td>1</td><td>ownYes</td><td>subNo</td></tr>\n",
       "\t<tr><th scope=row>3</th><td>43.20034</td><td>Male  </td><td>44169.19</td><td>0</td><td>ownYes</td><td>subNo</td></tr>\n",
       "\t<tr><th scope=row>4</th><td>37.31700</td><td>Female</td><td>81041.99</td><td>1</td><td>ownNo </td><td>subNo</td></tr>\n",
       "\t<tr><th scope=row>5</th><td>40.95439</td><td>Female</td><td>79353.01</td><td>3</td><td>ownYes</td><td>subNo</td></tr>\n",
       "\t<tr><th scope=row>6</th><td>43.03387</td><td>Male  </td><td>58143.36</td><td>4</td><td>ownYes</td><td>subNo</td></tr>\n",
       "</tbody>\n",
       "</table>\n"
      ],
      "text/latex": [
       "A data.frame: 6 × 6\n",
       "\\begin{tabular}{r|llllll}\n",
       "  & age & gender & income & kids & ownHome & subscribe\\\\\n",
       "  & <dbl> & <chr> & <dbl> & <int> & <chr> & <chr>\\\\\n",
       "\\hline\n",
       "\t1 & 47.31613 & Male   & 49482.81 & 2 & ownNo  & subNo\\\\\n",
       "\t2 & 31.38684 & Male   & 35546.29 & 1 & ownYes & subNo\\\\\n",
       "\t3 & 43.20034 & Male   & 44169.19 & 0 & ownYes & subNo\\\\\n",
       "\t4 & 37.31700 & Female & 81041.99 & 1 & ownNo  & subNo\\\\\n",
       "\t5 & 40.95439 & Female & 79353.01 & 3 & ownYes & subNo\\\\\n",
       "\t6 & 43.03387 & Male   & 58143.36 & 4 & ownYes & subNo\\\\\n",
       "\\end{tabular}\n"
      ],
      "text/markdown": [
       "\n",
       "A data.frame: 6 × 6\n",
       "\n",
       "| <!--/--> | age &lt;dbl&gt; | gender &lt;chr&gt; | income &lt;dbl&gt; | kids &lt;int&gt; | ownHome &lt;chr&gt; | subscribe &lt;chr&gt; |\n",
       "|---|---|---|---|---|---|---|\n",
       "| 1 | 47.31613 | Male   | 49482.81 | 2 | ownNo  | subNo |\n",
       "| 2 | 31.38684 | Male   | 35546.29 | 1 | ownYes | subNo |\n",
       "| 3 | 43.20034 | Male   | 44169.19 | 0 | ownYes | subNo |\n",
       "| 4 | 37.31700 | Female | 81041.99 | 1 | ownNo  | subNo |\n",
       "| 5 | 40.95439 | Female | 79353.01 | 3 | ownYes | subNo |\n",
       "| 6 | 43.03387 | Male   | 58143.36 | 4 | ownYes | subNo |\n",
       "\n"
      ],
      "text/plain": [
       "  age      gender income   kids ownHome subscribe\n",
       "1 47.31613 Male   49482.81 2    ownNo   subNo    \n",
       "2 31.38684 Male   35546.29 1    ownYes  subNo    \n",
       "3 43.20034 Male   44169.19 0    ownYes  subNo    \n",
       "4 37.31700 Female 81041.99 1    ownNo   subNo    \n",
       "5 40.95439 Female 79353.01 3    ownYes  subNo    \n",
       "6 43.03387 Male   58143.36 4    ownYes  subNo    "
      ]
     },
     "metadata": {},
     "output_type": "display_data"
    }
   ],
   "source": [
    "# Drop the 'segment' column and save it separately\n",
    "df = dfo[setdiff(names(dfo), c('Segment'))]\n",
    "y = dfo['Segment']\n",
    "\n",
    "nrow(y)\n",
    "head(df)"
   ]
  },
  {
   "cell_type": "markdown",
   "metadata": {},
   "source": [
    "[go to toc](#index)"
   ]
  },
  {
   "cell_type": "markdown",
   "metadata": {},
   "source": [
    "<div align=\"center\"><b>------------------------------------------------------------------------------------------------------------------------------------------------------------------------------------------------</b></div>"
   ]
  },
  {
   "cell_type": "markdown",
   "metadata": {},
   "source": [
    "## 4) Preliminary data exploration"
   ]
  },
  {
   "cell_type": "markdown",
   "metadata": {},
   "source": [
    "### Check for data integrity"
   ]
  },
  {
   "cell_type": "markdown",
   "metadata": {},
   "source": [
    "#### Check for missing values"
   ]
  },
  {
   "cell_type": "code",
   "execution_count": 7,
   "metadata": {},
   "outputs": [
    {
     "data": {
      "text/html": [
       "FALSE"
      ],
      "text/latex": [
       "FALSE"
      ],
      "text/markdown": [
       "FALSE"
      ],
      "text/plain": [
       "[1] FALSE"
      ]
     },
     "metadata": {},
     "output_type": "display_data"
    }
   ],
   "source": [
    "anyNA(df)"
   ]
  },
  {
   "cell_type": "markdown",
   "metadata": {},
   "source": [
    "#### Check for data consistency\n",
    "To ensure that the variables have been understood as per their nature"
   ]
  },
  {
   "cell_type": "code",
   "execution_count": 8,
   "metadata": {},
   "outputs": [
    {
     "name": "stdout",
     "output_type": "stream",
     "text": [
      "'data.frame':\t300 obs. of  6 variables:\n",
      " $ age      : num  47.3 31.4 43.2 37.3 41 ...\n",
      " $ gender   : chr  \"Male\" \"Male\" \"Male\" \"Female\" ...\n",
      " $ income   : num  49483 35546 44169 81042 79353 ...\n",
      " $ kids     : int  2 1 0 1 3 4 3 0 1 0 ...\n",
      " $ ownHome  : chr  \"ownNo\" \"ownYes\" \"ownYes\" \"ownNo\" ...\n",
      " $ subscribe: chr  \"subNo\" \"subNo\" \"subNo\" \"subNo\" ...\n"
     ]
    }
   ],
   "source": [
    "str(df)"
   ]
  },
  {
   "cell_type": "markdown",
   "metadata": {},
   "source": [
    "<div class=\"alert alert-block alert-info\">\n",
    "    Numeric variables have been read as numeric (num and int) and categorical as character (chr).<br>\n",
    "    We can save categorical columns as 'factor' instead.\n",
    "</div>"
   ]
  },
  {
   "cell_type": "code",
   "execution_count": 9,
   "metadata": {},
   "outputs": [
    {
     "name": "stdout",
     "output_type": "stream",
     "text": [
      "'data.frame':\t300 obs. of  6 variables:\n",
      " $ age      : num  47.3 31.4 43.2 37.3 41 ...\n",
      " $ gender   : Factor w/ 2 levels \"Female\",\"Male\": 2 2 2 1 1 2 2 2 1 1 ...\n",
      " $ income   : num  49483 35546 44169 81042 79353 ...\n",
      " $ kids     : int  2 1 0 1 3 4 3 0 1 0 ...\n",
      " $ ownHome  : Factor w/ 2 levels \"ownNo\",\"ownYes\": 1 2 2 1 2 2 1 1 1 2 ...\n",
      " $ subscribe: Factor w/ 2 levels \"subNo\",\"subYes\": 1 1 1 1 1 1 1 1 1 1 ...\n"
     ]
    }
   ],
   "source": [
    "# Saving categorical columns as 'factor'\n",
    "df$gender = as.factor(df$gender)\n",
    "df$ownHome = as.factor(df$ownHome)\n",
    "df$subscribe = as.factor(df$subscribe)\n",
    "str(df)"
   ]
  },
  {
   "cell_type": "markdown",
   "metadata": {},
   "source": [
    "#### Summary statistics"
   ]
  },
  {
   "cell_type": "code",
   "execution_count": 10,
   "metadata": {},
   "outputs": [
    {
     "data": {
      "text/plain": [
       "      age           gender        income            kids        ownHome   \n",
       " Min.   :19.26   Female:157   Min.   : -5183   Min.   :0.00   ownNo :159  \n",
       " 1st Qu.:33.01   Male  :143   1st Qu.: 39656   1st Qu.:0.00   ownYes:141  \n",
       " Median :39.49                Median : 52014   Median :1.00               \n",
       " Mean   :41.20                Mean   : 50937   Mean   :1.27               \n",
       " 3rd Qu.:47.90                3rd Qu.: 61403   3rd Qu.:2.00               \n",
       " Max.   :80.49                Max.   :114278   Max.   :7.00               \n",
       "  subscribe  \n",
       " subNo :260  \n",
       " subYes: 40  \n",
       "             \n",
       "             \n",
       "             \n",
       "             "
      ]
     },
     "metadata": {},
     "output_type": "display_data"
    }
   ],
   "source": [
    "summary(df)"
   ]
  },
  {
   "cell_type": "markdown",
   "metadata": {},
   "source": [
    "<div class=\"alert alert-block alert-info\">\n",
    "    - None of the columns has min or max values that are very unusual.<br>\n",
    "    - Income has a negative minimum value. That is a plausible scenario in case of a person with monthly debt repayments due.<br>\n",
    "    - Max kids = 7. Sure, I can believe that. Some folks must be quite optimistic that humanity will tackle climate change well.<br><br>\n",
    "    <b>Overall, there are no obviously unusual values in the columns and the data seems to be consistent and complete.</b><br>\n",
    "</div>"
   ]
  },
  {
   "cell_type": "markdown",
   "metadata": {},
   "source": [
    "[go to toc](#index)"
   ]
  },
  {
   "cell_type": "markdown",
   "metadata": {},
   "source": [
    " <div align=\"center\"><b>-----------------------------------------------------------------------------------------------------------------------------------------------------</b></div>"
   ]
  },
  {
   "cell_type": "markdown",
   "metadata": {},
   "source": [
    "### Data distribution"
   ]
  },
  {
   "cell_type": "code",
   "execution_count": 11,
   "metadata": {},
   "outputs": [
    {
     "data": {
      "text/html": [
       "<table>\n",
       "<caption>A data.frame: 1 × 3</caption>\n",
       "<thead>\n",
       "\t<tr><th></th><th scope=col>age</th><th scope=col>income</th><th scope=col>kids</th></tr>\n",
       "\t<tr><th></th><th scope=col>&lt;dbl&gt;</th><th scope=col>&lt;dbl&gt;</th><th scope=col>&lt;int&gt;</th></tr>\n",
       "</thead>\n",
       "<tbody>\n",
       "\t<tr><th scope=row>1</th><td>47.31613</td><td>49482.81</td><td>2</td></tr>\n",
       "</tbody>\n",
       "</table>\n"
      ],
      "text/latex": [
       "A data.frame: 1 × 3\n",
       "\\begin{tabular}{r|lll}\n",
       "  & age & income & kids\\\\\n",
       "  & <dbl> & <dbl> & <int>\\\\\n",
       "\\hline\n",
       "\t1 & 47.31613 & 49482.81 & 2\\\\\n",
       "\\end{tabular}\n"
      ],
      "text/markdown": [
       "\n",
       "A data.frame: 1 × 3\n",
       "\n",
       "| <!--/--> | age &lt;dbl&gt; | income &lt;dbl&gt; | kids &lt;int&gt; |\n",
       "|---|---|---|---|\n",
       "| 1 | 47.31613 | 49482.81 | 2 |\n",
       "\n"
      ],
      "text/plain": [
       "  age      income   kids\n",
       "1 47.31613 49482.81 2   "
      ]
     },
     "metadata": {},
     "output_type": "display_data"
    }
   ],
   "source": [
    "# Numerical columns\n",
    "df_num = df[names(df)[sapply(df, is.numeric)]]\n",
    "head(df_num, 1)"
   ]
  },
  {
   "cell_type": "markdown",
   "metadata": {},
   "source": [
    "#### Histograms"
   ]
  },
  {
   "cell_type": "code",
   "execution_count": 12,
   "metadata": {},
   "outputs": [
    {
     "data": {
      "image/png": "[encoded data removed]",
      "text/plain": [
       "Plot with title \"kids\""
      ]
     },
     "metadata": {
      "image/png": {
       "height": 300,
       "width": 1020
      }
     },
     "output_type": "display_data"
    }
   ],
   "source": [
    "par(mfrow=c(1,3))\n",
    "plot_pars(17, 5)\n",
    "for (i in seq(ncol(df_num))) {\n",
    "    var = names(df_num)[i]\n",
    "    hist(df[, var], col='steelblue', main=var, xlab='', cex.main=2, cex.lab=1.5, cex.axis=1.7)\n",
    "}"
   ]
  },
  {
   "cell_type": "markdown",
   "metadata": {},
   "source": [
    "#### Value counts"
   ]
  },
  {
   "cell_type": "code",
   "execution_count": 13,
   "metadata": {},
   "outputs": [
    {
     "name": "stdout",
     "output_type": "stream",
     "text": [
      "Variable : gender \n",
      "       count perc\n",
      "Female   157 52.3\n",
      "Male     143 47.7\n",
      "\n",
      "\n",
      "Variable : ownHome \n",
      "       count perc\n",
      "ownNo    159   53\n",
      "ownYes   141   47\n",
      "\n",
      "\n",
      "Variable : subscribe \n",
      "       count perc\n",
      "subNo    260 86.7\n",
      "subYes    40 13.3\n",
      "\n",
      "\n"
     ]
    }
   ],
   "source": [
    "# Value counts of factors\n",
    "for (var in names(df)[sapply(df, is.factor)]) {\n",
    "    cat('Variable :', var, '\\n')\n",
    "    print(cbind('count'=table(df[,var]), 'perc'=round(prop.table(table(df[,var]))*100, 1)))\n",
    "    cat('\\n\\n')\n",
    "}"
   ]
  },
  {
   "cell_type": "markdown",
   "metadata": {},
   "source": [
    "[go to toc](#index)"
   ]
  },
  {
   "cell_type": "markdown",
   "metadata": {},
   "source": [
    "<div align=\"center\"><b>------------------------------------------------------------------------------------------------------------------------------------------------------------------------------------------------</b></div>"
   ]
  },
  {
   "cell_type": "markdown",
   "metadata": {},
   "source": [
    "## 5) Feature adjustments\n",
    "In order to perform techiques of cluster analysis, we will need to convert non-numeric data into numerical forms. Dummy variables will be introduced for categorical features."
   ]
  },
  {
   "cell_type": "markdown",
   "metadata": {},
   "source": [
    "#### Convert categorical variables to numerical"
   ]
  },
  {
   "cell_type": "code",
   "execution_count": 14,
   "metadata": {},
   "outputs": [
    {
     "data": {
      "text/html": [
       "<table>\n",
       "<caption>A data.frame: 1 × 6</caption>\n",
       "<thead>\n",
       "\t<tr><th></th><th scope=col>age</th><th scope=col>income</th><th scope=col>kids</th><th scope=col>male</th><th scope=col>ownHome</th><th scope=col>subscribe</th></tr>\n",
       "\t<tr><th></th><th scope=col>&lt;dbl&gt;</th><th scope=col>&lt;dbl&gt;</th><th scope=col>&lt;int&gt;</th><th scope=col>&lt;dbl&gt;</th><th scope=col>&lt;dbl&gt;</th><th scope=col>&lt;dbl&gt;</th></tr>\n",
       "</thead>\n",
       "<tbody>\n",
       "\t<tr><th scope=row>1</th><td>47.31613</td><td>49482.81</td><td>2</td><td>1</td><td>0</td><td>0</td></tr>\n",
       "</tbody>\n",
       "</table>\n"
      ],
      "text/latex": [
       "A data.frame: 1 × 6\n",
       "\\begin{tabular}{r|llllll}\n",
       "  & age & income & kids & male & ownHome & subscribe\\\\\n",
       "  & <dbl> & <dbl> & <int> & <dbl> & <dbl> & <dbl>\\\\\n",
       "\\hline\n",
       "\t1 & 47.31613 & 49482.81 & 2 & 1 & 0 & 0\\\\\n",
       "\\end{tabular}\n"
      ],
      "text/markdown": [
       "\n",
       "A data.frame: 1 × 6\n",
       "\n",
       "| <!--/--> | age &lt;dbl&gt; | income &lt;dbl&gt; | kids &lt;int&gt; | male &lt;dbl&gt; | ownHome &lt;dbl&gt; | subscribe &lt;dbl&gt; |\n",
       "|---|---|---|---|---|---|---|\n",
       "| 1 | 47.31613 | 49482.81 | 2 | 1 | 0 | 0 |\n",
       "\n"
      ],
      "text/plain": [
       "  age      income   kids male ownHome subscribe\n",
       "1 47.31613 49482.81 2    1    0       0        "
      ]
     },
     "metadata": {},
     "output_type": "display_data"
    }
   ],
   "source": [
    "# Convert categorical columns to dummies\n",
    "# dfn = cSplit_e(df, 'gender', drop=T, fill=0, type='character')   # library:splitstackshape\n",
    "dfn = data.frame(df)\n",
    "dfn$male = ifelse(dfn$gender == 'Female', 0, 1)\n",
    "dfn$ownHome = ifelse(dfn$ownHome == 'ownNo', 0, 1)\n",
    "dfn$subscribe = ifelse(dfn$subscribe == 'subNo', 0, 1)\n",
    "dfn = dfn[, !grepl('gender', names(dfn))]\n",
    "dfn = dfn[, c('age','income','kids','male','ownHome','subscribe')]\n",
    "head(dfn, 1)"
   ]
  },
  {
   "cell_type": "markdown",
   "metadata": {},
   "source": [
    "#### Standardize data"
   ]
  },
  {
   "cell_type": "code",
   "execution_count": 15,
   "metadata": {},
   "outputs": [
    {
     "data": {
      "text/html": [
       "<table>\n",
       "<caption>A matrix: 6 × 6 of type dbl</caption>\n",
       "<thead>\n",
       "\t<tr><th scope=col>age</th><th scope=col>income</th><th scope=col>kids</th><th scope=col>male</th><th scope=col>ownHome</th><th scope=col>subscribe</th></tr>\n",
       "</thead>\n",
       "<tbody>\n",
       "\t<tr><td> 0.48133138</td><td>-0.0721898</td><td> 0.5183027</td><td> 1.0460604</td><td>-0.9401258</td><td>-0.391578</td></tr>\n",
       "\t<tr><td>-0.77221071</td><td>-0.7642562</td><td>-0.1917010</td><td> 1.0460604</td><td> 1.0601418</td><td>-0.391578</td></tr>\n",
       "\t<tr><td> 0.15744276</td><td>-0.3360563</td><td>-0.9017048</td><td> 1.0460604</td><td> 1.0601418</td><td>-0.391578</td></tr>\n",
       "\t<tr><td>-0.30554218</td><td> 1.4949908</td><td>-0.1917010</td><td>-0.9527812</td><td>-0.9401258</td><td>-0.391578</td></tr>\n",
       "\t<tr><td>-0.01930052</td><td> 1.4111190</td><td> 1.2283065</td><td>-0.9527812</td><td> 1.0601418</td><td>-0.391578</td></tr>\n",
       "\t<tr><td> 0.14434200</td><td> 0.3578800</td><td> 1.9383103</td><td> 1.0460604</td><td> 1.0601418</td><td>-0.391578</td></tr>\n",
       "</tbody>\n",
       "</table>\n"
      ],
      "text/latex": [
       "A matrix: 6 × 6 of type dbl\n",
       "\\begin{tabular}{llllll}\n",
       " age & income & kids & male & ownHome & subscribe\\\\\n",
       "\\hline\n",
       "\t  0.48133138 & -0.0721898 &  0.5183027 &  1.0460604 & -0.9401258 & -0.391578\\\\\n",
       "\t -0.77221071 & -0.7642562 & -0.1917010 &  1.0460604 &  1.0601418 & -0.391578\\\\\n",
       "\t  0.15744276 & -0.3360563 & -0.9017048 &  1.0460604 &  1.0601418 & -0.391578\\\\\n",
       "\t -0.30554218 &  1.4949908 & -0.1917010 & -0.9527812 & -0.9401258 & -0.391578\\\\\n",
       "\t -0.01930052 &  1.4111190 &  1.2283065 & -0.9527812 &  1.0601418 & -0.391578\\\\\n",
       "\t  0.14434200 &  0.3578800 &  1.9383103 &  1.0460604 &  1.0601418 & -0.391578\\\\\n",
       "\\end{tabular}\n"
      ],
      "text/markdown": [
       "\n",
       "A matrix: 6 × 6 of type dbl\n",
       "\n",
       "| age | income | kids | male | ownHome | subscribe |\n",
       "|---|---|---|---|---|---|\n",
       "|  0.48133138 | -0.0721898 |  0.5183027 |  1.0460604 | -0.9401258 | -0.391578 |\n",
       "| -0.77221071 | -0.7642562 | -0.1917010 |  1.0460604 |  1.0601418 | -0.391578 |\n",
       "|  0.15744276 | -0.3360563 | -0.9017048 |  1.0460604 |  1.0601418 | -0.391578 |\n",
       "| -0.30554218 |  1.4949908 | -0.1917010 | -0.9527812 | -0.9401258 | -0.391578 |\n",
       "| -0.01930052 |  1.4111190 |  1.2283065 | -0.9527812 |  1.0601418 | -0.391578 |\n",
       "|  0.14434200 |  0.3578800 |  1.9383103 |  1.0460604 |  1.0601418 | -0.391578 |\n",
       "\n"
      ],
      "text/plain": [
       "     age         income     kids       male       ownHome    subscribe\n",
       "[1,]  0.48133138 -0.0721898  0.5183027  1.0460604 -0.9401258 -0.391578\n",
       "[2,] -0.77221071 -0.7642562 -0.1917010  1.0460604  1.0601418 -0.391578\n",
       "[3,]  0.15744276 -0.3360563 -0.9017048  1.0460604  1.0601418 -0.391578\n",
       "[4,] -0.30554218  1.4949908 -0.1917010 -0.9527812 -0.9401258 -0.391578\n",
       "[5,] -0.01930052  1.4111190  1.2283065 -0.9527812  1.0601418 -0.391578\n",
       "[6,]  0.14434200  0.3578800  1.9383103  1.0460604  1.0601418 -0.391578"
      ]
     },
     "metadata": {},
     "output_type": "display_data"
    }
   ],
   "source": [
    "# Standardize data\n",
    "dfn_sz = scale(dfn)\n",
    "\n",
    "# To standardize numeric columns in a mixed dataset without error\n",
    "# rapply(df, scale, c(\"numeric\",\"integer\"), how=\"replace\")\n",
    "\n",
    "head(dfn_sz)"
   ]
  },
  {
   "cell_type": "markdown",
   "metadata": {},
   "source": [
    "[go to toc](#index)"
   ]
  },
  {
   "cell_type": "markdown",
   "metadata": {},
   "source": [
    "<div align=\"center\"><b>------------------------------------------------------------------------------------------------------------------------------------------------------------------------------------------------</b></div>"
   ]
  },
  {
   "cell_type": "markdown",
   "metadata": {},
   "source": [
    "## Defined functions"
   ]
  },
  {
   "cell_type": "markdown",
   "metadata": {},
   "source": [
    "##### Function to get segment-wise metrics\n",
    "This function will provide us a quick glance at the overall differences between groups."
   ]
  },
  {
   "cell_type": "code",
   "execution_count": 16,
   "metadata": {},
   "outputs": [],
   "source": [
    "# Function to get segment-wise metrics - mean or median\n",
    "seg_summ = function(data, groups, metric='mean') {\n",
    "    if (metric=='mean') aggregate(data, list(groups), function(x) mean(as.numeric(x)))\n",
    "    else if (metric=='median') aggregate(data, list(groups), function(x) mean(as.numeric(x)))\n",
    "    else print('Mean or Median?')\n",
    "}"
   ]
  },
  {
   "cell_type": "markdown",
   "metadata": {},
   "source": [
    "##### Function to generate boxplots for clusters"
   ]
  },
  {
   "cell_type": "code",
   "execution_count": 17,
   "metadata": {},
   "outputs": [],
   "source": [
    "segment_boxplot = function(data, segments, title='Boxplot', xlab='', ylab='segment') {\n",
    "    plot_pars(12,4)\n",
    "    boxplot(data ~ segments, horizontal=T, ylab=ylab, xlab=xlab, cex.lab=1.5,\n",
    "            main=title, cex.main=1.5, col='cadetblue')\n",
    "    abline(v=quantile(data, c(0.1,0.25,0.5,0.75,0.9)), lty=c(3,4,5,4,3), col=alpha(rgb(0,0,0), 0.2))\n",
    "    abline(v=mean(data), lty=2, col=alpha('red', 0.5))\n",
    "}"
   ]
  },
  {
   "cell_type": "markdown",
   "metadata": {},
   "source": [
    "[go to toc](#index)"
   ]
  },
  {
   "cell_type": "markdown",
   "metadata": {},
   "source": [
    "<div align=\"center\"><b>------------------------------------------------------------------------------------------------------------------------------------------------------------------------------------------------</b></div>"
   ]
  },
  {
   "cell_type": "markdown",
   "metadata": {},
   "source": [
    "## 6) Cluster analysis"
   ]
  },
  {
   "cell_type": "markdown",
   "metadata": {},
   "source": [
    "There are many methods available for clustering. Some of the popular ones are:<br>\n",
    "\n",
    "<b>a) Distance based</b><br>\n",
    "    1) Kmeans<br>\n",
    "    2) Hierarchical clustering<br>\n",
    "The approch is to maximize distances between the clusters and minimize distances within the segments.<br>\n",
    "\n",
    "<b>b) Model based</b><br>\n",
    "    1) Mclust : Model-Based Clustering<br>\n",
    "    2) poLCA: Latent class analysis of polytomous outcome variables<br>\n",
    "Model-based methods view the data as a mixture of groups sampled from different (unknown) distributions.  \n",
    "These methods attempt to model the data such that the observed variance can be best represented by a small number of groups with specific distribution characteristics such as different means and standard deviations.\n",
    "\n",
    "Each of these methods have their own limitations, so we shall not presume that they can give complete solutions.<br>"
   ]
  },
  {
   "cell_type": "markdown",
   "metadata": {},
   "source": [
    "<font size=4><b>Distance measures</b></font><br>\n",
    "This forms the backbone of the clustering process.\n",
    "\n",
    "<b><i>Euclidean distance</i></b><br>\n",
    "One of the ways for calculating distance between <b><i>numerical</i></b> observations is Euclidean distance.<br>\n",
    "If &nbsp;$p(p_1, p_2, ..., p_n)$ &nbsp;and &nbsp;$q(q_1, q_2, ..., q_n)$ are 2 points in n-dimensional space, then Euclidean distance between them is calculated as :\n",
    "\n",
    "$$ d(p,q) = \\sqrt{\\sum{(p_i - q_i)^2}} $$\n",
    "\n",
    "Standardization of data is essential before calculating euclidean distances. \n",
    "If the the eucladian distance is calculated without adjusting the scale of the features, the segmentation would be unduly dominated by the feature or variable having larger spread.\n",
    "\n",
    "<b><i>Gower's distance</i></b><br>\n",
    "Euclidean distance can only be used when all our data is numeric. But, when we have a dataset that has <b>both quantitative and qualitative</b> features, we can use Gower's distance that calculates a [general dissimilarity coefficient](https://www.rdocumentation.org/packages/cluster/versions/2.1.1/topics/daisy) by rescaling the values.<br> \n",
    "\n",
    "As per [this medium article](https://medium.com/analytics-vidhya/gowers-distance-899f9c4bd553), Gower's distance uses the following metrics for the different data types:<br>\n",
    "    a) <b>quantitative (interval)</b>: range-normalized [Manhattan distance](https://en.wikipedia.org/wiki/Taxicab_geometry)<br>\n",
    "    b) <b>ordinal</b>: variable is first ranked, then Manhattan distance is used with a special adjustment for ties<br>\n",
    "    c) <b>nominal</b>: variables of k categories are first converted into k binary columns and then the Dice coefficient is used<br>"
   ]
  },
  {
   "cell_type": "markdown",
   "metadata": {},
   "source": [
    "<div align=\"center\"><b>------------------------------------------------------------------------------------------------------------------------------------------------------------------------------------------------</b></div>"
   ]
  },
  {
   "cell_type": "markdown",
   "metadata": {},
   "source": [
    "### a) Mean-based clustering (k-means)"
   ]
  },
  {
   "cell_type": "markdown",
   "metadata": {},
   "source": [
    "K-means clustering attempts to find groups that are most compact, in terms of the mean sum-of-squares deviation of each observation from the multivariate center (centroid) of its assigned group. \n",
    "Because it explicitly computes a mean deviation, k-means clustering relies on Euclidean distance.\n",
    "Thus it is only appropriate for numeric data or data that can be reasonably coerced to numeric.\n",
    "\n",
    "A limitation of k-means analysis is that it requires specifying the number of clusters, and it can be difficult to determine whether one solution is better than another."
   ]
  },
  {
   "cell_type": "markdown",
   "metadata": {},
   "source": [
    "#### Deciding optimum number of clusters\n",
    "One metric that can be used in deciding the optimum number of clusters is <b><i>Within Sum-of-Squares (WSS)</i></b>.<br>\n",
    "Within a cluster, the Euclidean Distance of each observation from the cluster centroid is calcluted, squared and summed up. \n",
    "This is done for all the clusters, and the total of WSS for all clusters becomes our (Total) Within sum-of-squares number.\n",
    "As the no. of clusters go up, the wss would go down because the clusters would provide a much tighter fit.\n",
    "\n",
    "The optimum k level is where increasing k would not result in a significant reduction in Total WSS.\n",
    "Even then you may get 3-4 possible k levels.\n",
    "It may require some trial and error to decide upon the final number.<br>\n",
    "\n",
    "Points that should be kept in consideration when deciding the optimum k level:<br>\n",
    "a) Clusters should be interpretable.<br>\n",
    "b) They should be able to provide results that can be translated into business actions.<br>"
   ]
  },
  {
   "cell_type": "markdown",
   "metadata": {},
   "source": [
    "##### Function to plot 'within sum of squares' from kmeans algorithm at various k levels"
   ]
  },
  {
   "cell_type": "code",
   "execution_count": 18,
   "metadata": {},
   "outputs": [],
   "source": [
    "# Function to plot 'within sum of squares' from kmeans algorithm at various k levels\n",
    "elbowDiagram = function(data, max_k=15, out_wss=F) {\n",
    "    wss = c()   # empty vector for saving within sum of squares\n",
    "    for (i in seq(max_k)) {\n",
    "        kmeans_model = kmeans(data, centers=i)\n",
    "        wss[i] = kmeans_model$tot.withinss\n",
    "    }\n",
    "    plot(wss, col='red', pch=19, main='Within Sum of Squares \\nat different k-means cluster levels', \n",
    "         cex.main=1.5, xlab='k', ylab='WSS', cex.lab=1.3, cex.axis=1.2)\n",
    "    if (out_wss == T) return(round(wss))\n",
    "}"
   ]
  },
  {
   "cell_type": "code",
   "execution_count": 19,
   "metadata": {},
   "outputs": [
    {
     "data": {
      "image/png": "[encoded data removed]",
      "text/plain": [
       "Plot with title \"Within Sum of Squares \n",
       "at different k-means cluster levels\""
      ]
     },
     "metadata": {
      "image/png": {
       "height": 360,
       "width": 480
      }
     },
     "output_type": "display_data"
    }
   ],
   "source": [
    "plot_pars(8,6)\n",
    "elbowDiagram(dfn, max_k=15, out_wss=F)"
   ]
  },
  {
   "cell_type": "markdown",
   "metadata": {},
   "source": [
    "<div class=\"alert alert-block alert-info\">\n",
    "    We can see that the marginal decrease in WSS beyond k=4 is not very significant. So, we will build our model with k = 4.\n",
    "</div>"
   ]
  },
  {
   "cell_type": "markdown",
   "metadata": {},
   "source": [
    "#### K-means model"
   ]
  },
  {
   "cell_type": "markdown",
   "metadata": {},
   "source": [
    "##### Unstandardized data\n",
    "First, let us build our model on unstandardized data."
   ]
  },
  {
   "cell_type": "code",
   "execution_count": 20,
   "metadata": {
    "scrolled": true
   },
   "outputs": [
    {
     "data": {
      "text/html": [
       "<table>\n",
       "<caption>A matrix: 4 × 6 of type dbl</caption>\n",
       "<thead>\n",
       "\t<tr><th></th><th scope=col>age</th><th scope=col>income</th><th scope=col>kids</th><th scope=col>male</th><th scope=col>ownHome</th><th scope=col>subscribe</th></tr>\n",
       "</thead>\n",
       "<tbody>\n",
       "\t<tr><th scope=row>1</th><td>55.40968</td><td>89959.96</td><td>0.360000</td><td>0.4000000</td><td>0.8400000</td><td>0.12000000</td></tr>\n",
       "\t<tr><th scope=row>2</th><td>29.58704</td><td>21631.79</td><td>1.063492</td><td>0.5714286</td><td>0.3015873</td><td>0.15873016</td></tr>\n",
       "\t<tr><th scope=row>3</th><td>42.38909</td><td>47799.84</td><td>1.434783</td><td>0.4695652</td><td>0.5304348</td><td>0.16521739</td></tr>\n",
       "\t<tr><th scope=row>4</th><td>43.66931</td><td>63630.70</td><td>1.443299</td><td>0.4432990</td><td>0.4123711</td><td>0.08247423</td></tr>\n",
       "</tbody>\n",
       "</table>\n"
      ],
      "text/latex": [
       "A matrix: 4 × 6 of type dbl\n",
       "\\begin{tabular}{r|llllll}\n",
       "  & age & income & kids & male & ownHome & subscribe\\\\\n",
       "\\hline\n",
       "\t1 & 55.40968 & 89959.96 & 0.360000 & 0.4000000 & 0.8400000 & 0.12000000\\\\\n",
       "\t2 & 29.58704 & 21631.79 & 1.063492 & 0.5714286 & 0.3015873 & 0.15873016\\\\\n",
       "\t3 & 42.38909 & 47799.84 & 1.434783 & 0.4695652 & 0.5304348 & 0.16521739\\\\\n",
       "\t4 & 43.66931 & 63630.70 & 1.443299 & 0.4432990 & 0.4123711 & 0.08247423\\\\\n",
       "\\end{tabular}\n"
      ],
      "text/markdown": [
       "\n",
       "A matrix: 4 × 6 of type dbl\n",
       "\n",
       "| <!--/--> | age | income | kids | male | ownHome | subscribe |\n",
       "|---|---|---|---|---|---|---|\n",
       "| 1 | 55.40968 | 89959.96 | 0.360000 | 0.4000000 | 0.8400000 | 0.12000000 |\n",
       "| 2 | 29.58704 | 21631.79 | 1.063492 | 0.5714286 | 0.3015873 | 0.15873016 |\n",
       "| 3 | 42.38909 | 47799.84 | 1.434783 | 0.4695652 | 0.5304348 | 0.16521739 |\n",
       "| 4 | 43.66931 | 63630.70 | 1.443299 | 0.4432990 | 0.4123711 | 0.08247423 |\n",
       "\n"
      ],
      "text/plain": [
       "  age      income   kids     male      ownHome   subscribe \n",
       "1 55.40968 89959.96 0.360000 0.4000000 0.8400000 0.12000000\n",
       "2 29.58704 21631.79 1.063492 0.5714286 0.3015873 0.15873016\n",
       "3 42.38909 47799.84 1.434783 0.4695652 0.5304348 0.16521739\n",
       "4 43.66931 63630.70 1.443299 0.4432990 0.4123711 0.08247423"
      ]
     },
     "metadata": {},
     "output_type": "display_data"
    }
   ],
   "source": [
    "set.seed(1)\n",
    "clust_k = kmeans(dfn, centers=4)\n",
    "clust_k$centers"
   ]
  },
  {
   "cell_type": "code",
   "execution_count": 21,
   "metadata": {},
   "outputs": [
    {
     "data": {
      "text/plain": [
       "\n",
       "  1   2   3   4 \n",
       " 25  63 115  97 "
      ]
     },
     "metadata": {},
     "output_type": "display_data"
    }
   ],
   "source": [
    "# Frequency table of clusters\n",
    "table(clust_k$cluster)"
   ]
  },
  {
   "cell_type": "markdown",
   "metadata": {},
   "source": [
    "</a><div class=\"alert alert-block alert-info\">\n",
    "    The groups appear to vary by age, income and home-ownership.<br>\n",
    "    There is very little variation in gender ratio.\n",
    "</div>"
   ]
  },
  {
   "cell_type": "markdown",
   "metadata": {},
   "source": [
    "##### Clusplot\n",
    "We visualize the clusters by plotting them against a dimensional plot. \n",
    "clusplot() will perform dimensional reduction with principal components or multidimensional scaling as the data warrant, and then plot the observations with cluster membership identified"
   ]
  },
  {
   "cell_type": "code",
   "execution_count": 22,
   "metadata": {},
   "outputs": [
    {
     "data": {
      "image/png": "[encoded data removed]",
      "text/plain": [
       "Plot with title \"K-means Cluster Plot\""
      ]
     },
     "metadata": {
      "image/png": {
       "height": 420,
       "width": 480
      }
     },
     "output_type": "display_data"
    }
   ],
   "source": [
    "# Plot of first 2 principal components of the predictors\n",
    "library(cluster)\n",
    "plot_pars(8,7)\n",
    "clusplot(df, clust_k$cluster, color=T, shade=T, labels=4, lines=0, main=\"K-means Cluster Plot\")"
   ]
  },
  {
   "cell_type": "markdown",
   "metadata": {},
   "source": [
    "<div class=\"alert alert-block alert-info\">\n",
    "    Based on the pricipal components plot, we can see that :<br>\n",
    "    - groups 3 and 4 overlap significantly<br>\n",
    "    - groups 1 and 2 are modestly differentiated<br>\n",
    "    - group 2 is different is some respects from 3 or 4<br>\n",
    "    - group 1 is different is some respects from 3 or 4<br>\n",
    "</div>"
   ]
  },
  {
   "cell_type": "markdown",
   "metadata": {},
   "source": [
    "<div align=\"center\"><b>------------------------------------------------------------------------------------------------------------------------------------------------------------------------------------------------</b></div>"
   ]
  },
  {
   "cell_type": "markdown",
   "metadata": {},
   "source": [
    "##### Segment distributions"
   ]
  },
  {
   "cell_type": "code",
   "execution_count": 23,
   "metadata": {},
   "outputs": [
    {
     "data": {
      "image/png": "[encoded data removed]",
      "text/plain": [
       "Plot with title \"Segment Age distribution\""
      ]
     },
     "metadata": {
      "image/png": {
       "height": 240,
       "width": 720
      }
     },
     "output_type": "display_data"
    }
   ],
   "source": [
    "# Age distribution in groups\n",
    "segment_boxplot(dfn$age, clust_k$cluster, title='Segment Age distribution', xlab='age')"
   ]
  },
  {
   "cell_type": "code",
   "execution_count": 24,
   "metadata": {},
   "outputs": [
    {
     "data": {
      "image/png": "[encoded data removed]",
      "text/plain": [
       "Plot with title \"Segment Income distribution\""
      ]
     },
     "metadata": {
      "image/png": {
       "height": 240,
       "width": 720
      }
     },
     "output_type": "display_data"
    }
   ],
   "source": [
    "# Income distribution in groups\n",
    "segment_boxplot(dfn$income, clust_k$cluster, title='Segment Income distribution', xlab='income')"
   ]
  },
  {
   "cell_type": "code",
   "execution_count": 25,
   "metadata": {},
   "outputs": [
    {
     "data": {
      "image/png": "[encoded data removed]",
      "text/plain": [
       "Plot with title \"Segment Kids distribution\""
      ]
     },
     "metadata": {
      "image/png": {
       "height": 240,
       "width": 720
      }
     },
     "output_type": "display_data"
    }
   ],
   "source": [
    "# Kids distribution in groups\n",
    "segment_boxplot(dfn$kids, clust_k$cluster, title='Segment Kids distribution', xlab='kids')"
   ]
  },
  {
   "cell_type": "code",
   "execution_count": 26,
   "metadata": {},
   "outputs": [
    {
     "name": "stdout",
     "output_type": "stream",
     "text": [
      "Cluster : 1 \n",
      "     ownNo ownYes\n",
      "Freq     4     21\n",
      "%       16     84\n",
      "\n",
      "Cluster : 2 \n",
      "     ownNo ownYes\n",
      "Freq    44     19\n",
      "%       70     30\n",
      "\n",
      "Cluster : 3 \n",
      "     ownNo ownYes\n",
      "Freq    54     61\n",
      "%       47     53\n",
      "\n",
      "Cluster : 4 \n",
      "     ownNo ownYes\n",
      "Freq    57     40\n",
      "%       59     41\n",
      "\n"
     ]
    }
   ],
   "source": [
    "# Home-ownership \n",
    "for (i in seq(n_distinct(clust_k$cluster))) {\n",
    "    cat(paste('Cluster :', i, '\\n'))\n",
    "    print(fd(df$ownHome[clust_k$cluster == i]))\n",
    "    cat('\\n')\n",
    "}"
   ]
  },
  {
   "cell_type": "code",
   "execution_count": 27,
   "metadata": {},
   "outputs": [
    {
     "data": {
      "text/plain": [
       "      age            income            kids     \n",
       " Min.   :19.26   Min.   : -5183   Min.   :0.00  \n",
       " 1st Qu.:33.01   1st Qu.: 39656   1st Qu.:0.00  \n",
       " Median :39.49   Median : 52014   Median :1.00  \n",
       " Mean   :41.20   Mean   : 50937   Mean   :1.27  \n",
       " 3rd Qu.:47.90   3rd Qu.: 61403   3rd Qu.:2.00  \n",
       " Max.   :80.49   Max.   :114278   Max.   :7.00  "
      ]
     },
     "metadata": {},
     "output_type": "display_data"
    }
   ],
   "source": [
    "# Overall\n",
    "summary(df[, names(df)[sapply(df, is.numeric)]])"
   ]
  },
  {
   "cell_type": "code",
   "execution_count": 28,
   "metadata": {},
   "outputs": [
    {
     "name": "stdout",
     "output_type": "stream",
     "text": [
      "Variable : gender \n",
      "       count perc\n",
      "Female   157 52.3\n",
      "Male     143 47.7\n",
      "\n",
      "\n",
      "Variable : ownHome \n",
      "       count perc\n",
      "ownNo    159   53\n",
      "ownYes   141   47\n",
      "\n",
      "\n",
      "Variable : subscribe \n",
      "       count perc\n",
      "subNo    260 86.7\n",
      "subYes    40 13.3\n",
      "\n",
      "\n"
     ]
    }
   ],
   "source": [
    "# Value counts of factors\n",
    "for (var in names(df)[sapply(df, is.factor)]) {\n",
    "    cat('Variable :', var, '\\n')\n",
    "    print(cbind('count'=table(df[,var]), 'perc'=round(prop.table(table(df[,var]))*100, 1)))\n",
    "    cat('\\n\\n')\n",
    "}"
   ]
  },
  {
   "cell_type": "markdown",
   "metadata": {},
   "source": [
    "<a id='obs-kmeans'></a>"
   ]
  },
  {
   "cell_type": "markdown",
   "metadata": {},
   "source": [
    "<div class=\"alert alert-block alert-info\">\n",
    "<h5>Segment distinguishing features</h5><br>\n",
    "    <b>Group 1</b><br>\n",
    "    - <b>Age</b>: old<br>\n",
    "    - <b>Income</b>: highest income group (in the top 90th percentile overall)<br>\n",
    "    - <b>Kids</b>: mostly don't have kids<br>\n",
    "    - <b>Gender</b>: predominantly female (60%)<br>\n",
    "    - <b>Home-ownership</b>: high home-ownership (almost double the overall rate of 47%)<br>\n",
    "    - <b>Subscribe</b>: slightly below avg subscription rate<br>\n",
    "    <br>\n",
    "    <b>Group 2</b><br>\n",
    "    - <b>Age</b>: young<br>\n",
    "    - <b>Income</b>: low income<br>\n",
    "    - <b>Kids</b>: distribution similar to overall sample<br>\n",
    "    - <b>Gender</b>: mostly male (57%)<br>\n",
    "    - <b>Home-ownership</b>: lowest home-ownership rates at 30% (overall 47%)<br>\n",
    "    - <b>Subscribe</b>: high subscription rates<br>\n",
    "    <br>\n",
    "    <b>Group 3</b><br>\n",
    "    - <b>Age</b>: mix of old and young, but slightly younger than average<br>\n",
    "    - <b>Income</b>: middle level income<br>\n",
    "    - <b>Kids</b>: distribution similar to overall sample<br>\n",
    "    - <b>Gender</b>: mixed, same as overall (47% males, 53% females)<br>\n",
    "    - <b>Home-ownership</b>: 53%, slightly above overall rate of 47%<br>\n",
    "    - <b>Subscribe</b>: highest subscription rate<br>\n",
    "    <br>\n",
    "    <b>Group 4</b><br>\n",
    "    - <b>Age</b>: mix of old and young, but slightly older than average<br>\n",
    "    - <b>Income</b>: high<br>\n",
    "    - <b>Kids</b>: distribution similar to overall sample<br>\n",
    "    - <b>Gender</b>: mixed gender ratio<br>\n",
    "    - <b>Home-ownership</b>: 41% (slightly lower than overall rate of 47%)<br>\n",
    "    - <b>Subscribe</b>: lowest subscription rates<br>\n",
    "</div>"
   ]
  },
  {
   "cell_type": "markdown",
   "metadata": {},
   "source": [
    " <div align=\"center\"><b>-----------------------------------------------------------------------------------------------------------------------------------------------------</b></div>"
   ]
  },
  {
   "cell_type": "markdown",
   "metadata": {},
   "source": [
    "#### Standardized data"
   ]
  },
  {
   "cell_type": "code",
   "execution_count": 29,
   "metadata": {},
   "outputs": [],
   "source": [
    "set.seed(1)\n",
    "clust_k_sz = kmeans(dfn_sz, centers=4)"
   ]
  },
  {
   "cell_type": "code",
   "execution_count": 30,
   "metadata": {},
   "outputs": [
    {
     "data": {
      "text/plain": [
       "\n",
       "  1   2   3   4 \n",
       " 72  38 121  69 "
      ]
     },
     "metadata": {},
     "output_type": "display_data"
    }
   ],
   "source": [
    "# Frequency table - Clusters\n",
    "table(clust_k_sz$cluster)"
   ]
  },
  {
   "cell_type": "code",
   "execution_count": 31,
   "metadata": {},
   "outputs": [
    {
     "data": {
      "text/html": [
       "<table>\n",
       "<caption>A data.frame: 4 × 7</caption>\n",
       "<thead>\n",
       "\t<tr><th scope=col>Group.1</th><th scope=col>age</th><th scope=col>income</th><th scope=col>kids</th><th scope=col>male</th><th scope=col>ownHome</th><th scope=col>subscribe</th></tr>\n",
       "\t<tr><th scope=col>&lt;int&gt;</th><th scope=col>&lt;dbl&gt;</th><th scope=col>&lt;dbl&gt;</th><th scope=col>&lt;dbl&gt;</th><th scope=col>&lt;dbl&gt;</th><th scope=col>&lt;dbl&gt;</th><th scope=col>&lt;dbl&gt;</th></tr>\n",
       "</thead>\n",
       "<tbody>\n",
       "\t<tr><td>1</td><td>58.28987</td><td>64306.43</td><td>0.02777778</td><td>0.4444444</td><td>0.7777778</td><td>0.02777778</td></tr>\n",
       "\t<tr><td>2</td><td>37.72319</td><td>44605.01</td><td>1.31578947</td><td>0.4736842</td><td>0.4210526</td><td>1.00000000</td></tr>\n",
       "\t<tr><td>3</td><td>34.08013</td><td>46087.24</td><td>1.56198347</td><td>0.4958678</td><td>0.0000000</td><td>0.00000000</td></tr>\n",
       "\t<tr><td>4</td><td>37.76591</td><td>48976.11</td><td>2.02898551</td><td>0.4782609</td><td>1.0000000</td><td>0.00000000</td></tr>\n",
       "</tbody>\n",
       "</table>\n"
      ],
      "text/latex": [
       "A data.frame: 4 × 7\n",
       "\\begin{tabular}{lllllll}\n",
       " Group.1 & age & income & kids & male & ownHome & subscribe\\\\\n",
       " <int> & <dbl> & <dbl> & <dbl> & <dbl> & <dbl> & <dbl>\\\\\n",
       "\\hline\n",
       "\t 1 & 58.28987 & 64306.43 & 0.02777778 & 0.4444444 & 0.7777778 & 0.02777778\\\\\n",
       "\t 2 & 37.72319 & 44605.01 & 1.31578947 & 0.4736842 & 0.4210526 & 1.00000000\\\\\n",
       "\t 3 & 34.08013 & 46087.24 & 1.56198347 & 0.4958678 & 0.0000000 & 0.00000000\\\\\n",
       "\t 4 & 37.76591 & 48976.11 & 2.02898551 & 0.4782609 & 1.0000000 & 0.00000000\\\\\n",
       "\\end{tabular}\n"
      ],
      "text/markdown": [
       "\n",
       "A data.frame: 4 × 7\n",
       "\n",
       "| Group.1 &lt;int&gt; | age &lt;dbl&gt; | income &lt;dbl&gt; | kids &lt;dbl&gt; | male &lt;dbl&gt; | ownHome &lt;dbl&gt; | subscribe &lt;dbl&gt; |\n",
       "|---|---|---|---|---|---|---|\n",
       "| 1 | 58.28987 | 64306.43 | 0.02777778 | 0.4444444 | 0.7777778 | 0.02777778 |\n",
       "| 2 | 37.72319 | 44605.01 | 1.31578947 | 0.4736842 | 0.4210526 | 1.00000000 |\n",
       "| 3 | 34.08013 | 46087.24 | 1.56198347 | 0.4958678 | 0.0000000 | 0.00000000 |\n",
       "| 4 | 37.76591 | 48976.11 | 2.02898551 | 0.4782609 | 1.0000000 | 0.00000000 |\n",
       "\n"
      ],
      "text/plain": [
       "  Group.1 age      income   kids       male      ownHome   subscribe \n",
       "1 1       58.28987 64306.43 0.02777778 0.4444444 0.7777778 0.02777778\n",
       "2 2       37.72319 44605.01 1.31578947 0.4736842 0.4210526 1.00000000\n",
       "3 3       34.08013 46087.24 1.56198347 0.4958678 0.0000000 0.00000000\n",
       "4 4       37.76591 48976.11 2.02898551 0.4782609 1.0000000 0.00000000"
      ]
     },
     "metadata": {},
     "output_type": "display_data"
    }
   ],
   "source": [
    "# Segment-wise means\n",
    "seg_summ(dfn, clust_k_sz$cluster)"
   ]
  },
  {
   "cell_type": "markdown",
   "metadata": {},
   "source": [
    "<a id='obs-kmeans2'></a>"
   ]
  },
  {
   "cell_type": "markdown",
   "metadata": {},
   "source": [
    "<div class=\"alert alert-block alert-info\">\n",
    "<h5>Segment distinguishing features</h5><br>\n",
    "    The differentiation between the groups has reduced considerably compared with the model built on unstandardized data.<br>\n",
    "    Groups 2-4 have similar ages, incomes, gender ratio amongst themselves, but differ from group 1 (except on gender-ratio).<br>\n",
    "    Groups 3 and 4 are non-subscibers that have similar feature means, and differ on home-ownership (and slightly on kids). Group 3 are all renters, while 4 are all home-owners.<br>\n",
    "    Group 2 contains subscribers, but is similar to 2 and 3 on other variables except home-ownership.<br>\n",
    "    <br>\n",
    "    <b>Unstandardized data has provided a more meaningful and useful segmentation for this dataset.</b>\n",
    "</div>"
   ]
  },
  {
   "cell_type": "markdown",
   "metadata": {},
   "source": [
    "##### Segment distributions"
   ]
  },
  {
   "cell_type": "code",
   "execution_count": 32,
   "metadata": {},
   "outputs": [
    {
     "data": {
      "image/png": "[encoded data removed]",
      "text/plain": [
       "Plot with title \"Age\""
      ]
     },
     "metadata": {
      "image/png": {
       "height": 240,
       "width": 720
      }
     },
     "output_type": "display_data"
    }
   ],
   "source": [
    "segment_boxplot(dfn$age, clust_k_sz$cluster, 'Age')"
   ]
  },
  {
   "cell_type": "code",
   "execution_count": 33,
   "metadata": {},
   "outputs": [
    {
     "data": {
      "image/png": "[encoded data removed]",
      "text/plain": [
       "Plot with title \"Income\""
      ]
     },
     "metadata": {
      "image/png": {
       "height": 240,
       "width": 720
      }
     },
     "output_type": "display_data"
    }
   ],
   "source": [
    "segment_boxplot(dfn$income, clust_k_sz$cluster, 'Income')"
   ]
  },
  {
   "cell_type": "code",
   "execution_count": 34,
   "metadata": {},
   "outputs": [
    {
     "data": {
      "image/png": "[encoded data removed]",
      "text/plain": [
       "Plot with title \"Kids\""
      ]
     },
     "metadata": {
      "image/png": {
       "height": 240,
       "width": 720
      }
     },
     "output_type": "display_data"
    }
   ],
   "source": [
    "segment_boxplot(dfn$kids, clust_k_sz$cluster, 'Kids')"
   ]
  },
  {
   "cell_type": "markdown",
   "metadata": {},
   "source": [
    "[go to toc](#index)"
   ]
  },
  {
   "cell_type": "markdown",
   "metadata": {},
   "source": [
    "<div align=\"center\"><b>------------------------------------------------------------------------------------------------------------------------------------------------------------------------------------------------</b></div>"
   ]
  },
  {
   "cell_type": "markdown",
   "metadata": {},
   "source": [
    "### b) Hierarchical clustering\n",
    "\n",
    "<b>Agglomerative approach (bottom-up)</b><br>\n",
    "The clustering process begins with each observation in its own cluster. \n",
    "Then observations are clustered together with other observations that are closest to them. \n",
    "Centroid of this cluster is then used to measure distance of other observations from it based on which further clustering takes place.\n",
    "This process continues until all the observations are linked.<br>\n",
    "\n",
    "<b>Divisive approach (top-down)</b><br>\n",
    "All observations are presumed to belong to one big cluster and splits are performed recursively by moving dissimilar points into separate clusters.\n",
    "[To divide the data](https://stats.stackexchange.com/questions/148094/how-to-perform-divisive-hierarchical-clustering), we start by finding the single point which is the most dissimilar to the rest of the cluster.\n",
    "The most dissimilar point is found by calculating the average distance of that point with all the other points.\n",
    "The point with the higest average distance is the most dissimilar.\n",
    "The process stops when we have the desired number of clusters.<br>\n",
    "\n",
    "<b><i>Which approach is best for you?</i></b><br>\n",
    "It is always worth trying all the options, but in general, [agglomerative clustering is better](https://towardsdatascience.com/hierarchical-clustering-on-categorical-data-in-r-a27e578f2995) in discovering small clusters, and is used by most software; divisive clustering — in discovering larger clusters.<br>\n",
    "\n",
    "<b><i>We will use the agglomerative approach here with gower's distance as the metric for dissimilarity matrix - a matrix that reports a metric for the distance between each pair of observation.</i></b>"
   ]
  },
  {
   "cell_type": "markdown",
   "metadata": {},
   "source": [
    "#### Dissimilarity matrix"
   ]
  },
  {
   "cell_type": "code",
   "execution_count": 35,
   "metadata": {},
   "outputs": [],
   "source": [
    "# Package that has a function that will return a dissimilarity matrix of Gower's distance\n",
    "library(cluster)"
   ]
  },
  {
   "cell_type": "code",
   "execution_count": 36,
   "metadata": {
    "scrolled": true
   },
   "outputs": [
    {
     "data": {
      "text/html": [
       "<table>\n",
       "<caption>A matrix: 5 × 5 of type dbl</caption>\n",
       "<thead>\n",
       "\t<tr><th></th><th scope=col>1</th><th scope=col>2</th><th scope=col>3</th><th scope=col>4</th><th scope=col>5</th></tr>\n",
       "</thead>\n",
       "<tbody>\n",
       "\t<tr><th scope=row>1</th><td>0.0000000</td><td>0.2532815</td><td>0.2329028</td><td>0.2617250</td><td>0.4161338</td></tr>\n",
       "\t<tr><th scope=row>2</th><td>0.2532815</td><td>0.0000000</td><td>0.0679978</td><td>0.4129493</td><td>0.3014468</td></tr>\n",
       "\t<tr><th scope=row>3</th><td>0.2329028</td><td>0.0679978</td><td>0.0000000</td><td>0.4246012</td><td>0.2932957</td></tr>\n",
       "\t<tr><th scope=row>4</th><td>0.2617250</td><td>0.4129493</td><td>0.4246012</td><td>0.0000000</td><td>0.2265436</td></tr>\n",
       "\t<tr><th scope=row>5</th><td>0.4161338</td><td>0.3014468</td><td>0.2932957</td><td>0.2265436</td><td>0.0000000</td></tr>\n",
       "</tbody>\n",
       "</table>\n"
      ],
      "text/latex": [
       "A matrix: 5 × 5 of type dbl\n",
       "\\begin{tabular}{r|lllll}\n",
       "  & 1 & 2 & 3 & 4 & 5\\\\\n",
       "\\hline\n",
       "\t1 & 0.0000000 & 0.2532815 & 0.2329028 & 0.2617250 & 0.4161338\\\\\n",
       "\t2 & 0.2532815 & 0.0000000 & 0.0679978 & 0.4129493 & 0.3014468\\\\\n",
       "\t3 & 0.2329028 & 0.0679978 & 0.0000000 & 0.4246012 & 0.2932957\\\\\n",
       "\t4 & 0.2617250 & 0.4129493 & 0.4246012 & 0.0000000 & 0.2265436\\\\\n",
       "\t5 & 0.4161338 & 0.3014468 & 0.2932957 & 0.2265436 & 0.0000000\\\\\n",
       "\\end{tabular}\n"
      ],
      "text/markdown": [
       "\n",
       "A matrix: 5 × 5 of type dbl\n",
       "\n",
       "| <!--/--> | 1 | 2 | 3 | 4 | 5 |\n",
       "|---|---|---|---|---|---|\n",
       "| 1 | 0.0000000 | 0.2532815 | 0.2329028 | 0.2617250 | 0.4161338 |\n",
       "| 2 | 0.2532815 | 0.0000000 | 0.0679978 | 0.4129493 | 0.3014468 |\n",
       "| 3 | 0.2329028 | 0.0679978 | 0.0000000 | 0.4246012 | 0.2932957 |\n",
       "| 4 | 0.2617250 | 0.4129493 | 0.4246012 | 0.0000000 | 0.2265436 |\n",
       "| 5 | 0.4161338 | 0.3014468 | 0.2932957 | 0.2265436 | 0.0000000 |\n",
       "\n"
      ],
      "text/plain": [
       "  1         2         3         4         5        \n",
       "1 0.0000000 0.2532815 0.2329028 0.2617250 0.4161338\n",
       "2 0.2532815 0.0000000 0.0679978 0.4129493 0.3014468\n",
       "3 0.2329028 0.0679978 0.0000000 0.4246012 0.2932957\n",
       "4 0.2617250 0.4129493 0.4246012 0.0000000 0.2265436\n",
       "5 0.4161338 0.3014468 0.2932957 0.2265436 0.0000000"
      ]
     },
     "metadata": {},
     "output_type": "display_data"
    }
   ],
   "source": [
    "# Gower's distance matrix\n",
    "gower_dist = daisy(df)\n",
    "\n",
    "# Sample of matrix\n",
    "as.matrix(gower_dist)[1:5, 1:5]"
   ]
  },
  {
   "cell_type": "code",
   "execution_count": 37,
   "metadata": {},
   "outputs": [
    {
     "data": {
      "text/html": [
       "<table>\n",
       "<caption>A matrix: 2 × 300 of type dbl</caption>\n",
       "<thead>\n",
       "\t<tr><th scope=col>X1</th><th scope=col>X2</th><th scope=col>X3</th><th scope=col>X4</th><th scope=col>X5</th><th scope=col>X6</th><th scope=col>X7</th><th scope=col>X8</th><th scope=col>X9</th><th scope=col>X10</th><th scope=col>...</th><th scope=col>X291</th><th scope=col>X292</th><th scope=col>X293</th><th scope=col>X294</th><th scope=col>X295</th><th scope=col>X296</th><th scope=col>X297</th><th scope=col>X298</th><th scope=col>X299</th><th scope=col>X300</th></tr>\n",
       "</thead>\n",
       "<tbody>\n",
       "\t<tr><td>0.0000000</td><td>0.0000000</td><td>0.0000000</td><td>0.000000</td><td>0.000000</td><td>0.0000000</td><td>0.000000</td><td>0.0000000</td><td>0.0000000</td><td>0.0000000</td><td>...</td><td>0.0000000</td><td>0.0000000</td><td>0.0000000</td><td>0.0000000</td><td>0.0000000</td><td>0.0000000</td><td>0.000000</td><td>0.0000000</td><td>0.0000000</td><td>0.0000000</td></tr>\n",
       "\t<tr><td>0.6404662</td><td>0.6275138</td><td>0.6302252</td><td>0.642766</td><td>0.683291</td><td>0.7093485</td><td>0.722094</td><td>0.6698627</td><td>0.6696568</td><td>0.6184889</td><td>...</td><td>0.6390226</td><td>0.7727501</td><td>0.6919861</td><td>0.6840953</td><td>0.6314159</td><td>0.6003843</td><td>0.680153</td><td>0.6514763</td><td>0.6298718</td><td>0.7033774</td></tr>\n",
       "</tbody>\n",
       "</table>\n"
      ],
      "text/latex": [
       "A matrix: 2 × 300 of type dbl\n",
       "\\begin{tabular}{lllllllllllllllllllll}\n",
       " X1 & X2 & X3 & X4 & X5 & X6 & X7 & X8 & X9 & X10 & ... & X291 & X292 & X293 & X294 & X295 & X296 & X297 & X298 & X299 & X300\\\\\n",
       "\\hline\n",
       "\t 0.0000000 & 0.0000000 & 0.0000000 & 0.000000 & 0.000000 & 0.0000000 & 0.000000 & 0.0000000 & 0.0000000 & 0.0000000 & ... & 0.0000000 & 0.0000000 & 0.0000000 & 0.0000000 & 0.0000000 & 0.0000000 & 0.000000 & 0.0000000 & 0.0000000 & 0.0000000\\\\\n",
       "\t 0.6404662 & 0.6275138 & 0.6302252 & 0.642766 & 0.683291 & 0.7093485 & 0.722094 & 0.6698627 & 0.6696568 & 0.6184889 & ... & 0.6390226 & 0.7727501 & 0.6919861 & 0.6840953 & 0.6314159 & 0.6003843 & 0.680153 & 0.6514763 & 0.6298718 & 0.7033774\\\\\n",
       "\\end{tabular}\n"
      ],
      "text/markdown": [
       "\n",
       "A matrix: 2 × 300 of type dbl\n",
       "\n",
       "| X1 | X2 | X3 | X4 | X5 | X6 | X7 | X8 | X9 | X10 | ... | X291 | X292 | X293 | X294 | X295 | X296 | X297 | X298 | X299 | X300 |\n",
       "|---|---|---|---|---|---|---|---|---|---|---|---|---|---|---|---|---|---|---|---|---|\n",
       "| 0.0000000 | 0.0000000 | 0.0000000 | 0.000000 | 0.000000 | 0.0000000 | 0.000000 | 0.0000000 | 0.0000000 | 0.0000000 | ... | 0.0000000 | 0.0000000 | 0.0000000 | 0.0000000 | 0.0000000 | 0.0000000 | 0.000000 | 0.0000000 | 0.0000000 | 0.0000000 |\n",
       "| 0.6404662 | 0.6275138 | 0.6302252 | 0.642766 | 0.683291 | 0.7093485 | 0.722094 | 0.6698627 | 0.6696568 | 0.6184889 | ... | 0.6390226 | 0.7727501 | 0.6919861 | 0.6840953 | 0.6314159 | 0.6003843 | 0.680153 | 0.6514763 | 0.6298718 | 0.7033774 |\n",
       "\n"
      ],
      "text/plain": [
       "     X1        X2        X3        X4       X5       X6        X7      \n",
       "[1,] 0.0000000 0.0000000 0.0000000 0.000000 0.000000 0.0000000 0.000000\n",
       "[2,] 0.6404662 0.6275138 0.6302252 0.642766 0.683291 0.7093485 0.722094\n",
       "     X8        X9        X10       ... X291      X292      X293      X294     \n",
       "[1,] 0.0000000 0.0000000 0.0000000 ... 0.0000000 0.0000000 0.0000000 0.0000000\n",
       "[2,] 0.6698627 0.6696568 0.6184889 ... 0.6390226 0.7727501 0.6919861 0.6840953\n",
       "     X295      X296      X297     X298      X299      X300     \n",
       "[1,] 0.0000000 0.0000000 0.000000 0.0000000 0.0000000 0.0000000\n",
       "[2,] 0.6314159 0.6003843 0.680153 0.6514763 0.6298718 0.7033774"
      ]
     },
     "metadata": {},
     "output_type": "display_data"
    },
    {
     "data": {
      "text/html": [
       "0.811107576398353"
      ],
      "text/latex": [
       "0.811107576398353"
      ],
      "text/markdown": [
       "0.811107576398353"
      ],
      "text/plain": [
       "[1] 0.8111076"
      ]
     },
     "metadata": {},
     "output_type": "display_data"
    }
   ],
   "source": [
    "# Understanding the dimensions of the Gower's Distance matrix\n",
    "a = data.frame(as.matrix(gower_dist))\n",
    "sapply(a, range)\n",
    "max(sapply(a, max))"
   ]
  },
  {
   "cell_type": "markdown",
   "metadata": {},
   "source": [
    "<div align=\"center\"><b>------------------------------------------------------------------------------------------------------------------------------------------------------------------------------------------------</b></div>"
   ]
  },
  {
   "cell_type": "markdown",
   "metadata": {},
   "source": [
    "#### Hierarchical Clustering"
   ]
  },
  {
   "cell_type": "code",
   "execution_count": 38,
   "metadata": {},
   "outputs": [
    {
     "data": {
      "text/plain": [
       "\n",
       "Call:\n",
       "hclust(d = gower_dist, method = \"complete\")\n",
       "\n",
       "Cluster method   : complete \n",
       "Number of objects: 300 \n"
      ]
     },
     "metadata": {},
     "output_type": "display_data"
    }
   ],
   "source": [
    "clust_hc = hclust(gower_dist, method='complete')\n",
    "# complete linkage method, which evaluates the distance between every member when \n",
    "# combining observations and groups.\n",
    "\n",
    "clust_hc"
   ]
  },
  {
   "cell_type": "markdown",
   "metadata": {},
   "source": [
    "<div align=\"center\"><b>------------------------------------------------------------------------------------------------------------------------------------------------------------------------------------------------</b></div>"
   ]
  },
  {
   "cell_type": "markdown",
   "metadata": {},
   "source": [
    "#### Dendrogram"
   ]
  },
  {
   "cell_type": "code",
   "execution_count": 39,
   "metadata": {},
   "outputs": [
    {
     "data": {
      "image/png": "[encoded data removed]",
      "text/plain": [
       "Plot with title \"Cluster Dendrogram\""
      ]
     },
     "metadata": {
      "image/png": {
       "height": 420,
       "width": 2100
      }
     },
     "output_type": "display_data"
    }
   ],
   "source": [
    "plot_pars(35, 7)\n",
    "# plot_pars(50, 10)  # to increase legibility\n",
    "plot(clust_hc)\n",
    "options(defop)"
   ]
  },
  {
   "cell_type": "markdown",
   "metadata": {},
   "source": [
    "<b>A hierarchical dendrogram is interpreted primarily by height and where observations are joined. \n",
    "The height represents the dissimilarity between elements that are joined.</b>"
   ]
  },
  {
   "cell_type": "code",
   "execution_count": 40,
   "metadata": {},
   "outputs": [
    {
     "data": {
      "text/plain": [
       "'dendrogram' with 2 branches and 300 members total, at height 0.8111076 "
      ]
     },
     "metadata": {},
     "output_type": "display_data"
    }
   ],
   "source": [
    "# Coercing the clustring result inta a dendrogram object\n",
    "dend1 = as.dendrogram(clust_hc)\n",
    "dend1"
   ]
  },
  {
   "cell_type": "code",
   "execution_count": 41,
   "metadata": {},
   "outputs": [
    {
     "data": {
      "text/plain": [
       "$upper\n",
       "'dendrogram' with 2 branches and 5 members total, at height 0.8111076 \n",
       "\n",
       "$lower\n",
       "$lower[[1]]\n",
       "'dendrogram' with 2 branches and 22 members total, at height 0.3573151 \n",
       "\n",
       "$lower[[2]]\n",
       "'dendrogram' with 2 branches and 18 members total, at height 0.4727599 \n",
       "\n",
       "$lower[[3]]\n",
       "'dendrogram' with 2 branches and 136 members total, at height 0.4660957 \n",
       "\n",
       "$lower[[4]]\n",
       "'dendrogram' with 2 branches and 58 members total, at height 0.3162601 \n",
       "\n",
       "$lower[[5]]\n",
       "'dendrogram' with 2 branches and 66 members total, at height 0.3417087 \n",
       "\n"
      ]
     },
     "metadata": {},
     "output_type": "display_data"
    }
   ],
   "source": [
    "# Cut the dendrogram at a certain height\n",
    "cut(dend1, h=0.5)"
   ]
  },
  {
   "cell_type": "code",
   "execution_count": 42,
   "metadata": {},
   "outputs": [
    {
     "data": {
      "image/png": "[encoded data removed]",
      "text/plain": [
       "plot without title"
      ]
     },
     "metadata": {
      "image/png": {
       "height": 420,
       "width": 420
      }
     },
     "output_type": "display_data"
    }
   ],
   "source": [
    "# Select a branch to display\n",
    "plot(cut(dend1, h=0.5)$lower[[1]])"
   ]
  },
  {
   "cell_type": "markdown",
   "metadata": {},
   "source": [
    "<div class=\"alert alert-block alert-info\">\n",
    "    Observations 101 and 107 have very low distance, and 278 and 294 as well. We can take a look at them.\n",
    "</div>"
   ]
  },
  {
   "cell_type": "code",
   "execution_count": 43,
   "metadata": {},
   "outputs": [
    {
     "data": {
      "text/html": [
       "<table>\n",
       "<caption>A data.frame: 2 × 6</caption>\n",
       "<thead>\n",
       "\t<tr><th></th><th scope=col>age</th><th scope=col>gender</th><th scope=col>income</th><th scope=col>kids</th><th scope=col>ownHome</th><th scope=col>subscribe</th></tr>\n",
       "\t<tr><th></th><th scope=col>&lt;dbl&gt;</th><th scope=col>&lt;fct&gt;</th><th scope=col>&lt;dbl&gt;</th><th scope=col>&lt;int&gt;</th><th scope=col>&lt;fct&gt;</th><th scope=col>&lt;fct&gt;</th></tr>\n",
       "</thead>\n",
       "<tbody>\n",
       "\t<tr><th scope=row>101</th><td>24.73796</td><td>Male</td><td>18457.85</td><td>1</td><td>ownNo</td><td>subYes</td></tr>\n",
       "\t<tr><th scope=row>107</th><td>23.19013</td><td>Male</td><td>17510.28</td><td>1</td><td>ownNo</td><td>subYes</td></tr>\n",
       "</tbody>\n",
       "</table>\n"
      ],
      "text/latex": [
       "A data.frame: 2 × 6\n",
       "\\begin{tabular}{r|llllll}\n",
       "  & age & gender & income & kids & ownHome & subscribe\\\\\n",
       "  & <dbl> & <fct> & <dbl> & <int> & <fct> & <fct>\\\\\n",
       "\\hline\n",
       "\t101 & 24.73796 & Male & 18457.85 & 1 & ownNo & subYes\\\\\n",
       "\t107 & 23.19013 & Male & 17510.28 & 1 & ownNo & subYes\\\\\n",
       "\\end{tabular}\n"
      ],
      "text/markdown": [
       "\n",
       "A data.frame: 2 × 6\n",
       "\n",
       "| <!--/--> | age &lt;dbl&gt; | gender &lt;fct&gt; | income &lt;dbl&gt; | kids &lt;int&gt; | ownHome &lt;fct&gt; | subscribe &lt;fct&gt; |\n",
       "|---|---|---|---|---|---|---|\n",
       "| 101 | 24.73796 | Male | 18457.85 | 1 | ownNo | subYes |\n",
       "| 107 | 23.19013 | Male | 17510.28 | 1 | ownNo | subYes |\n",
       "\n"
      ],
      "text/plain": [
       "    age      gender income   kids ownHome subscribe\n",
       "101 24.73796 Male   18457.85 1    ownNo   subYes   \n",
       "107 23.19013 Male   17510.28 1    ownNo   subYes   "
      ]
     },
     "metadata": {},
     "output_type": "display_data"
    },
    {
     "data": {
      "text/html": [
       "<table>\n",
       "<caption>A data.frame: 2 × 6</caption>\n",
       "<thead>\n",
       "\t<tr><th></th><th scope=col>age</th><th scope=col>gender</th><th scope=col>income</th><th scope=col>kids</th><th scope=col>ownHome</th><th scope=col>subscribe</th></tr>\n",
       "\t<tr><th></th><th scope=col>&lt;dbl&gt;</th><th scope=col>&lt;fct&gt;</th><th scope=col>&lt;dbl&gt;</th><th scope=col>&lt;int&gt;</th><th scope=col>&lt;fct&gt;</th><th scope=col>&lt;fct&gt;</th></tr>\n",
       "</thead>\n",
       "<tbody>\n",
       "\t<tr><th scope=row>278</th><td>36.23860</td><td>Female</td><td>46540.88</td><td>1</td><td>ownNo</td><td>subYes</td></tr>\n",
       "\t<tr><th scope=row>294</th><td>35.79961</td><td>Female</td><td>52352.69</td><td>1</td><td>ownNo</td><td>subYes</td></tr>\n",
       "</tbody>\n",
       "</table>\n"
      ],
      "text/latex": [
       "A data.frame: 2 × 6\n",
       "\\begin{tabular}{r|llllll}\n",
       "  & age & gender & income & kids & ownHome & subscribe\\\\\n",
       "  & <dbl> & <fct> & <dbl> & <int> & <fct> & <fct>\\\\\n",
       "\\hline\n",
       "\t278 & 36.23860 & Female & 46540.88 & 1 & ownNo & subYes\\\\\n",
       "\t294 & 35.79961 & Female & 52352.69 & 1 & ownNo & subYes\\\\\n",
       "\\end{tabular}\n"
      ],
      "text/markdown": [
       "\n",
       "A data.frame: 2 × 6\n",
       "\n",
       "| <!--/--> | age &lt;dbl&gt; | gender &lt;fct&gt; | income &lt;dbl&gt; | kids &lt;int&gt; | ownHome &lt;fct&gt; | subscribe &lt;fct&gt; |\n",
       "|---|---|---|---|---|---|---|\n",
       "| 278 | 36.23860 | Female | 46540.88 | 1 | ownNo | subYes |\n",
       "| 294 | 35.79961 | Female | 52352.69 | 1 | ownNo | subYes |\n",
       "\n"
      ],
      "text/plain": [
       "    age      gender income   kids ownHome subscribe\n",
       "278 36.23860 Female 46540.88 1    ownNo   subYes   \n",
       "294 35.79961 Female 52352.69 1    ownNo   subYes   "
      ]
     },
     "metadata": {},
     "output_type": "display_data"
    }
   ],
   "source": [
    "df[c(101,107),]\n",
    "\n",
    "df[c(278,294),]"
   ]
  },
  {
   "cell_type": "markdown",
   "metadata": {},
   "source": [
    "<div class=\"alert alert-block alert-info\">\n",
    "Members of both pairings have very similar characteristics.<br>\n",
    "</div>"
   ]
  },
  {
   "cell_type": "markdown",
   "metadata": {},
   "source": [
    "<i>Now, we will pick 2 observations from widely separated branches and compare them. Lets pick 172 and 141.</i>"
   ]
  },
  {
   "cell_type": "code",
   "execution_count": 44,
   "metadata": {},
   "outputs": [
    {
     "data": {
      "text/html": [
       "<table>\n",
       "<caption>A data.frame: 2 × 6</caption>\n",
       "<thead>\n",
       "\t<tr><th></th><th scope=col>age</th><th scope=col>gender</th><th scope=col>income</th><th scope=col>kids</th><th scope=col>ownHome</th><th scope=col>subscribe</th></tr>\n",
       "\t<tr><th></th><th scope=col>&lt;dbl&gt;</th><th scope=col>&lt;fct&gt;</th><th scope=col>&lt;dbl&gt;</th><th scope=col>&lt;int&gt;</th><th scope=col>&lt;fct&gt;</th><th scope=col>&lt;fct&gt;</th></tr>\n",
       "</thead>\n",
       "<tbody>\n",
       "\t<tr><th scope=row>172</th><td>49.43379</td><td>Male  </td><td>61153.43</td><td>0</td><td>ownNo</td><td>subYes</td></tr>\n",
       "\t<tr><th scope=row>141</th><td>25.17703</td><td>Female</td><td>20125.80</td><td>2</td><td>ownNo</td><td>subYes</td></tr>\n",
       "</tbody>\n",
       "</table>\n"
      ],
      "text/latex": [
       "A data.frame: 2 × 6\n",
       "\\begin{tabular}{r|llllll}\n",
       "  & age & gender & income & kids & ownHome & subscribe\\\\\n",
       "  & <dbl> & <fct> & <dbl> & <int> & <fct> & <fct>\\\\\n",
       "\\hline\n",
       "\t172 & 49.43379 & Male   & 61153.43 & 0 & ownNo & subYes\\\\\n",
       "\t141 & 25.17703 & Female & 20125.80 & 2 & ownNo & subYes\\\\\n",
       "\\end{tabular}\n"
      ],
      "text/markdown": [
       "\n",
       "A data.frame: 2 × 6\n",
       "\n",
       "| <!--/--> | age &lt;dbl&gt; | gender &lt;fct&gt; | income &lt;dbl&gt; | kids &lt;int&gt; | ownHome &lt;fct&gt; | subscribe &lt;fct&gt; |\n",
       "|---|---|---|---|---|---|---|\n",
       "| 172 | 49.43379 | Male   | 61153.43 | 0 | ownNo | subYes |\n",
       "| 141 | 25.17703 | Female | 20125.80 | 2 | ownNo | subYes |\n",
       "\n"
      ],
      "text/plain": [
       "    age      gender income   kids ownHome subscribe\n",
       "172 49.43379 Male   61153.43 0    ownNo   subYes   \n",
       "141 25.17703 Female 20125.80 2    ownNo   subYes   "
      ]
     },
     "metadata": {},
     "output_type": "display_data"
    }
   ],
   "source": [
    "df[c(172, 141), ]"
   ]
  },
  {
   "cell_type": "markdown",
   "metadata": {},
   "source": [
    "<div class=\"alert alert-block alert-info\">\n",
    "These 2 points differ significantly with each other in all but 2 respects (home ownership and subcription)<br>\n",
    "</div>"
   ]
  },
  {
   "cell_type": "markdown",
   "metadata": {},
   "source": [
    "<i>Picking the points from the opposite ends of the full dendogram - 128 and 299.</i>"
   ]
  },
  {
   "cell_type": "code",
   "execution_count": 45,
   "metadata": {},
   "outputs": [
    {
     "data": {
      "text/html": [
       "<table>\n",
       "<caption>A data.frame: 2 × 6</caption>\n",
       "<thead>\n",
       "\t<tr><th></th><th scope=col>age</th><th scope=col>gender</th><th scope=col>income</th><th scope=col>kids</th><th scope=col>ownHome</th><th scope=col>subscribe</th></tr>\n",
       "\t<tr><th></th><th scope=col>&lt;dbl&gt;</th><th scope=col>&lt;fct&gt;</th><th scope=col>&lt;dbl&gt;</th><th scope=col>&lt;int&gt;</th><th scope=col>&lt;fct&gt;</th><th scope=col>&lt;fct&gt;</th></tr>\n",
       "</thead>\n",
       "<tbody>\n",
       "\t<tr><th scope=row>128</th><td>21.80737</td><td>Male</td><td>27807.24</td><td>2</td><td>ownNo</td><td>subYes</td></tr>\n",
       "\t<tr><th scope=row>299</th><td>33.17036</td><td>Male</td><td>60747.34</td><td>1</td><td>ownNo</td><td>subNo </td></tr>\n",
       "</tbody>\n",
       "</table>\n"
      ],
      "text/latex": [
       "A data.frame: 2 × 6\n",
       "\\begin{tabular}{r|llllll}\n",
       "  & age & gender & income & kids & ownHome & subscribe\\\\\n",
       "  & <dbl> & <fct> & <dbl> & <int> & <fct> & <fct>\\\\\n",
       "\\hline\n",
       "\t128 & 21.80737 & Male & 27807.24 & 2 & ownNo & subYes\\\\\n",
       "\t299 & 33.17036 & Male & 60747.34 & 1 & ownNo & subNo \\\\\n",
       "\\end{tabular}\n"
      ],
      "text/markdown": [
       "\n",
       "A data.frame: 2 × 6\n",
       "\n",
       "| <!--/--> | age &lt;dbl&gt; | gender &lt;fct&gt; | income &lt;dbl&gt; | kids &lt;int&gt; | ownHome &lt;fct&gt; | subscribe &lt;fct&gt; |\n",
       "|---|---|---|---|---|---|---|\n",
       "| 128 | 21.80737 | Male | 27807.24 | 2 | ownNo | subYes |\n",
       "| 299 | 33.17036 | Male | 60747.34 | 1 | ownNo | subNo  |\n",
       "\n"
      ],
      "text/plain": [
       "    age      gender income   kids ownHome subscribe\n",
       "128 21.80737 Male   27807.24 2    ownNo   subYes   \n",
       "299 33.17036 Male   60747.34 1    ownNo   subNo    "
      ]
     },
     "metadata": {},
     "output_type": "display_data"
    }
   ],
   "source": [
    "df[c(128, 299), ]"
   ]
  },
  {
   "cell_type": "markdown",
   "metadata": {},
   "source": [
    "<div class=\"alert alert-block alert-info\">\n",
    "The differences in this pairing is not as stark as was for (172,141) but are still significant.\n",
    "But, one major difference that's present in this case is - subscription. So, the categorical variables exert a very strong influence in the calculations of distances.\n",
    "</div>"
   ]
  },
  {
   "cell_type": "markdown",
   "metadata": {},
   "source": [
    "<div align=\"center\"><b>------------------------------------------------------------------------------------------------------------------------------------------------------------------------------------------------</b></div>"
   ]
  },
  {
   "cell_type": "markdown",
   "metadata": {},
   "source": [
    "#### Goodness-of-fit test\n",
    "Cophenetic Correlation Coefficient (CPCC), assesses how well a dendrogram matches the true distance\n",
    "metric.  \n",
    "It is interpreted similarly to Pearson’s r."
   ]
  },
  {
   "cell_type": "code",
   "execution_count": 46,
   "metadata": {},
   "outputs": [
    {
     "data": {
      "text/html": [
       "0.768243613231283"
      ],
      "text/latex": [
       "0.768243613231283"
      ],
      "text/markdown": [
       "0.768243613231283"
      ],
      "text/plain": [
       "[1] 0.7682436"
      ]
     },
     "metadata": {},
     "output_type": "display_data"
    }
   ],
   "source": [
    "cor(cophenetic(clust_hc), gower_dist)"
   ]
  },
  {
   "cell_type": "markdown",
   "metadata": {},
   "source": [
    "<div align=\"center\"><b>------------------------------------------------------------------------------------------------------------------------------------------------------------------------------------------------</b></div>"
   ]
  },
  {
   "cell_type": "markdown",
   "metadata": {},
   "source": [
    "#### Segment assignments\n",
    "<i>How do we get specific segment assignments?<br></i>\n",
    "A dendrogram can be cut into clusters at any height desired, resulting in different numbers of groups.<br>\n",
    "Because a dendrogram can be cut at any point, the analyst must specify the number of groups desired.<br><br>\n",
    "Looking at the dendrogram, k=4 seems to be a good cut-off point."
   ]
  },
  {
   "cell_type": "code",
   "execution_count": 47,
   "metadata": {},
   "outputs": [
    {
     "data": {
      "image/png": "[encoded data removed]",
      "text/plain": [
       "Plot with title \"Cluster Dendrogram\""
      ]
     },
     "metadata": {
      "image/png": {
       "height": 300,
       "width": 1020
      }
     },
     "output_type": "display_data"
    }
   ],
   "source": [
    "# We can see where the dendrogram would be cut by\n",
    "plot_pars(17,5)\n",
    "plot(clust_hc)\n",
    "rect.hclust(clust_hc, k=4, border='red')"
   ]
  },
  {
   "cell_type": "code",
   "execution_count": 48,
   "metadata": {},
   "outputs": [
    {
     "data": {
      "text/plain": [
       "clust_hc_segments\n",
       "  1   2   3   4 \n",
       "124 136  18  22 "
      ]
     },
     "metadata": {},
     "output_type": "display_data"
    }
   ],
   "source": [
    "# Obtain the assignment vector for observations\n",
    "clust_hc_segments = cutree(clust_hc, k=4)\n",
    "table(clust_hc_segments)"
   ]
  },
  {
   "cell_type": "markdown",
   "metadata": {},
   "source": [
    "We can see that groups 1 and 2 dominate the assignment."
   ]
  },
  {
   "cell_type": "markdown",
   "metadata": {},
   "source": [
    "<div align=\"center\"><b>------------------------------------------------------------------------------------------------------------------------------------------------------------------------------------------------</b></div>"
   ]
  },
  {
   "cell_type": "markdown",
   "metadata": {},
   "source": [
    "#### Segment summary"
   ]
  },
  {
   "cell_type": "code",
   "execution_count": 49,
   "metadata": {},
   "outputs": [
    {
     "data": {
      "text/html": [
       "<table>\n",
       "<caption>A data.frame: 4 × 7</caption>\n",
       "<thead>\n",
       "\t<tr><th scope=col>Group.1</th><th scope=col>age</th><th scope=col>income</th><th scope=col>kids</th><th scope=col>male</th><th scope=col>ownHome</th><th scope=col>subscribe</th></tr>\n",
       "\t<tr><th scope=col>&lt;int&gt;</th><th scope=col>&lt;dbl&gt;</th><th scope=col>&lt;dbl&gt;</th><th scope=col>&lt;dbl&gt;</th><th scope=col>&lt;dbl&gt;</th><th scope=col>&lt;dbl&gt;</th><th scope=col>&lt;dbl&gt;</th></tr>\n",
       "</thead>\n",
       "<tbody>\n",
       "\t<tr><td>1</td><td>40.78456</td><td>49454.08</td><td>1.314516</td><td>1.0000000</td><td>0.4677419</td><td>0</td></tr>\n",
       "\t<tr><td>2</td><td>42.03492</td><td>53759.62</td><td>1.235294</td><td>0.0000000</td><td>0.4779412</td><td>0</td></tr>\n",
       "\t<tr><td>3</td><td>44.31194</td><td>52628.42</td><td>1.388889</td><td>0.3888889</td><td>1.0000000</td><td>1</td></tr>\n",
       "\t<tr><td>4</td><td>35.82935</td><td>40456.14</td><td>1.136364</td><td>0.5454545</td><td>0.0000000</td><td>1</td></tr>\n",
       "</tbody>\n",
       "</table>\n"
      ],
      "text/latex": [
       "A data.frame: 4 × 7\n",
       "\\begin{tabular}{lllllll}\n",
       " Group.1 & age & income & kids & male & ownHome & subscribe\\\\\n",
       " <int> & <dbl> & <dbl> & <dbl> & <dbl> & <dbl> & <dbl>\\\\\n",
       "\\hline\n",
       "\t 1 & 40.78456 & 49454.08 & 1.314516 & 1.0000000 & 0.4677419 & 0\\\\\n",
       "\t 2 & 42.03492 & 53759.62 & 1.235294 & 0.0000000 & 0.4779412 & 0\\\\\n",
       "\t 3 & 44.31194 & 52628.42 & 1.388889 & 0.3888889 & 1.0000000 & 1\\\\\n",
       "\t 4 & 35.82935 & 40456.14 & 1.136364 & 0.5454545 & 0.0000000 & 1\\\\\n",
       "\\end{tabular}\n"
      ],
      "text/markdown": [
       "\n",
       "A data.frame: 4 × 7\n",
       "\n",
       "| Group.1 &lt;int&gt; | age &lt;dbl&gt; | income &lt;dbl&gt; | kids &lt;dbl&gt; | male &lt;dbl&gt; | ownHome &lt;dbl&gt; | subscribe &lt;dbl&gt; |\n",
       "|---|---|---|---|---|---|---|\n",
       "| 1 | 40.78456 | 49454.08 | 1.314516 | 1.0000000 | 0.4677419 | 0 |\n",
       "| 2 | 42.03492 | 53759.62 | 1.235294 | 0.0000000 | 0.4779412 | 0 |\n",
       "| 3 | 44.31194 | 52628.42 | 1.388889 | 0.3888889 | 1.0000000 | 1 |\n",
       "| 4 | 35.82935 | 40456.14 | 1.136364 | 0.5454545 | 0.0000000 | 1 |\n",
       "\n"
      ],
      "text/plain": [
       "  Group.1 age      income   kids     male      ownHome   subscribe\n",
       "1 1       40.78456 49454.08 1.314516 1.0000000 0.4677419 0        \n",
       "2 2       42.03492 53759.62 1.235294 0.0000000 0.4779412 0        \n",
       "3 3       44.31194 52628.42 1.388889 0.3888889 1.0000000 1        \n",
       "4 4       35.82935 40456.14 1.136364 0.5454545 0.0000000 1        "
      ]
     },
     "metadata": {},
     "output_type": "display_data"
    }
   ],
   "source": [
    "# Mean factor value for each segment\n",
    "seg_summ(dfn, clust_hc_segments)"
   ]
  },
  {
   "cell_type": "markdown",
   "metadata": {},
   "source": [
    "<div class=\"alert alert-block alert-info\">\n",
    "We can see that groups 1 and 2 represent non-subscribers that have been divided along the lines of gender.<br>\n",
    "Groups 3 and 4 contain subscribers and have been segregated into home owners and renters.<br>\n",
    "These results are not very nuanced or insightful.\n",
    "</div>"
   ]
  },
  {
   "cell_type": "code",
   "execution_count": 50,
   "metadata": {},
   "outputs": [
    {
     "data": {
      "image/png": "[encoded data removed]",
      "text/plain": [
       "plot without title"
      ]
     },
     "metadata": {
      "image/png": {
       "height": 360,
       "width": 360
      }
     },
     "output_type": "display_data"
    }
   ],
   "source": [
    "# Plotting segments\n",
    "plot_pars(6,6)\n",
    "plot(jitter(dfn$male) ~ jitter(dfn$subscribe), \n",
    "     col=clust_hc_segments, yaxt='n', xaxt='n', ylab='', xlab='')\n",
    "# jitter adds a bit of noise to coordinates to prevent them from being plotted over one another\n",
    "axis(1, at=c(0,1), labels=c('Subscribe : No', 'Subscribe : Yes'))\n",
    "axis(2, at=c(0,1), labels=c('Female','Male'))"
   ]
  },
  {
   "cell_type": "markdown",
   "metadata": {},
   "source": [
    "<div class=\"alert alert-block alert-info\">\n",
    "The reason for such simple and uninteresting results from hierarchical clustering could be the rescaling done on the categorical columns.\n",
    "In the dataset, we had only binary categorical variables, that were rescaled to [0,1], which made the two-category factors (gender, ownHome, subscribe) more influential.<br>\n",
    "We need to try other methods.\n",
    "</div>"
   ]
  },
  {
   "cell_type": "markdown",
   "metadata": {},
   "source": [
    "[go to toc](#index)"
   ]
  },
  {
   "cell_type": "markdown",
   "metadata": {},
   "source": [
    "<div align=\"center\"><b>------------------------------------------------------------------------------------------------------------------------------------------------------------------------------------------------</b></div>"
   ]
  },
  {
   "cell_type": "markdown",
   "metadata": {},
   "source": [
    "### c) Model-based clustering"
   ]
  },
  {
   "cell_type": "markdown",
   "metadata": {},
   "source": [
    "The key idea for model-based clustering is that observations come from groups with different statistical distributions (such as different means and variances). \n",
    "The algorithms try to find the best set of such underlying distributions to explain the observed data.\n",
    "\n",
    "Such models are also known as \"mixture models\" because it is assumed that the data reflect a mixture of observations drawn from different populations, although we don’t know which population each observation was drawn from. \n",
    "We are trying to estimate the underlying population parameters and the mixture proportion."
   ]
  },
  {
   "cell_type": "markdown",
   "metadata": {},
   "source": [
    "<b>Gaussian Mixture Model</b><br>\n",
    "It is presumed that the clusters come from different distributions but all of them are gaussian or normal distributions.\n",
    "The algorithm used below (Mclust) assumes a Gaussian Mixture Model."
   ]
  },
  {
   "cell_type": "code",
   "execution_count": 51,
   "metadata": {},
   "outputs": [
    {
     "name": "stderr",
     "output_type": "stream",
     "text": [
      "Warning message:\n",
      "\"package 'mclust' was built under R version 4.0.4\"\n"
     ]
    }
   ],
   "source": [
    "suppressPackageStartupMessages(library(mclust))"
   ]
  },
  {
   "cell_type": "code",
   "execution_count": 52,
   "metadata": {},
   "outputs": [
    {
     "data": {
      "text/plain": [
       "Bayesian Information Criterion (BIC): \n",
       "        EII       VII       EEI       VEI       EVI       VVI       EEE\n",
       "1 -37594.16 -37594.16 -11369.71 -11369.71 -11369.71 -11369.71 -11261.94\n",
       "2 -36337.62 -36278.17 -11312.03 -11228.35        NA        NA -11302.11\n",
       "3 -35132.35 -34841.45        NA -10822.91        NA        NA        NA\n",
       "4 -34321.30 -33902.19        NA        NA        NA        NA        NA\n",
       "5 -33743.24 -33687.95        NA        NA        NA        NA        NA\n",
       "6 -33351.92 -32949.37        NA        NA        NA        NA        NA\n",
       "7 -33082.08 -32531.97        NA        NA        NA        NA        NA\n",
       "8 -32609.96 -32158.18        NA        NA        NA        NA        NA\n",
       "9 -32460.92 -31904.89        NA        NA        NA        NA        NA\n",
       "        VEE       EVE       VVE       EEV       VEV       EVV       VVV\n",
       "1 -11261.94 -11261.94 -11261.94 -11261.94 -11261.94 -11261.94 -11261.94\n",
       "2        NA        NA        NA -11293.12 -11174.77        NA        NA\n",
       "3        NA        NA        NA        NA -10690.59        NA        NA\n",
       "4        NA        NA        NA        NA        NA        NA        NA\n",
       "5        NA        NA        NA        NA        NA        NA        NA\n",
       "6        NA        NA        NA        NA        NA        NA        NA\n",
       "7        NA        NA        NA        NA        NA        NA        NA\n",
       "8        NA        NA        NA        NA        NA        NA        NA\n",
       "9        NA        NA        NA        NA        NA        NA        NA\n",
       "\n",
       "Top 3 models based on the BIC criterion: \n",
       "    VEV,3     VEI,3     VEV,2 \n",
       "-10690.59 -10822.91 -11174.77 "
      ]
     },
     "metadata": {},
     "output_type": "display_data"
    }
   ],
   "source": [
    "mclustBIC(dfn)"
   ]
  },
  {
   "cell_type": "code",
   "execution_count": 53,
   "metadata": {},
   "outputs": [
    {
     "data": {
      "text/plain": [
       "---------------------------------------------------- \n",
       "Gaussian finite mixture model fitted by EM algorithm \n",
       "---------------------------------------------------- \n",
       "\n",
       "Mclust VEV (ellipsoidal, equal shape) model with 3 components: \n",
       "\n",
       " log-likelihood   n df       BIC       ICL\n",
       "      -5137.106 300 73 -10690.59 -10690.59\n",
       "\n",
       "Clustering table:\n",
       "  1   2   3 \n",
       "163  71  66 "
      ]
     },
     "metadata": {},
     "output_type": "display_data"
    }
   ],
   "source": [
    "clust_mc = Mclust(dfn)\n",
    "summary(clust_mc)"
   ]
  },
  {
   "cell_type": "markdown",
   "metadata": {},
   "source": [
    "<div class=\"alert alert-block alert-info\">\n",
    "The Mclust result tells us that the data is best described as being sampled from 3 different normal distributions.<br>\n",
    "We also see log-likelihood information, which we can use to compare models.<br>\n",
    "We will force a 4 cluster solution to the Mclust algorithm and then compare the two models.\n",
    "</div>"
   ]
  },
  {
   "cell_type": "code",
   "execution_count": 54,
   "metadata": {},
   "outputs": [
    {
     "data": {
      "text/plain": [
       "---------------------------------------------------- \n",
       "Gaussian finite mixture model fitted by EM algorithm \n",
       "---------------------------------------------------- \n",
       "\n",
       "Mclust VII (spherical, varying volume) model with 4 components: \n",
       "\n",
       " log-likelihood   n df       BIC       ICL\n",
       "      -16862.69 300 31 -33902.19 -33906.18\n",
       "\n",
       "Clustering table:\n",
       "  1   2   3   4 \n",
       "104  66  59  71 "
      ]
     },
     "metadata": {},
     "output_type": "display_data"
    }
   ],
   "source": [
    "clust_mc4 = Mclust(dfn, G=4)\n",
    "summary(clust_mc4)"
   ]
  },
  {
   "cell_type": "markdown",
   "metadata": {},
   "source": [
    "#### Comparing Models with BIC\n",
    "Bayesian Information Criterion (BIC) is a criterion for model selection among a finite set of models; the model with the lowest BIC is preferred."
   ]
  },
  {
   "cell_type": "markdown",
   "metadata": {},
   "source": [
    "<div align='center'><b>Interpretation of BIC when comparing 2 models</b></div>\n",
    "$$\n",
    "\\begin{array}{l|l|l}\n",
    "\\hline \\text { BIC difference } & \\text { Odds of model superiority } & \\text { Strength of the evidence } \\\\\n",
    "\\hline 0-2 & 50-75 \\% & \\text { Weak } \\\\\n",
    "\\hline 2-6 & 75-95 \\% & \\text { Positive } \\\\\n",
    "\\hline 6-10 & 95-99 \\% & \\text { Strong } \\\\\n",
    "\\hline>10 & >99 \\% & \\text { Very strong } \\\\\n",
    "\\hline\n",
    "\\end{array}\n",
    "$$"
   ]
  },
  {
   "cell_type": "code",
   "execution_count": 55,
   "metadata": {},
   "outputs": [
    {
     "data": {
      "text/html": [
       "<table>\n",
       "<caption>A data.frame: 2 × 2</caption>\n",
       "<thead>\n",
       "\t<tr><th></th><th scope=col>df</th><th scope=col>BIC</th></tr>\n",
       "\t<tr><th></th><th scope=col>&lt;dbl&gt;</th><th scope=col>&lt;dbl&gt;</th></tr>\n",
       "</thead>\n",
       "<tbody>\n",
       "\t<tr><th scope=row>clust_mc</th><td>73</td><td>10690.59</td></tr>\n",
       "\t<tr><th scope=row>clust_mc4</th><td>31</td><td>33902.19</td></tr>\n",
       "</tbody>\n",
       "</table>\n"
      ],
      "text/latex": [
       "A data.frame: 2 × 2\n",
       "\\begin{tabular}{r|ll}\n",
       "  & df & BIC\\\\\n",
       "  & <dbl> & <dbl>\\\\\n",
       "\\hline\n",
       "\tclust\\_mc & 73 & 10690.59\\\\\n",
       "\tclust\\_mc4 & 31 & 33902.19\\\\\n",
       "\\end{tabular}\n"
      ],
      "text/markdown": [
       "\n",
       "A data.frame: 2 × 2\n",
       "\n",
       "| <!--/--> | df &lt;dbl&gt; | BIC &lt;dbl&gt; |\n",
       "|---|---|---|\n",
       "| clust_mc | 73 | 10690.59 |\n",
       "| clust_mc4 | 31 | 33902.19 |\n",
       "\n"
      ],
      "text/plain": [
       "          df BIC     \n",
       "clust_mc  73 10690.59\n",
       "clust_mc4 31 33902.19"
      ]
     },
     "metadata": {},
     "output_type": "display_data"
    }
   ],
   "source": [
    "BIC(clust_mc, clust_mc4)"
   ]
  },
  {
   "cell_type": "markdown",
   "metadata": {},
   "source": [
    "<div class=\"alert alert-block alert-info\">\n",
    "    The 3 cluster model (BIC=10690) is a much better fit to the gaussian mixture assumption, than the 4 cluster model (BIC=33902) because it has a lower BIC value.<br>\n",
    "    However, that doesn't mean that the 3 cluster model is more correct. \n",
    "    It only means, that between the two models, the 3 cluster solution has much stronger evidence based on the data.<br>\n",
    "    But which model provides more useful insight?\n",
    "</div>"
   ]
  },
  {
   "cell_type": "code",
   "execution_count": 56,
   "metadata": {},
   "outputs": [
    {
     "data": {
      "text/html": [
       "<table>\n",
       "<caption>A data.frame: 3 × 7</caption>\n",
       "<thead>\n",
       "\t<tr><th scope=col>Group.1</th><th scope=col>age</th><th scope=col>income</th><th scope=col>kids</th><th scope=col>male</th><th scope=col>ownHome</th><th scope=col>subscribe</th></tr>\n",
       "\t<tr><th scope=col>&lt;dbl&gt;</th><th scope=col>&lt;dbl&gt;</th><th scope=col>&lt;dbl&gt;</th><th scope=col>&lt;dbl&gt;</th><th scope=col>&lt;dbl&gt;</th><th scope=col>&lt;dbl&gt;</th><th scope=col>&lt;dbl&gt;</th></tr>\n",
       "</thead>\n",
       "<tbody>\n",
       "\t<tr><td>1</td><td>44.68018</td><td>52980.52</td><td>1.171779</td><td>0.4723926</td><td>0.8650307</td><td>0.2453988</td></tr>\n",
       "\t<tr><td>2</td><td>38.02229</td><td>51550.98</td><td>1.422535</td><td>0.0000000</td><td>0.0000000</td><td>0.0000000</td></tr>\n",
       "\t<tr><td>3</td><td>36.02187</td><td>45227.51</td><td>1.348485</td><td>1.0000000</td><td>0.0000000</td><td>0.0000000</td></tr>\n",
       "</tbody>\n",
       "</table>\n"
      ],
      "text/latex": [
       "A data.frame: 3 × 7\n",
       "\\begin{tabular}{lllllll}\n",
       " Group.1 & age & income & kids & male & ownHome & subscribe\\\\\n",
       " <dbl> & <dbl> & <dbl> & <dbl> & <dbl> & <dbl> & <dbl>\\\\\n",
       "\\hline\n",
       "\t 1 & 44.68018 & 52980.52 & 1.171779 & 0.4723926 & 0.8650307 & 0.2453988\\\\\n",
       "\t 2 & 38.02229 & 51550.98 & 1.422535 & 0.0000000 & 0.0000000 & 0.0000000\\\\\n",
       "\t 3 & 36.02187 & 45227.51 & 1.348485 & 1.0000000 & 0.0000000 & 0.0000000\\\\\n",
       "\\end{tabular}\n"
      ],
      "text/markdown": [
       "\n",
       "A data.frame: 3 × 7\n",
       "\n",
       "| Group.1 &lt;dbl&gt; | age &lt;dbl&gt; | income &lt;dbl&gt; | kids &lt;dbl&gt; | male &lt;dbl&gt; | ownHome &lt;dbl&gt; | subscribe &lt;dbl&gt; |\n",
       "|---|---|---|---|---|---|---|\n",
       "| 1 | 44.68018 | 52980.52 | 1.171779 | 0.4723926 | 0.8650307 | 0.2453988 |\n",
       "| 2 | 38.02229 | 51550.98 | 1.422535 | 0.0000000 | 0.0000000 | 0.0000000 |\n",
       "| 3 | 36.02187 | 45227.51 | 1.348485 | 1.0000000 | 0.0000000 | 0.0000000 |\n",
       "\n"
      ],
      "text/plain": [
       "  Group.1 age      income   kids     male      ownHome   subscribe\n",
       "1 1       44.68018 52980.52 1.171779 0.4723926 0.8650307 0.2453988\n",
       "2 2       38.02229 51550.98 1.422535 0.0000000 0.0000000 0.0000000\n",
       "3 3       36.02187 45227.51 1.348485 1.0000000 0.0000000 0.0000000"
      ]
     },
     "metadata": {},
     "output_type": "display_data"
    }
   ],
   "source": [
    "seg_summ(dfn, clust_mc$classification)"
   ]
  },
  {
   "cell_type": "markdown",
   "metadata": {},
   "source": [
    "<div class=\"alert alert-block alert-info\">\n",
    "    Age, income and kids don't vary much.<br>\n",
    "    Group 2 is all-female, while 3 is all-male.<br>\n",
    "    Groups 2 and 3 are renters and non-subscibers.<br><br>\n",
    "    Finding clusters with distinct subscription behaviour can be useful for identifying groups to approach or avoid because of their low subsciption numbers.\n",
    "    But looking at the non-subsciber clusters, the only significant distinction we get between the 2 is in gender. \n",
    "    Other variables have similar mean values.<br>\n",
    "    The clusterization seems to highlight them as merely subscribers and non-subscibers, not as actionable results.\n",
    "</div>"
   ]
  },
  {
   "cell_type": "code",
   "execution_count": 57,
   "metadata": {},
   "outputs": [
    {
     "data": {
      "image/png": "[encoded data removed]",
      "text/plain": [
       "Plot with title \"CLUSPLOT( df )\""
      ]
     },
     "metadata": {
      "image/png": {
       "height": 360,
       "width": 480
      }
     },
     "output_type": "display_data"
    }
   ],
   "source": [
    "# Plot of first 2 principal components of the predictors\n",
    "plot_pars(8,6)\n",
    "clusplot(df, clust_mc$classification, color=T, shade=T, labels=4, lines=0)"
   ]
  },
  {
   "cell_type": "markdown",
   "metadata": {},
   "source": [
    "<div class=\"alert alert-block alert-info\">\n",
    "    The clusplot exhibits a great degree of overlap.<br> \n",
    "    The 3 cluster solution has not made enough distinction in the sample.\n",
    "</div>"
   ]
  },
  {
   "cell_type": "markdown",
   "metadata": {},
   "source": [
    "[go to toc](#index)"
   ]
  },
  {
   "cell_type": "markdown",
   "metadata": {},
   "source": [
    "<div align=\"center\"><b>------------------------------------------------------------------------------------------------------------------------------------------------------------------------------------------------</b></div>"
   ]
  },
  {
   "cell_type": "markdown",
   "metadata": {},
   "source": [
    "### d) Latent Class Analysis"
   ]
  },
  {
   "cell_type": "markdown",
   "metadata": {},
   "source": [
    "A latent class model (LCM) relates a set of observed (usually discrete) multivariate variables to a set of latent variables. [(wiki)](https://en.wikipedia.org/wiki/Latent_class_model)<br>\n",
    "Latent variables are variables that are not directly observed but have been inferred from other variables that have been observed.  \n",
    "\n",
    "Latent class analysis (LCA) is used to find groups or subtypes of cases in multivariate categorical data and is similar to mixture modeling in the assumption that differences are attributable to unobserved groups that one wishes to uncover. \n",
    "\n",
    "But since LCA can be done on categorical variables only, we'll need to convert our numeric variables into categories. \n",
    "One of the ways to do that is simply recode the numerical column as binary with regards to a specified cutting point.<br>\n",
    "\n",
    "Here, we will use median as the cutoff point."
   ]
  },
  {
   "cell_type": "markdown",
   "metadata": {},
   "source": [
    "#### Convert numerical variables to categorical"
   ]
  },
  {
   "cell_type": "code",
   "execution_count": 58,
   "metadata": {},
   "outputs": [
    {
     "data": {
      "text/html": [
       "<table>\n",
       "<caption>A data.frame: 4 × 6</caption>\n",
       "<thead>\n",
       "\t<tr><th></th><th scope=col>age</th><th scope=col>gender</th><th scope=col>income</th><th scope=col>kids</th><th scope=col>ownHome</th><th scope=col>subscribe</th></tr>\n",
       "\t<tr><th></th><th scope=col>&lt;fct&gt;</th><th scope=col>&lt;fct&gt;</th><th scope=col>&lt;fct&gt;</th><th scope=col>&lt;fct&gt;</th><th scope=col>&lt;fct&gt;</th><th scope=col>&lt;fct&gt;</th></tr>\n",
       "</thead>\n",
       "<tbody>\n",
       "\t<tr><th scope=row>1</th><td>2</td><td>Male  </td><td>1</td><td>2</td><td>ownNo </td><td>subNo</td></tr>\n",
       "\t<tr><th scope=row>2</th><td>1</td><td>Male  </td><td>1</td><td>2</td><td>ownYes</td><td>subNo</td></tr>\n",
       "\t<tr><th scope=row>3</th><td>2</td><td>Male  </td><td>1</td><td>1</td><td>ownYes</td><td>subNo</td></tr>\n",
       "\t<tr><th scope=row>4</th><td>1</td><td>Female</td><td>2</td><td>2</td><td>ownNo </td><td>subNo</td></tr>\n",
       "</tbody>\n",
       "</table>\n"
      ],
      "text/latex": [
       "A data.frame: 4 × 6\n",
       "\\begin{tabular}{r|llllll}\n",
       "  & age & gender & income & kids & ownHome & subscribe\\\\\n",
       "  & <fct> & <fct> & <fct> & <fct> & <fct> & <fct>\\\\\n",
       "\\hline\n",
       "\t1 & 2 & Male   & 1 & 2 & ownNo  & subNo\\\\\n",
       "\t2 & 1 & Male   & 1 & 2 & ownYes & subNo\\\\\n",
       "\t3 & 2 & Male   & 1 & 1 & ownYes & subNo\\\\\n",
       "\t4 & 1 & Female & 2 & 2 & ownNo  & subNo\\\\\n",
       "\\end{tabular}\n"
      ],
      "text/markdown": [
       "\n",
       "A data.frame: 4 × 6\n",
       "\n",
       "| <!--/--> | age &lt;fct&gt; | gender &lt;fct&gt; | income &lt;fct&gt; | kids &lt;fct&gt; | ownHome &lt;fct&gt; | subscribe &lt;fct&gt; |\n",
       "|---|---|---|---|---|---|---|\n",
       "| 1 | 2 | Male   | 1 | 2 | ownNo  | subNo |\n",
       "| 2 | 1 | Male   | 1 | 2 | ownYes | subNo |\n",
       "| 3 | 2 | Male   | 1 | 1 | ownYes | subNo |\n",
       "| 4 | 1 | Female | 2 | 2 | ownNo  | subNo |\n",
       "\n"
      ],
      "text/plain": [
       "  age gender income kids ownHome subscribe\n",
       "1 2   Male   1      2    ownNo   subNo    \n",
       "2 1   Male   1      2    ownYes  subNo    \n",
       "3 2   Male   1      1    ownYes  subNo    \n",
       "4 1   Female 2      2    ownNo   subNo    "
      ]
     },
     "metadata": {},
     "output_type": "display_data"
    }
   ],
   "source": [
    "dfc = data.frame(df)\n",
    "dfc$age = factor(ifelse(df$age < median(df$age), 1, 2))\n",
    "dfc$income = factor(ifelse(df$income < median(df$income), 1, 2))\n",
    "dfc$kids = factor(ifelse(df$kids < median(df$kids), 1, 2))\n",
    "head(dfc, 4)"
   ]
  },
  {
   "cell_type": "code",
   "execution_count": 59,
   "metadata": {},
   "outputs": [
    {
     "data": {
      "text/plain": [
       " age        gender    income  kids      ownHome     subscribe  \n",
       " 1:150   Female:157   1:150   1:121   ownNo :159   subNo :260  \n",
       " 2:150   Male  :143   2:150   2:179   ownYes:141   subYes: 40  "
      ]
     },
     "metadata": {},
     "output_type": "display_data"
    }
   ],
   "source": [
    "summary(dfc)"
   ]
  },
  {
   "cell_type": "markdown",
   "metadata": {},
   "source": [
    "#### Model dependent variables wrt model intercepts"
   ]
  },
  {
   "cell_type": "code",
   "execution_count": 60,
   "metadata": {},
   "outputs": [
    {
     "name": "stderr",
     "output_type": "stream",
     "text": [
      "Warning message:\n",
      "\"package 'poLCA' was built under R version 4.0.4\"\n"
     ]
    }
   ],
   "source": [
    "suppressPackageStartupMessages(library(poLCA))"
   ]
  },
  {
   "cell_type": "code",
   "execution_count": 61,
   "metadata": {},
   "outputs": [],
   "source": [
    "# Model dependent variables wrt model intercepts\n",
    "seg_f = with(dfc, cbind (age , gender , income , kids , ownHome , subscribe ) ~ 1)"
   ]
  },
  {
   "cell_type": "code",
   "execution_count": 62,
   "metadata": {},
   "outputs": [
    {
     "name": "stdout",
     "output_type": "stream",
     "text": [
      "Conditional item response (column) probabilities,\n",
      " by outcome variable, for each class (row) \n",
      " \n",
      "$age\n",
      "               1      2\n",
      "class 1:  1.0000 0.0000\n",
      "class 2:  0.0000 1.0000\n",
      "class 3:  0.6555 0.3445\n",
      "\n",
      "$gender\n",
      "          Female   Male\n",
      "class 1:  0.4211 0.5789\n",
      "class 2:  0.4681 0.5319\n",
      "class 3:  0.6079 0.3921\n",
      "\n",
      "$income\n",
      "               1      2\n",
      "class 1:  1.0000 0.0000\n",
      "class 2:  0.3803 0.6197\n",
      "class 3:  0.3746 0.6254\n",
      "\n",
      "$kids\n",
      "               1      2\n",
      "class 1:  0.2818 0.7182\n",
      "class 2:  0.8065 0.1935\n",
      "class 3:  0.1575 0.8425\n",
      "\n",
      "$ownHome\n",
      "           ownNo ownYes\n",
      "class 1:  0.7289 0.2711\n",
      "class 2:  0.2338 0.7662\n",
      "class 3:  0.6638 0.3362\n",
      "\n",
      "$subscribe\n",
      "           subNo subYes\n",
      "class 1:  0.7496 0.2504\n",
      "class 2:  0.8948 0.1052\n",
      "class 3:  0.8960 0.1040\n",
      "\n",
      "Estimated class population shares \n",
      " 0.1974 0.341 0.4616 \n",
      " \n",
      "Predicted class memberships (by modal posterior prob.) \n",
      " 0.2333 0.3467 0.42 \n",
      " \n",
      "========================================================= \n",
      "Fit for 3 latent classes: \n",
      "========================================================= \n",
      "number of observations: 300 \n",
      "number of estimated parameters: 20 \n",
      "residual degrees of freedom: 43 \n",
      "maximum log-likelihood: -1092.345 \n",
      " \n",
      "AIC(3): 2224.691\n",
      "BIC(3): 2298.767\n",
      "G^2(3): 42.77441 (Likelihood ratio/deviance statistic) \n",
      "X^2(3): 38.47647 (Chi-square goodness of fit) \n",
      " \n",
      "Conditional item response (column) probabilities,\n",
      " by outcome variable, for each class (row) \n",
      " \n",
      "$age\n",
      "               1      2\n",
      "class 1:  0.6823 0.3177\n",
      "class 2:  0.0000 1.0000\n",
      "class 3:  1.0000 0.0000\n",
      "class 4:  1.0000 0.0000\n",
      "\n",
      "$gender\n",
      "          Female   Male\n",
      "class 1:  0.5853 0.4147\n",
      "class 2:  0.4810 0.5190\n",
      "class 3:  0.8466 0.1534\n",
      "class 4:  0.3277 0.6723\n",
      "\n",
      "$income\n",
      "               1      2\n",
      "class 1:  0.4137 0.5863\n",
      "class 2:  0.3701 0.6299\n",
      "class 3:  0.5850 0.4150\n",
      "class 4:  1.0000 0.0000\n",
      "\n",
      "$kids\n",
      "               1      2\n",
      "class 1:  0.0000 1.0000\n",
      "class 2:  0.8114 0.1886\n",
      "class 3:  1.0000 0.0000\n",
      "class 4:  0.2506 0.7494\n",
      "\n",
      "$ownHome\n",
      "           ownNo ownYes\n",
      "class 1:  0.6540 0.3460\n",
      "class 2:  0.2688 0.7312\n",
      "class 3:  0.6537 0.3463\n",
      "class 4:  0.7721 0.2279\n",
      "\n",
      "$subscribe\n",
      "           subNo subYes\n",
      "class 1:  0.8746 0.1254\n",
      "class 2:  0.8965 0.1035\n",
      "class 3:  1.0000 0.0000\n",
      "class 4:  0.7203 0.2797\n",
      "\n",
      "Estimated class population shares \n",
      " 0.4101 0.3697 0.0643 0.1559 \n",
      " \n",
      "Predicted class memberships (by modal posterior prob.) \n",
      " 0.41 0.3733 0.0667 0.15 \n",
      " \n",
      "========================================================= \n",
      "Fit for 4 latent classes: \n",
      "========================================================= \n",
      "number of observations: 300 \n",
      "number of estimated parameters: 27 \n",
      "residual degrees of freedom: 36 \n",
      "maximum log-likelihood: -1088.021 \n",
      " \n",
      "AIC(4): 2230.041\n",
      "BIC(4): 2330.043\n",
      "G^2(4): 34.12473 (Likelihood ratio/deviance statistic) \n",
      "X^2(4): 31.50696 (Chi-square goodness of fit) \n",
      " \n"
     ]
    }
   ],
   "source": [
    "# Create models with k=3 and k=4\n",
    "set.seed(02807)\n",
    "clust_lca3 = poLCA(seg_f, data=dfc, nclass=3)\n",
    "clust_lca4 = poLCA(seg_f, data=dfc, nclass=4)"
   ]
  },
  {
   "cell_type": "code",
   "execution_count": 63,
   "metadata": {
    "scrolled": false
   },
   "outputs": [
    {
     "data": {
      "text/html": [
       "2298.76661272514"
      ],
      "text/latex": [
       "2298.76661272514"
      ],
      "text/markdown": [
       "2298.76661272514"
      ],
      "text/plain": [
       "[1] 2298.767"
      ]
     },
     "metadata": {},
     "output_type": "display_data"
    },
    {
     "data": {
      "text/html": [
       "2330.04341046262"
      ],
      "text/latex": [
       "2330.04341046262"
      ],
      "text/markdown": [
       "2330.04341046262"
      ],
      "text/plain": [
       "[1] 2330.043"
      ]
     },
     "metadata": {},
     "output_type": "display_data"
    },
    {
     "data": {
      "text/html": [
       "31.2767977374792"
      ],
      "text/latex": [
       "31.2767977374792"
      ],
      "text/markdown": [
       "31.2767977374792"
      ],
      "text/plain": [
       "[1] 31.2768"
      ]
     },
     "metadata": {},
     "output_type": "display_data"
    }
   ],
   "source": [
    "# Compare BIC values\n",
    "clust_lca3$bic\n",
    "clust_lca4$bic\n",
    "\n",
    "clust_lca4$bic - clust_lca3$bic"
   ]
  },
  {
   "cell_type": "markdown",
   "metadata": {},
   "source": [
    "<div class=\"alert alert-block alert-info\">\n",
    "    The 3-cluster model shows a lower BIC by 32 and thus a substantially stronger fit to the data.\n",
    "</div>"
   ]
  },
  {
   "cell_type": "code",
   "execution_count": 64,
   "metadata": {},
   "outputs": [
    {
     "data": {
      "text/html": [
       "<table>\n",
       "<caption>A data.frame: 3 × 7</caption>\n",
       "<thead>\n",
       "\t<tr><th scope=col>Group.1</th><th scope=col>age</th><th scope=col>income</th><th scope=col>kids</th><th scope=col>male</th><th scope=col>ownHome</th><th scope=col>subscribe</th></tr>\n",
       "\t<tr><th scope=col>&lt;int&gt;</th><th scope=col>&lt;dbl&gt;</th><th scope=col>&lt;dbl&gt;</th><th scope=col>&lt;dbl&gt;</th><th scope=col>&lt;dbl&gt;</th><th scope=col>&lt;dbl&gt;</th><th scope=col>&lt;dbl&gt;</th></tr>\n",
       "</thead>\n",
       "<tbody>\n",
       "\t<tr><td>1</td><td>28.22385</td><td>30075.32</td><td>1.1285714</td><td>0.6857143</td><td>0.2857143</td><td>0.27142857</td></tr>\n",
       "\t<tr><td>2</td><td>54.44407</td><td>60082.47</td><td>0.3846154</td><td>0.5769231</td><td>0.7692308</td><td>0.10576923</td></tr>\n",
       "\t<tr><td>3</td><td>37.47652</td><td>54977.08</td><td>2.0793651</td><td>0.2777778</td><td>0.3253968</td><td>0.07936508</td></tr>\n",
       "</tbody>\n",
       "</table>\n"
      ],
      "text/latex": [
       "A data.frame: 3 × 7\n",
       "\\begin{tabular}{lllllll}\n",
       " Group.1 & age & income & kids & male & ownHome & subscribe\\\\\n",
       " <int> & <dbl> & <dbl> & <dbl> & <dbl> & <dbl> & <dbl>\\\\\n",
       "\\hline\n",
       "\t 1 & 28.22385 & 30075.32 & 1.1285714 & 0.6857143 & 0.2857143 & 0.27142857\\\\\n",
       "\t 2 & 54.44407 & 60082.47 & 0.3846154 & 0.5769231 & 0.7692308 & 0.10576923\\\\\n",
       "\t 3 & 37.47652 & 54977.08 & 2.0793651 & 0.2777778 & 0.3253968 & 0.07936508\\\\\n",
       "\\end{tabular}\n"
      ],
      "text/markdown": [
       "\n",
       "A data.frame: 3 × 7\n",
       "\n",
       "| Group.1 &lt;int&gt; | age &lt;dbl&gt; | income &lt;dbl&gt; | kids &lt;dbl&gt; | male &lt;dbl&gt; | ownHome &lt;dbl&gt; | subscribe &lt;dbl&gt; |\n",
       "|---|---|---|---|---|---|---|\n",
       "| 1 | 28.22385 | 30075.32 | 1.1285714 | 0.6857143 | 0.2857143 | 0.27142857 |\n",
       "| 2 | 54.44407 | 60082.47 | 0.3846154 | 0.5769231 | 0.7692308 | 0.10576923 |\n",
       "| 3 | 37.47652 | 54977.08 | 2.0793651 | 0.2777778 | 0.3253968 | 0.07936508 |\n",
       "\n"
      ],
      "text/plain": [
       "  Group.1 age      income   kids      male      ownHome   subscribe \n",
       "1 1       28.22385 30075.32 1.1285714 0.6857143 0.2857143 0.27142857\n",
       "2 2       54.44407 60082.47 0.3846154 0.5769231 0.7692308 0.10576923\n",
       "3 3       37.47652 54977.08 2.0793651 0.2777778 0.3253968 0.07936508"
      ]
     },
     "metadata": {},
     "output_type": "display_data"
    }
   ],
   "source": [
    "seg_summ(dfn, clust_lca3$predclass)"
   ]
  },
  {
   "cell_type": "code",
   "execution_count": 65,
   "metadata": {},
   "outputs": [
    {
     "data": {
      "text/html": [
       "<table>\n",
       "<caption>A data.frame: 4 × 7</caption>\n",
       "<thead>\n",
       "\t<tr><th scope=col>Group.1</th><th scope=col>age</th><th scope=col>income</th><th scope=col>kids</th><th scope=col>male</th><th scope=col>ownHome</th><th scope=col>subscribe</th></tr>\n",
       "\t<tr><th scope=col>&lt;int&gt;</th><th scope=col>&lt;dbl&gt;</th><th scope=col>&lt;dbl&gt;</th><th scope=col>&lt;dbl&gt;</th><th scope=col>&lt;dbl&gt;</th><th scope=col>&lt;dbl&gt;</th><th scope=col>&lt;dbl&gt;</th></tr>\n",
       "</thead>\n",
       "<tbody>\n",
       "\t<tr><td>1</td><td>36.62554</td><td>52080.13</td><td>2.1951220</td><td>0.3495935</td><td>0.34959350</td><td>0.11382114</td></tr>\n",
       "\t<tr><td>2</td><td>53.64073</td><td>60534.17</td><td>0.5178571</td><td>0.5357143</td><td>0.78571429</td><td>0.09821429</td></tr>\n",
       "\t<tr><td>3</td><td>30.22575</td><td>41361.81</td><td>0.0000000</td><td>0.0500000</td><td>0.35000000</td><td>0.00000000</td></tr>\n",
       "\t<tr><td>4</td><td>27.61506</td><td>28178.70</td><td>1.1777778</td><td>0.8666667</td><td>0.06666667</td><td>0.33333333</td></tr>\n",
       "</tbody>\n",
       "</table>\n"
      ],
      "text/latex": [
       "A data.frame: 4 × 7\n",
       "\\begin{tabular}{lllllll}\n",
       " Group.1 & age & income & kids & male & ownHome & subscribe\\\\\n",
       " <int> & <dbl> & <dbl> & <dbl> & <dbl> & <dbl> & <dbl>\\\\\n",
       "\\hline\n",
       "\t 1 & 36.62554 & 52080.13 & 2.1951220 & 0.3495935 & 0.34959350 & 0.11382114\\\\\n",
       "\t 2 & 53.64073 & 60534.17 & 0.5178571 & 0.5357143 & 0.78571429 & 0.09821429\\\\\n",
       "\t 3 & 30.22575 & 41361.81 & 0.0000000 & 0.0500000 & 0.35000000 & 0.00000000\\\\\n",
       "\t 4 & 27.61506 & 28178.70 & 1.1777778 & 0.8666667 & 0.06666667 & 0.33333333\\\\\n",
       "\\end{tabular}\n"
      ],
      "text/markdown": [
       "\n",
       "A data.frame: 4 × 7\n",
       "\n",
       "| Group.1 &lt;int&gt; | age &lt;dbl&gt; | income &lt;dbl&gt; | kids &lt;dbl&gt; | male &lt;dbl&gt; | ownHome &lt;dbl&gt; | subscribe &lt;dbl&gt; |\n",
       "|---|---|---|---|---|---|---|\n",
       "| 1 | 36.62554 | 52080.13 | 2.1951220 | 0.3495935 | 0.34959350 | 0.11382114 |\n",
       "| 2 | 53.64073 | 60534.17 | 0.5178571 | 0.5357143 | 0.78571429 | 0.09821429 |\n",
       "| 3 | 30.22575 | 41361.81 | 0.0000000 | 0.0500000 | 0.35000000 | 0.00000000 |\n",
       "| 4 | 27.61506 | 28178.70 | 1.1777778 | 0.8666667 | 0.06666667 | 0.33333333 |\n",
       "\n"
      ],
      "text/plain": [
       "  Group.1 age      income   kids      male      ownHome    subscribe \n",
       "1 1       36.62554 52080.13 2.1951220 0.3495935 0.34959350 0.11382114\n",
       "2 2       53.64073 60534.17 0.5178571 0.5357143 0.78571429 0.09821429\n",
       "3 3       30.22575 41361.81 0.0000000 0.0500000 0.35000000 0.00000000\n",
       "4 4       27.61506 28178.70 1.1777778 0.8666667 0.06666667 0.33333333"
      ]
     },
     "metadata": {},
     "output_type": "display_data"
    }
   ],
   "source": [
    "seg_summ(dfn, clust_lca4$predclass)"
   ]
  },
  {
   "cell_type": "code",
   "execution_count": 66,
   "metadata": {},
   "outputs": [
    {
     "data": {
      "image/png": "[encoded data removed]",
      "text/plain": [
       "Plot with title \"CLUSPLOT( df )\""
      ]
     },
     "metadata": {
      "image/png": {
       "height": 420,
       "width": 1020
      }
     },
     "output_type": "display_data"
    }
   ],
   "source": [
    "par(mfrow=c(1,2))\n",
    "plot_pars(17, 7)\n",
    "clusplot(df, clust_lca3$predclass, color=T, shade=T, labels=4, lines=0)\n",
    "clusplot(df, clust_lca4$predclass, color=T, shade=T, labels=4, lines=0)"
   ]
  },
  {
   "cell_type": "markdown",
   "metadata": {},
   "source": [
    "<div class=\"alert alert-block alert-info\">\n",
    "    There is variation across groups in both the 3 segment and 4 segment solutions.<br><br>\n",
    "    <b>Does the additional group in the 4-cluster solution add anything to our interpretation?</b><br>\n",
    "    One argument in favor of the 4-cluster solution is that Group 3 has no subscribers and is relatively well-identified (mostly younger women with no kids) that might make it an appealing group either for targeting or exclusion, depending on one’s strategy.<br>\n",
    "    In either case, for these data the differentiation appears to be clearer than the solutions we found above with Mclust; this demonstrates the value of trying multiple approaches.\n",
    "</div>"
   ]
  },
  {
   "cell_type": "markdown",
   "metadata": {},
   "source": [
    "[go to toc](#index)"
   ]
  },
  {
   "cell_type": "markdown",
   "metadata": {},
   "source": [
    "<div align=\"center\"><b>------------------------------------------------------------------------------------------------------------------------------------------------------------------------------------------------</b></div>"
   ]
  },
  {
   "cell_type": "markdown",
   "metadata": {},
   "source": [
    "## 7) Comparing Cluster Solutions"
   ]
  },
  {
   "cell_type": "markdown",
   "metadata": {},
   "source": [
    "Given that we know the real group membership (`y = dfo['Segment']`), how does it compare to clustering method's results?<br>\n",
    "\n",
    "The answer is not as simple as counting agreement. There are 2 reasons for that:<br>\n",
    "    1) It is not obvious how to match one cluster solution to another because the order of group labels is arbitrary. Group 1 under 1 method might appear as group 3 under another.<br>\n",
    "    2) Second, if we solve the matching problem we still need to adjust for chance agreement.\n",
    "    Is an agreement rate of 90% good? It depends on the base rate. If base rate is 50% (like gender ratio in the world), then 90% accuracy is much better than chance (50%). If base rate is 99%+ (Japanese speakers in Japan), then 90% accuracy is terrible."
   ]
  },
  {
   "cell_type": "markdown",
   "metadata": {},
   "source": [
    "The mclust package provides tools to solve both issues.\n",
    "1) `mapclass()` &rarr; solves the matching problem by selecting a mapping that maximizes agreement between the two assignment schemes.<br>\n",
    "2) `adjustedRandIndex()` matches two assignment schemes and then computes the degree of agreement over and above what might be attributed to \"chance\" by simply assigning all observations to the largest group. Its magnitude may be interpreted similarly to a standard r correlation coefficient."
   ]
  },
  {
   "cell_type": "markdown",
   "metadata": {},
   "source": [
    "#### LCA3 vs LCA4"
   ]
  },
  {
   "cell_type": "code",
   "execution_count": 67,
   "metadata": {},
   "outputs": [
    {
     "data": {
      "text/plain": [
       "\n",
       " 1  3  4 \n",
       "13 12 45 "
      ]
     },
     "metadata": {},
     "output_type": "display_data"
    },
    {
     "data": {
      "text/plain": [
       "   \n",
       "      1   2   3   4\n",
       "  1  13   0  12  45\n",
       "  2   0 104   0   0\n",
       "  3 110   8   8   0"
      ]
     },
     "metadata": {},
     "output_type": "display_data"
    }
   ],
   "source": [
    "# Assignments in lca4 where lca3 class is 1\n",
    "table(clust_lca4$predclass[clust_lca3$predclass == 1])\n",
    "\n",
    "# When above is implemented for all classes in lca4\n",
    "table(clust_lca3$predclass, clust_lca4$predclass)"
   ]
  },
  {
   "cell_type": "markdown",
   "metadata": {},
   "source": [
    "<div class=\"alert alert-block alert-info\">\n",
    "From the table it would appear that :<br>\n",
    "- group 1 of lca4 finds most agreement with lca3's group 1 (110 common).<br>\n",
    "- group 2 of lca4 finds most agreement with lca3's group 2 (104 common).<br>\n",
    "- group 1 of lca3 has been split between groups 1, 2 and 3 of lca4.<br>\n",
    "\n",
    "However, matching groups manually is sometimes unclear and generally error-prone.<br>\n",
    "Instead we will use `mapclass` and `adjustedRandIndex`.\n",
    "</div>"
   ]
  },
  {
   "cell_type": "code",
   "execution_count": 68,
   "metadata": {},
   "outputs": [
    {
     "data": {
      "text/html": [
       "<dl>\n",
       "\t<dt>$aTOb</dt>\n",
       "\t\t<dd><dl>\n",
       "\t<dt>$`1`</dt>\n",
       "\t\t<dd>4</dd>\n",
       "\t<dt>$`2`</dt>\n",
       "\t\t<dd>2</dd>\n",
       "\t<dt>$`3`</dt>\n",
       "\t\t<dd>1</dd>\n",
       "</dl>\n",
       "</dd>\n",
       "\t<dt>$bTOa</dt>\n",
       "\t\t<dd><dl>\n",
       "\t<dt>$`1`</dt>\n",
       "\t\t<dd>3</dd>\n",
       "\t<dt>$`2`</dt>\n",
       "\t\t<dd>2</dd>\n",
       "\t<dt>$`3`</dt>\n",
       "\t\t<dd>1</dd>\n",
       "\t<dt>$`4`</dt>\n",
       "\t\t<dd>1</dd>\n",
       "</dl>\n",
       "</dd>\n",
       "</dl>\n"
      ],
      "text/latex": [
       "\\begin{description}\n",
       "\\item[\\$aTOb] \\begin{description}\n",
       "\\item[\\$`1`] 4\n",
       "\\item[\\$`2`] 2\n",
       "\\item[\\$`3`] 1\n",
       "\\end{description}\n",
       "\n",
       "\\item[\\$bTOa] \\begin{description}\n",
       "\\item[\\$`1`] 3\n",
       "\\item[\\$`2`] 2\n",
       "\\item[\\$`3`] 1\n",
       "\\item[\\$`4`] 1\n",
       "\\end{description}\n",
       "\n",
       "\\end{description}\n"
      ],
      "text/markdown": [
       "$aTOb\n",
       ":   $`1`\n",
       ":   4\n",
       "$`2`\n",
       ":   2\n",
       "$`3`\n",
       ":   1\n",
       "\n",
       "\n",
       "\n",
       "$bTOa\n",
       ":   $`1`\n",
       ":   3\n",
       "$`2`\n",
       ":   2\n",
       "$`3`\n",
       ":   1\n",
       "$`4`\n",
       ":   1\n",
       "\n",
       "\n",
       "\n",
       "\n",
       "\n"
      ],
      "text/plain": [
       "$aTOb\n",
       "$aTOb$`1`\n",
       "[1] 4\n",
       "\n",
       "$aTOb$`2`\n",
       "[1] 2\n",
       "\n",
       "$aTOb$`3`\n",
       "[1] 1\n",
       "\n",
       "\n",
       "$bTOa\n",
       "$bTOa$`1`\n",
       "[1] 3\n",
       "\n",
       "$bTOa$`2`\n",
       "[1] 2\n",
       "\n",
       "$bTOa$`3`\n",
       "[1] 1\n",
       "\n",
       "$bTOa$`4`\n",
       "[1] 1\n",
       "\n"
      ]
     },
     "metadata": {},
     "output_type": "display_data"
    }
   ],
   "source": [
    "# Match classes\n",
    "mapClass(clust_lca3$predclass, clust_lca4$predclass)"
   ]
  },
  {
   "cell_type": "markdown",
   "metadata": {},
   "source": [
    "<div class=\"alert alert-block alert-info\">\n",
    "The above mapping tells us that:<br>\n",
    "3 and 4 of lca4 maps best to 1 of lca3.<br>\n",
    "1 of lca4 ~ 3 of lca3<br>\n",
    "2 of lca4 ~ 2 of lca3\n",
    "</div>"
   ]
  },
  {
   "cell_type": "code",
   "execution_count": 69,
   "metadata": {},
   "outputs": [
    {
     "data": {
      "text/html": [
       "0.728882247291894"
      ],
      "text/latex": [
       "0.728882247291894"
      ],
      "text/markdown": [
       "0.728882247291894"
      ],
      "text/plain": [
       "[1] 0.7288822"
      ]
     },
     "metadata": {},
     "output_type": "display_data"
    }
   ],
   "source": [
    "# Index of agreement between classes\n",
    "adjustedRandIndex(clust_lca3$predclass, clust_lca4$predclass)"
   ]
  },
  {
   "cell_type": "markdown",
   "metadata": {},
   "source": [
    "<div class=\"alert alert-block alert-info\">\n",
    "The adjusted Rand index of 0.729 indicates that the match between the two assignment lists is much better than chance.<br>\n",
    "From a business perspective, it also tells us that the 3-cluster and 4-cluster differ modestly from one another, which provides another perspective on choosing between them.\n",
    "\n",
    "A rand index near 0 would imply that the match between the clusters is no better than random chance.\n",
    "</div>"
   ]
  },
  {
   "cell_type": "markdown",
   "metadata": {},
   "source": [
    "#### LCA4 vs y"
   ]
  },
  {
   "cell_type": "code",
   "execution_count": 70,
   "metadata": {},
   "outputs": [
    {
     "data": {
      "text/plain": [
       "   \n",
       "    Moving up Suburb mix Travelers Urban hip\n",
       "  1        50         62         0        11\n",
       "  2         4         29        79         0\n",
       "  3         8          2         1         9\n",
       "  4         8          7         0        30"
      ]
     },
     "metadata": {},
     "output_type": "display_data"
    }
   ],
   "source": [
    "table(clust_lca4$predclass, unlist(y))"
   ]
  },
  {
   "cell_type": "code",
   "execution_count": 71,
   "metadata": {},
   "outputs": [
    {
     "data": {
      "text/html": [
       "0.351303067166982"
      ],
      "text/latex": [
       "0.351303067166982"
      ],
      "text/markdown": [
       "0.351303067166982"
      ],
      "text/plain": [
       "[1] 0.3513031"
      ]
     },
     "metadata": {},
     "output_type": "display_data"
    }
   ],
   "source": [
    "adjustedRandIndex(clust_lca4$predclass, unlist(y))"
   ]
  },
  {
   "cell_type": "markdown",
   "metadata": {},
   "source": [
    "<div class=\"alert alert-block alert-info\">\n",
    "    With a Rand index of 0.35, the LCA solution matches the true segment assignments moderately better than chance alone. <br><br>\n",
    "    In many cases, of course, one would not have identified clusters for comparison; but when they are available from other projects or previous efforts, it is helpful to examine correspondence in this way.\n",
    "</div>"
   ]
  },
  {
   "cell_type": "markdown",
   "metadata": {},
   "source": [
    "#### mclust segments vs y"
   ]
  },
  {
   "cell_type": "code",
   "execution_count": 72,
   "metadata": {},
   "outputs": [
    {
     "data": {
      "text/plain": [
       "   \n",
       "    Moving up Suburb mix Travelers Urban hip\n",
       "  1        32         50        63        18\n",
       "  2        28         22        10        11\n",
       "  3        10         28         7        21"
      ]
     },
     "metadata": {},
     "output_type": "display_data"
    },
    {
     "data": {
      "text/html": [
       "0.0511913310908333"
      ],
      "text/latex": [
       "0.0511913310908333"
      ],
      "text/markdown": [
       "0.0511913310908333"
      ],
      "text/plain": [
       "[1] 0.05119133"
      ]
     },
     "metadata": {},
     "output_type": "display_data"
    }
   ],
   "source": [
    "table(clust_mc$classification, unlist(y))\n",
    "adjustedRandIndex(clust_mc$classification, unlist(y))"
   ]
  },
  {
   "cell_type": "markdown",
   "metadata": {},
   "source": [
    "<div class=\"alert alert-block alert-info\">\n",
    "    Model segmentation is as good as random segmentation.\n",
    "</div>"
   ]
  },
  {
   "cell_type": "markdown",
   "metadata": {},
   "source": [
    "#### mclust4 segments vs y"
   ]
  },
  {
   "cell_type": "code",
   "execution_count": 73,
   "metadata": {},
   "outputs": [
    {
     "data": {
      "text/plain": [
       "   \n",
       "    Moving up Suburb mix Travelers Urban hip\n",
       "  1        42         43        19         0\n",
       "  2        12         20        34         0\n",
       "  3        13         30        16         0\n",
       "  4         3          7        11        50"
      ]
     },
     "metadata": {},
     "output_type": "display_data"
    },
    {
     "data": {
      "text/html": [
       "0.187614701311653"
      ],
      "text/latex": [
       "0.187614701311653"
      ],
      "text/markdown": [
       "0.187614701311653"
      ],
      "text/plain": [
       "[1] 0.1876147"
      ]
     },
     "metadata": {},
     "output_type": "display_data"
    }
   ],
   "source": [
    "table(clust_mc4$classification, unlist(y))\n",
    "adjustedRandIndex(clust_mc4$classification, unlist(y))"
   ]
  },
  {
   "cell_type": "markdown",
   "metadata": {},
   "source": [
    "<div class=\"alert alert-block alert-info\">\n",
    "    Model segmentation is marginally better than random segmentation.\n",
    "</div>"
   ]
  },
  {
   "cell_type": "markdown",
   "metadata": {},
   "source": [
    "#### kmeans segments vs y"
   ]
  },
  {
   "cell_type": "code",
   "execution_count": 74,
   "metadata": {},
   "outputs": [
    {
     "data": {
      "text/plain": [
       "   \n",
       "    Moving up Suburb mix Travelers Urban hip\n",
       "  1         0          4        21         0\n",
       "  2         1          5         7        50\n",
       "  3        44         46        25         0\n",
       "  4        25         45        27         0"
      ]
     },
     "metadata": {},
     "output_type": "display_data"
    },
    {
     "data": {
      "text/html": [
       "0.205585430746059"
      ],
      "text/latex": [
       "0.205585430746059"
      ],
      "text/markdown": [
       "0.205585430746059"
      ],
      "text/plain": [
       "[1] 0.2055854"
      ]
     },
     "metadata": {},
     "output_type": "display_data"
    }
   ],
   "source": [
    "table(clust_k$cluster, unlist(y))\n",
    "adjustedRandIndex(clust_k$cluster, unlist(y))"
   ]
  },
  {
   "cell_type": "markdown",
   "metadata": {},
   "source": [
    "<div class=\"alert alert-block alert-info\">\n",
    "    Adjusted Rand Index of the Kmeans model (0.201) suggests there is a mild benefit of using the model over random chance segmentation.\n",
    "</div>"
   ]
  },
  {
   "cell_type": "markdown",
   "metadata": {},
   "source": [
    "#### heirarchical segments vs y"
   ]
  },
  {
   "cell_type": "code",
   "execution_count": 75,
   "metadata": {},
   "outputs": [
    {
     "data": {
      "text/plain": [
       "                 \n",
       "clust_hc_segments Moving up Suburb mix Travelers Urban hip\n",
       "                1        18         49        33        24\n",
       "                2        38         45        37        16\n",
       "                3         5          4         7         2\n",
       "                4         9          2         3         8"
      ]
     },
     "metadata": {},
     "output_type": "display_data"
    },
    {
     "data": {
      "text/html": [
       "0.0215209498050322"
      ],
      "text/latex": [
       "0.0215209498050322"
      ],
      "text/markdown": [
       "0.0215209498050322"
      ],
      "text/plain": [
       "[1] 0.02152095"
      ]
     },
     "metadata": {},
     "output_type": "display_data"
    }
   ],
   "source": [
    "table(clust_hc_segments, unlist(y))\n",
    "adjustedRandIndex(clust_hc_segments, unlist(y))"
   ]
  },
  {
   "cell_type": "markdown",
   "metadata": {},
   "source": [
    "<div class=\"alert alert-block alert-info\">\n",
    "    With and Adjusted Rand Index of 0.02, the Hierarchical Model segmentation is as good as random segmentation.\n",
    "</div>"
   ]
  },
  {
   "cell_type": "markdown",
   "metadata": {},
   "source": [
    "<div align=\"center\"><b>------------------------------------------------------------------------------------------------------------------------------------------------------------------------------------------------</b></div>"
   ]
  },
  {
   "cell_type": "markdown",
   "metadata": {},
   "source": [
    "## 8) Concluding summary"
   ]
  },
  {
   "cell_type": "markdown",
   "metadata": {},
   "source": [
    "Above we learned a few methods for identifying potential groups of observations in a data set.\n",
    "The problem of how to predict (classify) observations into groups after those groups have been defined, falls under classification.<br>\n",
    "\n",
    "<b>Two points that are crucial for success in segmentation projects :</b><br>\n",
    "1) Different methods are likely to yield different solutions, and in general there is no absolute “right” answer. We recommend to try multiple clustering methods with different potential numbers of clusters.<br>\n",
    "\n",
    "2) The results of segmentation are primarily about business value, and solutions should be evaluated in terms of both model fit (e.g., using BIC()) and business utility. Although model fit is an important criterion and should not be overlooked, it is ultimately necessary that an answer can be communicated to and used by stakeholders."
   ]
  },
  {
   "cell_type": "markdown",
   "metadata": {},
   "source": [
    "<div align=\"center\"><b>------------------------------------------------------------------------------------------------------------------------------------------------------------------------------------------------</b></div>"
   ]
  },
  {
   "cell_type": "markdown",
   "metadata": {},
   "source": [
    "[go to toc](#index)"
   ]
  },
  {
   "attachments": {},
   "cell_type": "markdown",
   "metadata": {},
   "source": [
    "<div align=\"center\"><b>-------------------------------------------- &ensp; <i>That's All Folks!</i> &ensp; --------------------------------------------</b></div>"
   ]
  }
 ],
 "metadata": {
  "kernelspec": {
   "display_name": "R",
   "language": "R",
   "name": "ir"
  },
  "language_info": {
   "codemirror_mode": "r",
   "file_extension": ".r",
   "mimetype": "text/x-r-source",
   "name": "R",
   "pygments_lexer": "r",
   "version": "4.0.3"
  },
  "toc": {
   "base_numbering": 1,
   "nav_menu": {},
   "number_sections": false,
   "sideBar": true,
   "skip_h1_title": true,
   "title_cell": "Table of Contents",
   "title_sidebar": "Contents",
   "toc_cell": false,
   "toc_position": {},
   "toc_section_display": true,
   "toc_window_display": true
  }
 },
 "nbformat": 4,
 "nbformat_minor": 4
}
