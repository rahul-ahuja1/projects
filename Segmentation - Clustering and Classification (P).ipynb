{
 "cells": [
  {
   "cell_type": "markdown",
   "metadata": {},
   "source": [
    "# Segmentation: Clustering and Classification"
   ]
  },
  {
   "cell_type": "markdown",
   "metadata": {},
   "source": [
    "<font size=4><b>Segmentation</b><br></font>\n",
    "Segmentation is the process of categorization of a target population into groups that can be differentiated from each other based on combinations of shared characteristics.\n",
    "It is a form of optimization and requires an iterative approach.\n",
    "\n",
    "<font size=4><b>Market Segmentation</b><br></font>\n",
    "One of the domains where segmentation is essential is in market segmentation, which allows companies to devise optimum marketing strategies. \n",
    "In a well-segmented market the smaller groups would appear homogeneous (relative to the overall market) in terms of consumption patterns, product interest, resonse to marketing efforts etc. \n",
    "\n",
    "A marketeer that understands the differences between segments will be able to make better strategic choices for product design, marketing budgets, product positioning and nuanced promotional efforts. \n",
    "However, the most difficult part in effective market segmentation is finding actionable results which would allow for differentiated actions in the real world.  \n",
    "\n",
    "Nevertheless, below is an effort to identify segments of customers for a subscription product."
   ]
  },
  {
   "cell_type": "markdown",
   "metadata": {},
   "source": [
    "<div align=\"center\"><b>------------------------------------------------------------------------------------------------------------------------------------------------------------------------------------------------</b></div>"
   ]
  },
  {
   "cell_type": "markdown",
   "metadata": {},
   "source": [
    "<a id='index'></a>\n",
    "## Index\n",
    "- [1) Import packages](#1%29-Import-packages)\n",
    "- [2) Pre-defined functions](#2%29-Pre-defined-functions)\n",
    "- [3) Load data](#3%29-Load-data)\n",
    "- [4) Preliminary data exploration](#4%29-Preliminary-data-exploration)\n",
    "- [5) Feature adjustments](#5%29-Feature-adjustments)\n",
    "    - [Convert categorical variables to numerical](#Convert-categorical-variables-to-numerical)\n",
    "    - [Standardize data](#Standardize-data)\n",
    "- [Defined functions](#Defined-functions)\n",
    "- [6) Cluster analysis](#6%29-Cluster-analysis)\n",
    "    - [a) Mean-based clustering (k-means)](#a%29-Mean-based-clustering-(k-means%29)\n",
    "        - [Unstandardized data](#Unstandardized-data)\n",
    "            - [Segment distinguishing features](#obs-kmeans)\n",
    "        - [Standardized data](#Standardized-data)\n",
    "            - [Segment distinguishing features](#obs-kmeans2)\n",
    "    - [b) Hierarchical clustering](#b%29-Hierarchical-clustering)\n",
    "        - [Dendrogram](#Dendrogram)\n",
    "        - [Goodness-of-fit test](#Goodness-of-fit-test)\n",
    "        - [Segment assignments](#Segment-assignments)\n",
    "        - [Segment summary](#Segment-summary)\n",
    "    - [c) Model-based clustering](#c%29-Model-based-clustering)\n",
    "    - [d) Latent Class Analysis](#d%29-Latent-Class-Analysis)\n",
    "- [7) Comparing Cluster Solutions](#7%29-Comparing-Cluster-Solutions)\n",
    "- [8) Concluding summary](#8%29-Concluding-summary)"
   ]
  },
  {
   "cell_type": "markdown",
   "metadata": {},
   "source": [
    "<div align=\"center\"><b>------------------------------------------------------------------------------------------------------------------------------------------------------------------------------------------------</b></div>"
   ]
  },
  {
   "cell_type": "markdown",
   "metadata": {},
   "source": [
    "## 1) Import packages"
   ]
  },
  {
   "cell_type": "code",
   "execution_count": 1,
   "metadata": {},
   "outputs": [],
   "source": [
    "import numpy as np\n",
    "import pandas as pd\n",
    "import matplotlib.pyplot as plt\n",
    "import seaborn as sns"
   ]
  },
  {
   "cell_type": "markdown",
   "metadata": {},
   "source": [
    "###### Some preliminary workings"
   ]
  },
  {
   "cell_type": "code",
   "execution_count": 2,
   "metadata": {},
   "outputs": [],
   "source": [
    "sns.set_theme(rc={'figure.facecolor':'w'})\n",
    "np.set_printoptions(linewidth=90)\n",
    "# plt.rcParams['figure.dpi'] = 150"
   ]
  },
  {
   "cell_type": "markdown",
   "metadata": {},
   "source": [
    "[go to toc](#index)"
   ]
  },
  {
   "cell_type": "markdown",
   "metadata": {},
   "source": [
    "<div align=\"center\"><b>------------------------------------------------------------------------------------------------------------------------------------------------------------------------------------------------</b></div>"
   ]
  },
  {
   "cell_type": "markdown",
   "metadata": {},
   "source": [
    "## 2) Pre-defined functions"
   ]
  },
  {
   "cell_type": "markdown",
   "metadata": {},
   "source": [
    "##### Function to return frequency table"
   ]
  },
  {
   "cell_type": "code",
   "execution_count": 3,
   "metadata": {},
   "outputs": [],
   "source": [
    "# Function to return frequency table\n",
    "def fd(data, sorted=False):\n",
    "    fd = pd.concat([data.value_counts(sort=False), \n",
    "               round(data.value_counts(sort=False, normalize=True)*100)], \n",
    "                   axis=1, keys=['freq','%']).astype(np.int).sort_index()\n",
    "    if sorted:\n",
    "        fd = fd.sort_values(by='freq', ascending=False)\n",
    "    return fd"
   ]
  },
  {
   "cell_type": "markdown",
   "metadata": {},
   "source": [
    "[go to toc](#index)"
   ]
  },
  {
   "cell_type": "markdown",
   "metadata": {},
   "source": [
    "<div align=\"center\"><b>------------------------------------------------------------------------------------------------------------------------------------------------------------------------------------------------</b></div>"
   ]
  },
  {
   "cell_type": "markdown",
   "metadata": {},
   "source": [
    "## 3) Load data"
   ]
  },
  {
   "cell_type": "code",
   "execution_count": 4,
   "metadata": {},
   "outputs": [
    {
     "name": "stdout",
     "output_type": "stream",
     "text": [
      "(300, 7)\n"
     ]
    },
    {
     "data": {
      "text/html": [
       "<div>\n",
       "<style scoped>\n",
       "    .dataframe tbody tr th:only-of-type {\n",
       "        vertical-align: middle;\n",
       "    }\n",
       "\n",
       "    .dataframe tbody tr th {\n",
       "        vertical-align: top;\n",
       "    }\n",
       "\n",
       "    .dataframe thead th {\n",
       "        text-align: right;\n",
       "    }\n",
       "</style>\n",
       "<table border=\"1\" class=\"dataframe\">\n",
       "  <thead>\n",
       "    <tr style=\"text-align: right;\">\n",
       "      <th></th>\n",
       "      <th>age</th>\n",
       "      <th>gender</th>\n",
       "      <th>income</th>\n",
       "      <th>kids</th>\n",
       "      <th>ownHome</th>\n",
       "      <th>subscribe</th>\n",
       "      <th>Segment</th>\n",
       "    </tr>\n",
       "  </thead>\n",
       "  <tbody>\n",
       "    <tr>\n",
       "      <th>0</th>\n",
       "      <td>47.316133</td>\n",
       "      <td>Male</td>\n",
       "      <td>49482.810438</td>\n",
       "      <td>2</td>\n",
       "      <td>ownNo</td>\n",
       "      <td>subNo</td>\n",
       "      <td>Suburb mix</td>\n",
       "    </tr>\n",
       "    <tr>\n",
       "      <th>1</th>\n",
       "      <td>31.386839</td>\n",
       "      <td>Male</td>\n",
       "      <td>35546.288300</td>\n",
       "      <td>1</td>\n",
       "      <td>ownYes</td>\n",
       "      <td>subNo</td>\n",
       "      <td>Suburb mix</td>\n",
       "    </tr>\n",
       "    <tr>\n",
       "      <th>2</th>\n",
       "      <td>43.200342</td>\n",
       "      <td>Male</td>\n",
       "      <td>44169.186377</td>\n",
       "      <td>0</td>\n",
       "      <td>ownYes</td>\n",
       "      <td>subNo</td>\n",
       "      <td>Suburb mix</td>\n",
       "    </tr>\n",
       "    <tr>\n",
       "      <th>3</th>\n",
       "      <td>37.316995</td>\n",
       "      <td>Female</td>\n",
       "      <td>81041.986385</td>\n",
       "      <td>1</td>\n",
       "      <td>ownNo</td>\n",
       "      <td>subNo</td>\n",
       "      <td>Suburb mix</td>\n",
       "    </tr>\n",
       "    <tr>\n",
       "      <th>4</th>\n",
       "      <td>40.954390</td>\n",
       "      <td>Female</td>\n",
       "      <td>79353.014443</td>\n",
       "      <td>3</td>\n",
       "      <td>ownYes</td>\n",
       "      <td>subNo</td>\n",
       "      <td>Suburb mix</td>\n",
       "    </tr>\n",
       "  </tbody>\n",
       "</table>\n",
       "</div>"
      ],
      "text/plain": [
       "         age  gender        income  kids ownHome subscribe     Segment\n",
       "0  47.316133    Male  49482.810438     2   ownNo     subNo  Suburb mix\n",
       "1  31.386839    Male  35546.288300     1  ownYes     subNo  Suburb mix\n",
       "2  43.200342    Male  44169.186377     0  ownYes     subNo  Suburb mix\n",
       "3  37.316995  Female  81041.986385     1   ownNo     subNo  Suburb mix\n",
       "4  40.954390  Female  79353.014443     3  ownYes     subNo  Suburb mix"
      ]
     },
     "execution_count": 4,
     "metadata": {},
     "output_type": "execute_result"
    }
   ],
   "source": [
    "dfo = pd.read_csv(\"http://goo.gl/qw303p\")\n",
    "\n",
    "# Export for safekeep\n",
    "# dfo.to_csv('Subscription Data.csv')\n",
    "\n",
    "print(dfo.shape)\n",
    "dfo.head()"
   ]
  },
  {
   "cell_type": "code",
   "execution_count": 5,
   "metadata": {},
   "outputs": [
    {
     "name": "stdout",
     "output_type": "stream",
     "text": [
      "(300,)\n"
     ]
    },
    {
     "data": {
      "text/html": [
       "<div>\n",
       "<style scoped>\n",
       "    .dataframe tbody tr th:only-of-type {\n",
       "        vertical-align: middle;\n",
       "    }\n",
       "\n",
       "    .dataframe tbody tr th {\n",
       "        vertical-align: top;\n",
       "    }\n",
       "\n",
       "    .dataframe thead th {\n",
       "        text-align: right;\n",
       "    }\n",
       "</style>\n",
       "<table border=\"1\" class=\"dataframe\">\n",
       "  <thead>\n",
       "    <tr style=\"text-align: right;\">\n",
       "      <th></th>\n",
       "      <th>age</th>\n",
       "      <th>gender</th>\n",
       "      <th>income</th>\n",
       "      <th>kids</th>\n",
       "      <th>ownHome</th>\n",
       "      <th>subscribe</th>\n",
       "    </tr>\n",
       "  </thead>\n",
       "  <tbody>\n",
       "    <tr>\n",
       "      <th>0</th>\n",
       "      <td>47.316133</td>\n",
       "      <td>Male</td>\n",
       "      <td>49482.810438</td>\n",
       "      <td>2</td>\n",
       "      <td>ownNo</td>\n",
       "      <td>subNo</td>\n",
       "    </tr>\n",
       "  </tbody>\n",
       "</table>\n",
       "</div>"
      ],
      "text/plain": [
       "         age gender        income  kids ownHome subscribe\n",
       "0  47.316133   Male  49482.810438     2   ownNo     subNo"
      ]
     },
     "execution_count": 5,
     "metadata": {},
     "output_type": "execute_result"
    }
   ],
   "source": [
    "# Drop the 'segment' column and save it separately\n",
    "df = dfo.drop('Segment', axis=1).copy()\n",
    "y = dfo['Segment'].copy()\n",
    "\n",
    "print(y.shape)\n",
    "df.head(1)"
   ]
  },
  {
   "cell_type": "markdown",
   "metadata": {},
   "source": [
    " <div align=\"center\"><b>-----------------------------------------------------------------------------------------------------------------------------------------------------</b></div>"
   ]
  },
  {
   "cell_type": "markdown",
   "metadata": {},
   "source": [
    "## 4) Preliminary data exploration"
   ]
  },
  {
   "cell_type": "markdown",
   "metadata": {},
   "source": [
    "### Check for data integrity"
   ]
  },
  {
   "cell_type": "markdown",
   "metadata": {},
   "source": [
    "#### Check for missing values"
   ]
  },
  {
   "cell_type": "code",
   "execution_count": 6,
   "metadata": {},
   "outputs": [
    {
     "data": {
      "text/plain": [
       "False"
      ]
     },
     "execution_count": 6,
     "metadata": {},
     "output_type": "execute_result"
    }
   ],
   "source": [
    "df.isnull().any().any()"
   ]
  },
  {
   "cell_type": "markdown",
   "metadata": {},
   "source": [
    "#### Check for data consistency\n",
    "To ensure that the variables have been understood as per their nature"
   ]
  },
  {
   "cell_type": "code",
   "execution_count": 7,
   "metadata": {},
   "outputs": [
    {
     "name": "stdout",
     "output_type": "stream",
     "text": [
      "<class 'pandas.core.frame.DataFrame'>\n",
      "RangeIndex: 300 entries, 0 to 299\n",
      "Data columns (total 6 columns):\n",
      " #   Column     Non-Null Count  Dtype  \n",
      "---  ------     --------------  -----  \n",
      " 0   age        300 non-null    float64\n",
      " 1   gender     300 non-null    object \n",
      " 2   income     300 non-null    float64\n",
      " 3   kids       300 non-null    int64  \n",
      " 4   ownHome    300 non-null    object \n",
      " 5   subscribe  300 non-null    object \n",
      "dtypes: float64(2), int64(1), object(3)\n",
      "memory usage: 14.2+ KB\n"
     ]
    }
   ],
   "source": [
    "df.info()"
   ]
  },
  {
   "cell_type": "markdown",
   "metadata": {},
   "source": [
    "<div class=\"alert alert-block alert-info\">\n",
    "    Numeric variables have been read as numeric (float and int) and categorical as string (object).<br>\n",
    "    We can save categorical columns as dtype 'category' instead.\n",
    "</div>"
   ]
  },
  {
   "cell_type": "code",
   "execution_count": 8,
   "metadata": {},
   "outputs": [
    {
     "name": "stdout",
     "output_type": "stream",
     "text": [
      "<class 'pandas.core.frame.DataFrame'>\n",
      "RangeIndex: 300 entries, 0 to 299\n",
      "Data columns (total 6 columns):\n",
      " #   Column     Non-Null Count  Dtype   \n",
      "---  ------     --------------  -----   \n",
      " 0   age        300 non-null    float64 \n",
      " 1   gender     300 non-null    category\n",
      " 2   income     300 non-null    float64 \n",
      " 3   kids       300 non-null    int64   \n",
      " 4   ownHome    300 non-null    category\n",
      " 5   subscribe  300 non-null    category\n",
      "dtypes: category(3), float64(2), int64(1)\n",
      "memory usage: 8.3 KB\n"
     ]
    }
   ],
   "source": [
    "# Saving categorical columns as 'category'\n",
    "df.gender = df.gender.astype('category')\n",
    "df.ownHome = df.ownHome.astype('category')\n",
    "df.subscribe = df.subscribe.astype('category')\n",
    "df.info()"
   ]
  },
  {
   "cell_type": "markdown",
   "metadata": {},
   "source": [
    "#### Summary statistics"
   ]
  },
  {
   "cell_type": "code",
   "execution_count": 9,
   "metadata": {},
   "outputs": [
    {
     "data": {
      "text/html": [
       "<div>\n",
       "<style scoped>\n",
       "    .dataframe tbody tr th:only-of-type {\n",
       "        vertical-align: middle;\n",
       "    }\n",
       "\n",
       "    .dataframe tbody tr th {\n",
       "        vertical-align: top;\n",
       "    }\n",
       "\n",
       "    .dataframe thead th {\n",
       "        text-align: right;\n",
       "    }\n",
       "</style>\n",
       "<table border=\"1\" class=\"dataframe\">\n",
       "  <thead>\n",
       "    <tr style=\"text-align: right;\">\n",
       "      <th></th>\n",
       "      <th>age</th>\n",
       "      <th>income</th>\n",
       "      <th>kids</th>\n",
       "    </tr>\n",
       "  </thead>\n",
       "  <tbody>\n",
       "    <tr>\n",
       "      <th>count</th>\n",
       "      <td>300.000000</td>\n",
       "      <td>300.000000</td>\n",
       "      <td>300.000000</td>\n",
       "    </tr>\n",
       "    <tr>\n",
       "      <th>mean</th>\n",
       "      <td>41.199650</td>\n",
       "      <td>50936.536184</td>\n",
       "      <td>1.270000</td>\n",
       "    </tr>\n",
       "    <tr>\n",
       "      <th>std</th>\n",
       "      <td>12.707427</td>\n",
       "      <td>20137.549430</td>\n",
       "      <td>1.408443</td>\n",
       "    </tr>\n",
       "    <tr>\n",
       "      <th>min</th>\n",
       "      <td>19.259932</td>\n",
       "      <td>-5183.354243</td>\n",
       "      <td>0.000000</td>\n",
       "    </tr>\n",
       "    <tr>\n",
       "      <th>25%</th>\n",
       "      <td>33.012059</td>\n",
       "      <td>39656.283622</td>\n",
       "      <td>0.000000</td>\n",
       "    </tr>\n",
       "    <tr>\n",
       "      <th>50%</th>\n",
       "      <td>39.487674</td>\n",
       "      <td>52014.352449</td>\n",
       "      <td>1.000000</td>\n",
       "    </tr>\n",
       "    <tr>\n",
       "      <th>75%</th>\n",
       "      <td>47.895657</td>\n",
       "      <td>61403.176264</td>\n",
       "      <td>2.000000</td>\n",
       "    </tr>\n",
       "    <tr>\n",
       "      <th>max</th>\n",
       "      <td>80.486179</td>\n",
       "      <td>114278.255567</td>\n",
       "      <td>7.000000</td>\n",
       "    </tr>\n",
       "  </tbody>\n",
       "</table>\n",
       "</div>"
      ],
      "text/plain": [
       "              age         income        kids\n",
       "count  300.000000     300.000000  300.000000\n",
       "mean    41.199650   50936.536184    1.270000\n",
       "std     12.707427   20137.549430    1.408443\n",
       "min     19.259932   -5183.354243    0.000000\n",
       "25%     33.012059   39656.283622    0.000000\n",
       "50%     39.487674   52014.352449    1.000000\n",
       "75%     47.895657   61403.176264    2.000000\n",
       "max     80.486179  114278.255567    7.000000"
      ]
     },
     "execution_count": 9,
     "metadata": {},
     "output_type": "execute_result"
    }
   ],
   "source": [
    "# Numerical features\n",
    "df.describe()"
   ]
  },
  {
   "cell_type": "code",
   "execution_count": 10,
   "metadata": {},
   "outputs": [
    {
     "data": {
      "text/html": [
       "<div>\n",
       "<style scoped>\n",
       "    .dataframe tbody tr th:only-of-type {\n",
       "        vertical-align: middle;\n",
       "    }\n",
       "\n",
       "    .dataframe tbody tr th {\n",
       "        vertical-align: top;\n",
       "    }\n",
       "\n",
       "    .dataframe thead th {\n",
       "        text-align: right;\n",
       "    }\n",
       "</style>\n",
       "<table border=\"1\" class=\"dataframe\">\n",
       "  <thead>\n",
       "    <tr style=\"text-align: right;\">\n",
       "      <th></th>\n",
       "      <th>gender</th>\n",
       "      <th>ownHome</th>\n",
       "      <th>subscribe</th>\n",
       "    </tr>\n",
       "  </thead>\n",
       "  <tbody>\n",
       "    <tr>\n",
       "      <th>count</th>\n",
       "      <td>300</td>\n",
       "      <td>300</td>\n",
       "      <td>300</td>\n",
       "    </tr>\n",
       "    <tr>\n",
       "      <th>unique</th>\n",
       "      <td>2</td>\n",
       "      <td>2</td>\n",
       "      <td>2</td>\n",
       "    </tr>\n",
       "    <tr>\n",
       "      <th>top</th>\n",
       "      <td>Female</td>\n",
       "      <td>ownNo</td>\n",
       "      <td>subNo</td>\n",
       "    </tr>\n",
       "    <tr>\n",
       "      <th>freq</th>\n",
       "      <td>157</td>\n",
       "      <td>159</td>\n",
       "      <td>260</td>\n",
       "    </tr>\n",
       "  </tbody>\n",
       "</table>\n",
       "</div>"
      ],
      "text/plain": [
       "        gender ownHome subscribe\n",
       "count      300     300       300\n",
       "unique       2       2         2\n",
       "top     Female   ownNo     subNo\n",
       "freq       157     159       260"
      ]
     },
     "execution_count": 10,
     "metadata": {},
     "output_type": "execute_result"
    }
   ],
   "source": [
    "# Categorical features\n",
    "df.describe(include=['object','category'])"
   ]
  },
  {
   "cell_type": "markdown",
   "metadata": {},
   "source": [
    "<div class=\"alert alert-block alert-info\">\n",
    "    - None of the columns has min or max values that are very unusual.<br>\n",
    "    - Income has a negative minimum value. That is a plausible scenario in case of a person with monthly debt repayments due.<br>\n",
    "    - Max kids = 7. Sure, I can believe that. Some folks must be quite optimistic that humanity will tackle climate change well.<br><br>\n",
    "    <b>Overall, there are no obviously unusual values in the columns and the data seems to be consistent and complete.</b><br>\n",
    "</div>"
   ]
  },
  {
   "cell_type": "markdown",
   "metadata": {},
   "source": [
    "[go to toc](#index)"
   ]
  },
  {
   "cell_type": "markdown",
   "metadata": {},
   "source": [
    " <div align=\"center\"><b>-----------------------------------------------------------------------------------------------------------------------------------------------------</b></div>"
   ]
  },
  {
   "cell_type": "markdown",
   "metadata": {},
   "source": [
    "### Data distribution"
   ]
  },
  {
   "cell_type": "code",
   "execution_count": 11,
   "metadata": {},
   "outputs": [
    {
     "data": {
      "text/html": [
       "<div>\n",
       "<style scoped>\n",
       "    .dataframe tbody tr th:only-of-type {\n",
       "        vertical-align: middle;\n",
       "    }\n",
       "\n",
       "    .dataframe tbody tr th {\n",
       "        vertical-align: top;\n",
       "    }\n",
       "\n",
       "    .dataframe thead th {\n",
       "        text-align: right;\n",
       "    }\n",
       "</style>\n",
       "<table border=\"1\" class=\"dataframe\">\n",
       "  <thead>\n",
       "    <tr style=\"text-align: right;\">\n",
       "      <th></th>\n",
       "      <th>age</th>\n",
       "      <th>income</th>\n",
       "      <th>kids</th>\n",
       "    </tr>\n",
       "  </thead>\n",
       "  <tbody>\n",
       "    <tr>\n",
       "      <th>0</th>\n",
       "      <td>47.316133</td>\n",
       "      <td>49482.810438</td>\n",
       "      <td>2</td>\n",
       "    </tr>\n",
       "  </tbody>\n",
       "</table>\n",
       "</div>"
      ],
      "text/plain": [
       "         age        income  kids\n",
       "0  47.316133  49482.810438     2"
      ]
     },
     "execution_count": 11,
     "metadata": {},
     "output_type": "execute_result"
    }
   ],
   "source": [
    "# Numerical columns\n",
    "df_num = df.select_dtypes(include='number')\n",
    "df_num.head(1)"
   ]
  },
  {
   "cell_type": "markdown",
   "metadata": {},
   "source": [
    "#### Histograms"
   ]
  },
  {
   "cell_type": "code",
   "execution_count": 12,
   "metadata": {},
   "outputs": [
    {
     "data": {
      "image/png": "[encoded data removed]",
      "text/plain": [
       "<Figure size 1224x288 with 3 Axes>"
      ]
     },
     "metadata": {},
     "output_type": "display_data"
    }
   ],
   "source": [
    "f, axs = plt.subplots(1,3, figsize=(17,4))\n",
    "for i,col in enumerate(df_num.columns):\n",
    "    sns.histplot(df[col], ax=axs[i])\n",
    "    axs[i].set_title(col, fontsize=15)\n",
    "    axs[i].set_xlabel('')"
   ]
  },
  {
   "cell_type": "markdown",
   "metadata": {},
   "source": [
    "#### Value counts"
   ]
  },
  {
   "cell_type": "code",
   "execution_count": 13,
   "metadata": {},
   "outputs": [
    {
     "name": "stdout",
     "output_type": "stream",
     "text": [
      "Variable : gender\n"
     ]
    },
    {
     "data": {
      "text/html": [
       "<div>\n",
       "<style scoped>\n",
       "    .dataframe tbody tr th:only-of-type {\n",
       "        vertical-align: middle;\n",
       "    }\n",
       "\n",
       "    .dataframe tbody tr th {\n",
       "        vertical-align: top;\n",
       "    }\n",
       "\n",
       "    .dataframe thead th {\n",
       "        text-align: right;\n",
       "    }\n",
       "</style>\n",
       "<table border=\"1\" class=\"dataframe\">\n",
       "  <thead>\n",
       "    <tr style=\"text-align: right;\">\n",
       "      <th></th>\n",
       "      <th>count</th>\n",
       "      <th>perc</th>\n",
       "    </tr>\n",
       "  </thead>\n",
       "  <tbody>\n",
       "    <tr>\n",
       "      <th>Female</th>\n",
       "      <td>157</td>\n",
       "      <td>52.3</td>\n",
       "    </tr>\n",
       "    <tr>\n",
       "      <th>Male</th>\n",
       "      <td>143</td>\n",
       "      <td>47.7</td>\n",
       "    </tr>\n",
       "  </tbody>\n",
       "</table>\n",
       "</div>"
      ],
      "text/plain": [
       "        count  perc\n",
       "Female    157  52.3\n",
       "Male      143  47.7"
      ]
     },
     "metadata": {},
     "output_type": "display_data"
    },
    {
     "name": "stdout",
     "output_type": "stream",
     "text": [
      "\n",
      "\n",
      "Variable : ownHome\n"
     ]
    },
    {
     "data": {
      "text/html": [
       "<div>\n",
       "<style scoped>\n",
       "    .dataframe tbody tr th:only-of-type {\n",
       "        vertical-align: middle;\n",
       "    }\n",
       "\n",
       "    .dataframe tbody tr th {\n",
       "        vertical-align: top;\n",
       "    }\n",
       "\n",
       "    .dataframe thead th {\n",
       "        text-align: right;\n",
       "    }\n",
       "</style>\n",
       "<table border=\"1\" class=\"dataframe\">\n",
       "  <thead>\n",
       "    <tr style=\"text-align: right;\">\n",
       "      <th></th>\n",
       "      <th>count</th>\n",
       "      <th>perc</th>\n",
       "    </tr>\n",
       "  </thead>\n",
       "  <tbody>\n",
       "    <tr>\n",
       "      <th>ownNo</th>\n",
       "      <td>159</td>\n",
       "      <td>53.0</td>\n",
       "    </tr>\n",
       "    <tr>\n",
       "      <th>ownYes</th>\n",
       "      <td>141</td>\n",
       "      <td>47.0</td>\n",
       "    </tr>\n",
       "  </tbody>\n",
       "</table>\n",
       "</div>"
      ],
      "text/plain": [
       "        count  perc\n",
       "ownNo     159  53.0\n",
       "ownYes    141  47.0"
      ]
     },
     "metadata": {},
     "output_type": "display_data"
    },
    {
     "name": "stdout",
     "output_type": "stream",
     "text": [
      "\n",
      "\n",
      "Variable : subscribe\n"
     ]
    },
    {
     "data": {
      "text/html": [
       "<div>\n",
       "<style scoped>\n",
       "    .dataframe tbody tr th:only-of-type {\n",
       "        vertical-align: middle;\n",
       "    }\n",
       "\n",
       "    .dataframe tbody tr th {\n",
       "        vertical-align: top;\n",
       "    }\n",
       "\n",
       "    .dataframe thead th {\n",
       "        text-align: right;\n",
       "    }\n",
       "</style>\n",
       "<table border=\"1\" class=\"dataframe\">\n",
       "  <thead>\n",
       "    <tr style=\"text-align: right;\">\n",
       "      <th></th>\n",
       "      <th>count</th>\n",
       "      <th>perc</th>\n",
       "    </tr>\n",
       "  </thead>\n",
       "  <tbody>\n",
       "    <tr>\n",
       "      <th>subNo</th>\n",
       "      <td>260</td>\n",
       "      <td>86.7</td>\n",
       "    </tr>\n",
       "    <tr>\n",
       "      <th>subYes</th>\n",
       "      <td>40</td>\n",
       "      <td>13.3</td>\n",
       "    </tr>\n",
       "  </tbody>\n",
       "</table>\n",
       "</div>"
      ],
      "text/plain": [
       "        count  perc\n",
       "subNo     260  86.7\n",
       "subYes     40  13.3"
      ]
     },
     "metadata": {},
     "output_type": "display_data"
    },
    {
     "name": "stdout",
     "output_type": "stream",
     "text": [
      "\n",
      "\n"
     ]
    }
   ],
   "source": [
    "for var in df.select_dtypes(include='category').columns:\n",
    "    print(f'Variable : {var}')\n",
    "    display(pd.concat([df[var].value_counts(), df[var].value_counts(normalize=True).round(3)*100], \n",
    "                      axis=1, keys=['count','perc']))\n",
    "    print('\\n')"
   ]
  },
  {
   "cell_type": "markdown",
   "metadata": {},
   "source": [
    "[go to toc](#index)"
   ]
  },
  {
   "cell_type": "markdown",
   "metadata": {},
   "source": [
    "<div align=\"center\"><b>------------------------------------------------------------------------------------------------------------------------------------------------------------------------------------------------</b></div>"
   ]
  },
  {
   "cell_type": "markdown",
   "metadata": {},
   "source": [
    "## 5) Feature adjustments\n",
    "In order to perform techiques of cluster analysis, we will need to convert non-numeric data into numerical forms. Dummy variables will be introduced for categorical features."
   ]
  },
  {
   "cell_type": "markdown",
   "metadata": {},
   "source": [
    "#### Convert categorical variables to numerical"
   ]
  },
  {
   "cell_type": "code",
   "execution_count": 14,
   "metadata": {},
   "outputs": [
    {
     "data": {
      "text/html": [
       "<div>\n",
       "<style scoped>\n",
       "    .dataframe tbody tr th:only-of-type {\n",
       "        vertical-align: middle;\n",
       "    }\n",
       "\n",
       "    .dataframe tbody tr th {\n",
       "        vertical-align: top;\n",
       "    }\n",
       "\n",
       "    .dataframe thead th {\n",
       "        text-align: right;\n",
       "    }\n",
       "</style>\n",
       "<table border=\"1\" class=\"dataframe\">\n",
       "  <thead>\n",
       "    <tr style=\"text-align: right;\">\n",
       "      <th></th>\n",
       "      <th>age</th>\n",
       "      <th>income</th>\n",
       "      <th>kids</th>\n",
       "      <th>gender_Male</th>\n",
       "      <th>ownHome_ownYes</th>\n",
       "      <th>subscribe_subYes</th>\n",
       "    </tr>\n",
       "  </thead>\n",
       "  <tbody>\n",
       "    <tr>\n",
       "      <th>0</th>\n",
       "      <td>47.316133</td>\n",
       "      <td>49482.810438</td>\n",
       "      <td>2</td>\n",
       "      <td>1</td>\n",
       "      <td>0</td>\n",
       "      <td>0</td>\n",
       "    </tr>\n",
       "    <tr>\n",
       "      <th>1</th>\n",
       "      <td>31.386839</td>\n",
       "      <td>35546.288300</td>\n",
       "      <td>1</td>\n",
       "      <td>1</td>\n",
       "      <td>1</td>\n",
       "      <td>0</td>\n",
       "    </tr>\n",
       "    <tr>\n",
       "      <th>2</th>\n",
       "      <td>43.200342</td>\n",
       "      <td>44169.186377</td>\n",
       "      <td>0</td>\n",
       "      <td>1</td>\n",
       "      <td>1</td>\n",
       "      <td>0</td>\n",
       "    </tr>\n",
       "    <tr>\n",
       "      <th>3</th>\n",
       "      <td>37.316995</td>\n",
       "      <td>81041.986385</td>\n",
       "      <td>1</td>\n",
       "      <td>0</td>\n",
       "      <td>0</td>\n",
       "      <td>0</td>\n",
       "    </tr>\n",
       "    <tr>\n",
       "      <th>4</th>\n",
       "      <td>40.954390</td>\n",
       "      <td>79353.014443</td>\n",
       "      <td>3</td>\n",
       "      <td>0</td>\n",
       "      <td>1</td>\n",
       "      <td>0</td>\n",
       "    </tr>\n",
       "  </tbody>\n",
       "</table>\n",
       "</div>"
      ],
      "text/plain": [
       "         age        income  kids  gender_Male  ownHome_ownYes  \\\n",
       "0  47.316133  49482.810438     2            1               0   \n",
       "1  31.386839  35546.288300     1            1               1   \n",
       "2  43.200342  44169.186377     0            1               1   \n",
       "3  37.316995  81041.986385     1            0               0   \n",
       "4  40.954390  79353.014443     3            0               1   \n",
       "\n",
       "   subscribe_subYes  \n",
       "0                 0  \n",
       "1                 0  \n",
       "2                 0  \n",
       "3                 0  \n",
       "4                 0  "
      ]
     },
     "execution_count": 14,
     "metadata": {},
     "output_type": "execute_result"
    }
   ],
   "source": [
    "# Convert categorical columns to dummies\n",
    "dfn = pd.get_dummies(df, drop_first=True)\n",
    "dfn.head()"
   ]
  },
  {
   "cell_type": "code",
   "execution_count": 15,
   "metadata": {},
   "outputs": [
    {
     "data": {
      "text/html": [
       "<div>\n",
       "<style scoped>\n",
       "    .dataframe tbody tr th:only-of-type {\n",
       "        vertical-align: middle;\n",
       "    }\n",
       "\n",
       "    .dataframe tbody tr th {\n",
       "        vertical-align: top;\n",
       "    }\n",
       "\n",
       "    .dataframe thead th {\n",
       "        text-align: right;\n",
       "    }\n",
       "</style>\n",
       "<table border=\"1\" class=\"dataframe\">\n",
       "  <thead>\n",
       "    <tr style=\"text-align: right;\">\n",
       "      <th></th>\n",
       "      <th>age</th>\n",
       "      <th>income</th>\n",
       "      <th>kids</th>\n",
       "      <th>male</th>\n",
       "      <th>homeOwner</th>\n",
       "      <th>subscriber</th>\n",
       "    </tr>\n",
       "  </thead>\n",
       "  <tbody>\n",
       "    <tr>\n",
       "      <th>0</th>\n",
       "      <td>47.316133</td>\n",
       "      <td>49482.810438</td>\n",
       "      <td>2</td>\n",
       "      <td>1</td>\n",
       "      <td>0</td>\n",
       "      <td>0</td>\n",
       "    </tr>\n",
       "  </tbody>\n",
       "</table>\n",
       "</div>"
      ],
      "text/plain": [
       "         age        income  kids  male  homeOwner  subscriber\n",
       "0  47.316133  49482.810438     2     1          0           0"
      ]
     },
     "execution_count": 15,
     "metadata": {},
     "output_type": "execute_result"
    }
   ],
   "source": [
    "# Rename dummy columns\n",
    "dfn.rename(columns={'gender_Male':'male', 'ownHome_ownYes':'homeOwner', \n",
    "                    'subscribe_subYes':'subscriber'}, inplace=True)\n",
    "dfn.head(1)"
   ]
  },
  {
   "cell_type": "markdown",
   "metadata": {},
   "source": [
    "#### Standardize data"
   ]
  },
  {
   "cell_type": "code",
   "execution_count": 16,
   "metadata": {},
   "outputs": [],
   "source": [
    "from sklearn.preprocessing import StandardScaler"
   ]
  },
  {
   "cell_type": "code",
   "execution_count": 17,
   "metadata": {},
   "outputs": [
    {
     "data": {
      "text/plain": [
       "array([[ 0.48213561, -0.07231042,  0.51916875,  1.04780824, -0.94169658, -0.39223227],\n",
       "       [-0.77350095, -0.7655332 , -0.19202132,  1.04780824,  1.06191317, -0.39223227],\n",
       "       [ 0.15770582, -0.33661777, -0.90321138,  1.04780824,  1.06191317, -0.39223227],\n",
       "       [-0.30605269,  1.49748865, -0.19202132, -0.95437311, -0.94169658, -0.39223227],\n",
       "       [-0.01933277,  1.41347674,  1.23035881, -0.95437311,  1.06191317, -0.39223227],\n",
       "       [ 0.14458317,  0.35847801,  1.94154888,  1.04780824,  1.06191317, -0.39223227]])"
      ]
     },
     "execution_count": 17,
     "metadata": {},
     "output_type": "execute_result"
    }
   ],
   "source": [
    "# Standardize data\n",
    "scaler = StandardScaler()\n",
    "dfn_sz = scaler.fit_transform(dfn)\n",
    "\n",
    "# use sample std for transformation (like R)\n",
    "# dfn_sz = dfn.apply(lambda x: (x - np.mean(x))/np.std(x, ddof=1))\n",
    "\n",
    "dfn_sz[0:6,0:6]"
   ]
  },
  {
   "cell_type": "markdown",
   "metadata": {},
   "source": [
    "[go to toc](#index)"
   ]
  },
  {
   "cell_type": "markdown",
   "metadata": {},
   "source": [
    "<div align=\"center\"><b>------------------------------------------------------------------------------------------------------------------------------------------------------------------------------------------------</b></div>"
   ]
  },
  {
   "cell_type": "markdown",
   "metadata": {},
   "source": [
    "## Defined functions"
   ]
  },
  {
   "cell_type": "markdown",
   "metadata": {},
   "source": [
    "##### Function to reduce data to 2 principal components and mark clusters"
   ]
  },
  {
   "cell_type": "code",
   "execution_count": 18,
   "metadata": {},
   "outputs": [],
   "source": [
    "# Function to reduce data to 2 principal components and mark clusters\n",
    "from sklearn.decomposition import PCA\n",
    "from sklearn.preprocessing import StandardScaler \n",
    "\n",
    "def clustplot(data, segment_list, standardize=True):\n",
    "    tempdf = data.copy()\n",
    "    if standardize:\n",
    "        std_data = StandardScaler().fit_transform(tempdf)\n",
    "    else:\n",
    "        std_data = tempdf\n",
    "        \n",
    "    # Reducing the data to 2 principle components\n",
    "    pca = PCA(n_components = 2)\n",
    "    pca_df = pd.DataFrame(pca.fit_transform(std_data))\n",
    "\n",
    "    # Plot\n",
    "    plt.gcf().set_size_inches(8,5)\n",
    "    sns.scatterplot(x=pca_df.iloc[:,0], y=pca_df.iloc[:,1], \n",
    "                    hue=segment_list, palette=['violet','orange','red','blue'], \n",
    "                    s=30, marker = 'o')\n",
    "    plt.legend(bbox_to_anchor=(1.12, 1), borderaxespad=0, frameon=False);"
   ]
  },
  {
   "cell_type": "markdown",
   "metadata": {},
   "source": [
    "##### Function to generate boxplots for clusters"
   ]
  },
  {
   "cell_type": "code",
   "execution_count": 19,
   "metadata": {},
   "outputs": [],
   "source": [
    "# Function to generate boxplots for clusters\n",
    "def segment_boxplot(data, segments, title='Boxplot', xlab='var', ylab='segment'):\n",
    "    plt.gcf().set_size_inches(12,3)\n",
    "    sns.boxplot(y=segments, x=data, width=0.5, orient='h', fliersize=2)\n",
    "    min_ylim, max_ylim = plt.ylim()\n",
    "    plt.vlines(x=np.percentile(data, [10,25,50,75,90]), ymin=min_ylim, ymax=max_ylim, \n",
    "               colors='k', alpha=0.5, linestyles='dashdot', lw=0.5)\n",
    "    plt.vlines(x=np.mean(data), ymin=min_ylim, ymax=max_ylim, \n",
    "               colors='red', alpha=0.9, ls=':', lw=0.5)\n",
    "    plt.title(title, fontsize=15)\n",
    "    plt.xlabel(xlab, fontsize=14)\n",
    "    plt.ylabel(ylab, fontsize=14);"
   ]
  },
  {
   "cell_type": "markdown",
   "metadata": {},
   "source": [
    "##### Function to get segment-wise metrics\n",
    "This function will provide us a quick glance at the overall differences between groups."
   ]
  },
  {
   "cell_type": "code",
   "execution_count": 20,
   "metadata": {},
   "outputs": [],
   "source": [
    "# Function to get segment-wise metrics\n",
    "def seg_summ(data, group_assignment):\n",
    "    tempdf = data.copy()\n",
    "    tempdf['cluster'] = pd.Series(group_assignment)\n",
    "    result = tempdf.groupby('cluster').mean()\n",
    "    return result"
   ]
  },
  {
   "cell_type": "markdown",
   "metadata": {},
   "source": [
    "[go to toc](#index)"
   ]
  },
  {
   "cell_type": "markdown",
   "metadata": {},
   "source": [
    "<div align=\"center\"><b>------------------------------------------------------------------------------------------------------------------------------------------------------------------------------------------------</b></div>"
   ]
  },
  {
   "cell_type": "markdown",
   "metadata": {},
   "source": [
    "## 6) Cluster analysis"
   ]
  },
  {
   "cell_type": "markdown",
   "metadata": {},
   "source": [
    "There are many methods available for clustering. Some of the popular ones are:<br>\n",
    "\n",
    "<b>a) Distance based</b><br>\n",
    "    1) Kmeans<br>\n",
    "    2) Hierarchical clustering<br>\n",
    "The approch is to maximize distances between the clusters and minimize distances within each segment.<br>\n",
    "\n",
    "<b>b) Model based</b><br>\n",
    "    1) Mclust : Model-Based Clustering<br>\n",
    "    2) poLCA: Latent class analysis of polytomous outcome variables<br>\n",
    "Model-based methods view the data as a mixture of groups sampled from different (unknown) distributions.  \n",
    "These methods attempt to model the data such that the observed variance can be best represented by a small number of groups with specific distribution characteristics such as different means and standard deviations.\n",
    "\n",
    "Each of these methods have their own limitations, so we shall not presume that they can give complete solutions.<br>"
   ]
  },
  {
   "cell_type": "markdown",
   "metadata": {},
   "source": [
    "<font size=4><b>Distance measures</b></font><br>\n",
    "This forms the backbone of the clustering process.\n",
    "\n",
    "<b><i>Euclidean distance</i></b><br>\n",
    "One of the ways for calculating distance between <b><i>numerical</i></b> observations is Euclidean distance.<br>\n",
    "If &nbsp;$p(p_1, p_2, ..., p_n)$ &nbsp;and &nbsp;$q(q_1, q_2, ..., q_n)$ are 2 points in n-dimensional space, then Euclidean distance between them is calculated as :\n",
    "\n",
    "$$ d(p,q) = \\sqrt{\\sum{(p_i - q_i)^2}} $$\n",
    "\n",
    "Standardization of data is essential before calculating euclidean distances. \n",
    "If the the eucladian distance is calculated without adjusting the scale of the features, the segmentation would be unduly dominated by the feature or variable having larger spread.\n",
    "\n",
    "<b><i>Gower's distance</i></b><br>\n",
    "Euclidean distance can only be used when all our data is numeric. But, when we have a dataset that has <b>both quantitative and qualitative</b> features, we can use Gower's distance that calculates a [general dissimilarity coefficient](https://www.rdocumentation.org/packages/cluster/versions/2.1.1/topics/daisy) by rescaling the values.<br> \n",
    "\n",
    "As per [this medium article](https://medium.com/analytics-vidhya/gowers-distance-899f9c4bd553), Gower's distance uses the following metrics for the different data types:<br>\n",
    "    a) <b>quantitative (interval)</b>: range-normalized [Manhattan distance](https://en.wikipedia.org/wiki/Taxicab_geometry)<br>\n",
    "    b) <b>ordinal</b>: variable is first ranked, then Manhattan distance is used with a special adjustment for ties<br>\n",
    "    c) <b>nominal</b>: variables of k categories are first converted into k binary columns and then the Dice coefficient is used<br>"
   ]
  },
  {
   "cell_type": "markdown",
   "metadata": {},
   "source": [
    "<div align=\"center\"><b>------------------------------------------------------------------------------------------------------------------------------------------------------------------------------------------------</b></div>"
   ]
  },
  {
   "cell_type": "markdown",
   "metadata": {},
   "source": [
    "### a) Mean-based clustering (k-means)"
   ]
  },
  {
   "cell_type": "markdown",
   "metadata": {},
   "source": [
    "K-means clustering attempts to find groups that are most compact, in terms of the mean sum-of-squares deviation of each observation from the multivariate center (centroid) of its assigned group. \n",
    "Because it explicitly computes a mean deviation, k-means clustering relies on Euclidean distance.\n",
    "Thus it is only appropriate for numeric data or data that can be reasonably coerced to numeric.\n",
    "\n",
    "A limitation of k-means analysis is that it requires specifying the number of clusters, and it can be difficult to determine whether one solution is better than another."
   ]
  },
  {
   "cell_type": "markdown",
   "metadata": {},
   "source": [
    "#### Deciding optimum number of clusters\n",
    "One metric that can be used in deciding the optimum number of clusters is <b><i>Within Sum-of-Squares (WSS)</i></b>.<br>\n",
    "Within a cluster, the Euclidean Distance of each observation from the cluster centroid is calcluted, squared and summed up. \n",
    "This is done for all the clusters, and the total of WSS for all clusters becomes our (Total) Within sum-of-squares number.\n",
    "As the no. of clusters go up, the wss would go down because the clusters would provide a much tighter fit.\n",
    "\n",
    "The optimum k level is where increasing k would not result in a significant reduction in Total WSS.\n",
    "Even then you may get 3-4 possible k levels.\n",
    "It may require some trial and error to decide upon the final number.<br>\n",
    "\n",
    "Points that should be kept in consideration when deciding the optimum k level:<br>\n",
    "a) Clusters should be interpretable.<br>\n",
    "b) They should be able to provide results that can be translated into business actions.<br>"
   ]
  },
  {
   "cell_type": "markdown",
   "metadata": {},
   "source": [
    "##### Function to plot 'within sum of squares' from kmeans algorithm at various k levels"
   ]
  },
  {
   "cell_type": "code",
   "execution_count": 21,
   "metadata": {},
   "outputs": [],
   "source": [
    "# Function to plot 'within sum of squares' from kmeans algorithm at various k levels\n",
    "from sklearn.cluster import KMeans\n",
    "def elbowDiagram(data, max_k=15, randomstate=13, out_wss=False):\n",
    "    wss = []  # empty list created for saving within sum of squares\n",
    "    for i in range(1, max_k+1):\n",
    "        kmodel = KMeans(n_clusters=i, random_state=randomstate)\n",
    "        kmodel.fit(data)\n",
    "        wss.append(kmodel.inertia_)\n",
    "    plt.plot(range(1,max_k+1), wss, 'o')\n",
    "    plt.title('Within Sum of Squares \\nat different k-means cluster levels', fontsize=14)\n",
    "    plt.xlabel('k', fontsize=14)\n",
    "    plt.ylabel('WSS', fontsize=14)\n",
    "    if out_wss:\n",
    "        wss = [round(x) for x in wss]\n",
    "        print(wss)"
   ]
  },
  {
   "cell_type": "code",
   "execution_count": 22,
   "metadata": {},
   "outputs": [
    {
     "data": {
      "image/png": "[encoded data removed]",
      "text/plain": [
       "<Figure size 576x360 with 1 Axes>"
      ]
     },
     "metadata": {},
     "output_type": "display_data"
    }
   ],
   "source": [
    "plt.gcf().set_size_inches(8,5)\n",
    "elbowDiagram(dfn, max_k=15, out_wss=False)"
   ]
  },
  {
   "cell_type": "markdown",
   "metadata": {},
   "source": [
    "<div class=\"alert alert-block alert-info\">\n",
    "    We can see that the marginal decrease in WSS beyond k=4 is not very significant. So, we will build our model with k = 4.\n",
    "</div>"
   ]
  },
  {
   "cell_type": "markdown",
   "metadata": {},
   "source": [
    "#### K-means model"
   ]
  },
  {
   "cell_type": "markdown",
   "metadata": {},
   "source": [
    "##### Unstandardized data\n",
    "First, let us build our model on unstandardized data."
   ]
  },
  {
   "cell_type": "code",
   "execution_count": 23,
   "metadata": {},
   "outputs": [
    {
     "data": {
      "text/plain": [
       "KMeans(n_clusters=4, random_state=1)"
      ]
     },
     "execution_count": 23,
     "metadata": {},
     "output_type": "execute_result"
    }
   ],
   "source": [
    "model_k = KMeans(n_clusters=4, random_state=1)\n",
    "model_k.fit(dfn)"
   ]
  },
  {
   "cell_type": "code",
   "execution_count": 24,
   "metadata": {},
   "outputs": [
    {
     "data": {
      "text/html": [
       "<div>\n",
       "<style scoped>\n",
       "    .dataframe tbody tr th:only-of-type {\n",
       "        vertical-align: middle;\n",
       "    }\n",
       "\n",
       "    .dataframe tbody tr th {\n",
       "        vertical-align: top;\n",
       "    }\n",
       "\n",
       "    .dataframe thead th {\n",
       "        text-align: right;\n",
       "    }\n",
       "</style>\n",
       "<table border=\"1\" class=\"dataframe\">\n",
       "  <thead>\n",
       "    <tr style=\"text-align: right;\">\n",
       "      <th></th>\n",
       "      <th>freq</th>\n",
       "      <th>%</th>\n",
       "    </tr>\n",
       "  </thead>\n",
       "  <tbody>\n",
       "    <tr>\n",
       "      <th>0</th>\n",
       "      <td>95</td>\n",
       "      <td>32</td>\n",
       "    </tr>\n",
       "    <tr>\n",
       "      <th>1</th>\n",
       "      <td>63</td>\n",
       "      <td>21</td>\n",
       "    </tr>\n",
       "    <tr>\n",
       "      <th>2</th>\n",
       "      <td>27</td>\n",
       "      <td>9</td>\n",
       "    </tr>\n",
       "    <tr>\n",
       "      <th>3</th>\n",
       "      <td>115</td>\n",
       "      <td>38</td>\n",
       "    </tr>\n",
       "  </tbody>\n",
       "</table>\n",
       "</div>"
      ],
      "text/plain": [
       "   freq   %\n",
       "0    95  32\n",
       "1    63  21\n",
       "2    27   9\n",
       "3   115  38"
      ]
     },
     "execution_count": 24,
     "metadata": {},
     "output_type": "execute_result"
    }
   ],
   "source": [
    "clust_k = model_k.predict(dfn)      # model_k.labels_\n",
    "\n",
    "fd(pd.Series(clust_k))"
   ]
  },
  {
   "cell_type": "code",
   "execution_count": 25,
   "metadata": {
    "scrolled": true
   },
   "outputs": [
    {
     "data": {
      "text/html": [
       "<div>\n",
       "<style scoped>\n",
       "    .dataframe tbody tr th:only-of-type {\n",
       "        vertical-align: middle;\n",
       "    }\n",
       "\n",
       "    .dataframe tbody tr th {\n",
       "        vertical-align: top;\n",
       "    }\n",
       "\n",
       "    .dataframe thead th {\n",
       "        text-align: right;\n",
       "    }\n",
       "</style>\n",
       "<table border=\"1\" class=\"dataframe\">\n",
       "  <thead>\n",
       "    <tr style=\"text-align: right;\">\n",
       "      <th></th>\n",
       "      <th>age</th>\n",
       "      <th>income</th>\n",
       "      <th>kids</th>\n",
       "      <th>male</th>\n",
       "      <th>homeOwner</th>\n",
       "      <th>subscriber</th>\n",
       "    </tr>\n",
       "  </thead>\n",
       "  <tbody>\n",
       "    <tr>\n",
       "      <th>0</th>\n",
       "      <td>43.754415</td>\n",
       "      <td>63363.204614</td>\n",
       "      <td>1.431579</td>\n",
       "      <td>0.442105</td>\n",
       "      <td>0.410526</td>\n",
       "      <td>0.084211</td>\n",
       "    </tr>\n",
       "    <tr>\n",
       "      <th>1</th>\n",
       "      <td>29.587043</td>\n",
       "      <td>21631.788196</td>\n",
       "      <td>1.063492</td>\n",
       "      <td>0.571429</td>\n",
       "      <td>0.301587</td>\n",
       "      <td>0.158730</td>\n",
       "    </tr>\n",
       "    <tr>\n",
       "      <th>2</th>\n",
       "      <td>54.240592</td>\n",
       "      <td>88950.828656</td>\n",
       "      <td>0.481481</td>\n",
       "      <td>0.407407</td>\n",
       "      <td>0.814815</td>\n",
       "      <td>0.111111</td>\n",
       "    </tr>\n",
       "    <tr>\n",
       "      <th>3</th>\n",
       "      <td>42.389094</td>\n",
       "      <td>47799.838146</td>\n",
       "      <td>1.434783</td>\n",
       "      <td>0.469565</td>\n",
       "      <td>0.530435</td>\n",
       "      <td>0.165217</td>\n",
       "    </tr>\n",
       "  </tbody>\n",
       "</table>\n",
       "</div>"
      ],
      "text/plain": [
       "         age        income      kids      male  homeOwner  subscriber\n",
       "0  43.754415  63363.204614  1.431579  0.442105   0.410526    0.084211\n",
       "1  29.587043  21631.788196  1.063492  0.571429   0.301587    0.158730\n",
       "2  54.240592  88950.828656  0.481481  0.407407   0.814815    0.111111\n",
       "3  42.389094  47799.838146  1.434783  0.469565   0.530435    0.165217"
      ]
     },
     "execution_count": 25,
     "metadata": {},
     "output_type": "execute_result"
    }
   ],
   "source": [
    "# Cluster centroids\n",
    "pd.DataFrame(model_k.cluster_centers_, index=np.unique(clust_k), columns=[i for i in dfn.columns])"
   ]
  },
  {
   "cell_type": "markdown",
   "metadata": {},
   "source": [
    "</a><div class=\"alert alert-block alert-info\">\n",
    "    The groups appear to vary by age, income and home-ownership.<br>\n",
    "    There is very little variation in gender ratio.\n",
    "</div>"
   ]
  },
  {
   "cell_type": "code",
   "execution_count": 26,
   "metadata": {},
   "outputs": [
    {
     "data": {
      "text/plain": [
       "array([ 18, 110, 188,  10], dtype=int64)"
      ]
     },
     "execution_count": 26,
     "metadata": {},
     "output_type": "execute_result"
    }
   ],
   "source": [
    "# Points closest to the cluster centers\n",
    "from sklearn.metrics import pairwise_distances_argmin_min\n",
    "closest, _ = pairwise_distances_argmin_min(model_k.cluster_centers_, dfn)\n",
    "closest"
   ]
  },
  {
   "cell_type": "markdown",
   "metadata": {},
   "source": [
    "Observation 110 is closest to the center of cluster 0, 238 to cluster 1 and so on."
   ]
  },
  {
   "cell_type": "markdown",
   "metadata": {},
   "source": [
    "##### Clusplot\n",
    "We visualize the clusters by plotting them against a dimensional plot. \n",
    "clusplot() will perform dimensional reduction with principal components or multidimensional scaling as the data warrant, and then plot the observations with cluster membership identified"
   ]
  },
  {
   "cell_type": "code",
   "execution_count": 27,
   "metadata": {},
   "outputs": [
    {
     "data": {
      "image/png": "[encoded data removed]",
      "text/plain": [
       "<Figure size 576x360 with 1 Axes>"
      ]
     },
     "metadata": {},
     "output_type": "display_data"
    }
   ],
   "source": [
    "clustplot(dfn_sz, clust_k, standardize=False)"
   ]
  },
  {
   "cell_type": "markdown",
   "metadata": {},
   "source": [
    "##### Segment distributions"
   ]
  },
  {
   "cell_type": "code",
   "execution_count": 28,
   "metadata": {
    "scrolled": true
   },
   "outputs": [
    {
     "data": {
      "image/png": "[encoded data removed]",
      "text/plain": [
       "<Figure size 864x216 with 1 Axes>"
      ]
     },
     "metadata": {},
     "output_type": "display_data"
    }
   ],
   "source": [
    "# Age distribution in groups\n",
    "segment_boxplot(df.age, model_k.labels_, title='Segment Age Distribution', xlab='age')"
   ]
  },
  {
   "cell_type": "code",
   "execution_count": 29,
   "metadata": {},
   "outputs": [
    {
     "data": {
      "image/png": "[encoded data removed]",
      "text/plain": [
       "<Figure size 864x216 with 1 Axes>"
      ]
     },
     "metadata": {},
     "output_type": "display_data"
    }
   ],
   "source": [
    "# Income distribution in groups\n",
    "segment_boxplot(df.income, model_k.labels_, title='Segment Income Distribution', xlab='income')"
   ]
  },
  {
   "cell_type": "code",
   "execution_count": 30,
   "metadata": {},
   "outputs": [
    {
     "data": {
      "image/png": "[encoded data removed]",
      "text/plain": [
       "<Figure size 864x216 with 1 Axes>"
      ]
     },
     "metadata": {},
     "output_type": "display_data"
    }
   ],
   "source": [
    "# Kids distribution in groups\n",
    "segment_boxplot(df.kids, model_k.labels_, title='Segment Kids Distribution', xlab='income')"
   ]
  },
  {
   "cell_type": "code",
   "execution_count": 31,
   "metadata": {},
   "outputs": [
    {
     "name": "stdout",
     "output_type": "stream",
     "text": [
      "Cluster : 0\n",
      "        freq   %\n",
      "ownNo     56  59\n",
      "ownYes    39  41\n",
      "\n",
      "\n",
      "Cluster : 1\n",
      "        freq   %\n",
      "ownNo     44  70\n",
      "ownYes    19  30\n",
      "\n",
      "\n",
      "Cluster : 2\n",
      "        freq   %\n",
      "ownNo      5  19\n",
      "ownYes    22  81\n",
      "\n",
      "\n",
      "Cluster : 3\n",
      "        freq   %\n",
      "ownNo     54  47\n",
      "ownYes    61  53\n",
      "\n",
      "\n"
     ]
    }
   ],
   "source": [
    "# Home ownership\n",
    "for i in np.unique(model_k.labels_):\n",
    "    print(f'Cluster : {i}')\n",
    "    print(fd(df.ownHome[model_k.labels_ == i]))\n",
    "    print('\\n')"
   ]
  },
  {
   "cell_type": "code",
   "execution_count": 32,
   "metadata": {},
   "outputs": [
    {
     "data": {
      "text/html": [
       "<div>\n",
       "<style scoped>\n",
       "    .dataframe tbody tr th:only-of-type {\n",
       "        vertical-align: middle;\n",
       "    }\n",
       "\n",
       "    .dataframe tbody tr th {\n",
       "        vertical-align: top;\n",
       "    }\n",
       "\n",
       "    .dataframe thead th {\n",
       "        text-align: right;\n",
       "    }\n",
       "</style>\n",
       "<table border=\"1\" class=\"dataframe\">\n",
       "  <thead>\n",
       "    <tr style=\"text-align: right;\">\n",
       "      <th></th>\n",
       "      <th>age</th>\n",
       "      <th>income</th>\n",
       "      <th>kids</th>\n",
       "    </tr>\n",
       "  </thead>\n",
       "  <tbody>\n",
       "    <tr>\n",
       "      <th>count</th>\n",
       "      <td>300.0</td>\n",
       "      <td>300.0</td>\n",
       "      <td>300.0</td>\n",
       "    </tr>\n",
       "    <tr>\n",
       "      <th>mean</th>\n",
       "      <td>41.2</td>\n",
       "      <td>50936.5</td>\n",
       "      <td>1.3</td>\n",
       "    </tr>\n",
       "    <tr>\n",
       "      <th>std</th>\n",
       "      <td>12.7</td>\n",
       "      <td>20137.5</td>\n",
       "      <td>1.4</td>\n",
       "    </tr>\n",
       "    <tr>\n",
       "      <th>min</th>\n",
       "      <td>19.3</td>\n",
       "      <td>-5183.4</td>\n",
       "      <td>0.0</td>\n",
       "    </tr>\n",
       "    <tr>\n",
       "      <th>25%</th>\n",
       "      <td>33.0</td>\n",
       "      <td>39656.3</td>\n",
       "      <td>0.0</td>\n",
       "    </tr>\n",
       "    <tr>\n",
       "      <th>50%</th>\n",
       "      <td>39.5</td>\n",
       "      <td>52014.4</td>\n",
       "      <td>1.0</td>\n",
       "    </tr>\n",
       "    <tr>\n",
       "      <th>75%</th>\n",
       "      <td>47.9</td>\n",
       "      <td>61403.2</td>\n",
       "      <td>2.0</td>\n",
       "    </tr>\n",
       "    <tr>\n",
       "      <th>max</th>\n",
       "      <td>80.5</td>\n",
       "      <td>114278.3</td>\n",
       "      <td>7.0</td>\n",
       "    </tr>\n",
       "  </tbody>\n",
       "</table>\n",
       "</div>"
      ],
      "text/plain": [
       "         age    income   kids\n",
       "count  300.0     300.0  300.0\n",
       "mean    41.2   50936.5    1.3\n",
       "std     12.7   20137.5    1.4\n",
       "min     19.3   -5183.4    0.0\n",
       "25%     33.0   39656.3    0.0\n",
       "50%     39.5   52014.4    1.0\n",
       "75%     47.9   61403.2    2.0\n",
       "max     80.5  114278.3    7.0"
      ]
     },
     "execution_count": 32,
     "metadata": {},
     "output_type": "execute_result"
    }
   ],
   "source": [
    "# Overall summary\n",
    "df.select_dtypes(include='number').describe().round(1)"
   ]
  },
  {
   "cell_type": "code",
   "execution_count": 33,
   "metadata": {},
   "outputs": [
    {
     "name": "stdout",
     "output_type": "stream",
     "text": [
      "Variable : gender\n",
      "        count  perc\n",
      "Female    157  52.3\n",
      "Male      143  47.7\n",
      "\n",
      "\n",
      "Variable : ownHome\n",
      "        count  perc\n",
      "ownNo     159  53.0\n",
      "ownYes    141  47.0\n",
      "\n",
      "\n",
      "Variable : subscribe\n",
      "        count  perc\n",
      "subNo     260  86.7\n",
      "subYes     40  13.3\n",
      "\n",
      "\n"
     ]
    }
   ],
   "source": [
    "# Value counts of factors\n",
    "for var in df.select_dtypes(include='category').columns:\n",
    "    print(f'Variable : {var}')\n",
    "    print(pd.concat([df[var].value_counts(), df[var].value_counts(normalize=True).round(3)*100], \n",
    "                      axis=1, keys=['count','perc']))\n",
    "    print('\\n')"
   ]
  },
  {
   "cell_type": "markdown",
   "metadata": {},
   "source": [
    "<a id='obs-kmeans'></a>"
   ]
  },
  {
   "cell_type": "markdown",
   "metadata": {},
   "source": [
    "<div class=\"alert alert-block alert-info\">\n",
    "<h5>Segment distinguishing features</h5><br>\n",
    "    <b>Group 0</b><br>\n",
    "    - <b>Age</b>: mix of old and young, but slightly older than average<br>\n",
    "    - <b>Income</b>: high<br>\n",
    "    - <b>Kids</b>: distribution similar to overall sample<br>\n",
    "    - <b>Gender</b>: mixed gender ratio<br>\n",
    "    - <b>Home-ownership</b>: 41% (slightly lower than overall rate of 47%)<br>\n",
    "    - <b>Subscribe</b>: lowest subscription rates<br>\n",
    "    <br>\n",
    "    <b>Group 1</b><br>\n",
    "    - <b>Age</b>: young<br>\n",
    "    - <b>Income</b>: low income<br>\n",
    "    - <b>Kids</b>: distribution similar to overall sample<br>\n",
    "    - <b>Gender</b>: mostly male (57%)<br>\n",
    "    - <b>Home-ownership</b>: lowest home-ownership rates at 30% (overall 47%)<br>\n",
    "    - <b>Subscribe</b>: high subscription rates<br>\n",
    "    <br>\n",
    "    <b>Group 2</b><br>\n",
    "    - <b>Age</b>: old<br>\n",
    "    - <b>Income</b>: highest income group (in the top 90th percentile overall)<br>\n",
    "    - <b>Kids</b>: mostly don't have kids<br>\n",
    "    - <b>Gender</b>: predominantly female (60%)<br>\n",
    "    - <b>Home-ownership</b>: high home-ownership (almost double the overall rate of 47%)<br>\n",
    "    - <b>Subscribe</b>: slightly below avg subscription rate<br>\n",
    "    <br>\n",
    "    <b>Group 3</b><br>\n",
    "    - <b>Age</b>: mix of old and young, but slightly younger than average<br>\n",
    "    - <b>Income</b>: middle level income<br>\n",
    "    - <b>Kids</b>: distribution similar to overall sample<br>\n",
    "    - <b>Gender</b>: mixed, same as overall (47% males, 53% females)<br>\n",
    "    - <b>Home-ownership</b>: 53%, slightly above overall rate of 47%<br>\n",
    "    - <b>Subscribe</b>: highest subscription rate<br>\n",
    "</div>"
   ]
  },
  {
   "cell_type": "markdown",
   "metadata": {},
   "source": [
    " <div align=\"center\"><b>-----------------------------------------------------------------------------------------------------------------------------------------------------</b></div>"
   ]
  },
  {
   "cell_type": "markdown",
   "metadata": {},
   "source": [
    "#### Standardized data"
   ]
  },
  {
   "cell_type": "code",
   "execution_count": 34,
   "metadata": {},
   "outputs": [
    {
     "data": {
      "text/plain": [
       "KMeans(n_clusters=4, random_state=1)"
      ]
     },
     "execution_count": 34,
     "metadata": {},
     "output_type": "execute_result"
    }
   ],
   "source": [
    "model_k_sz = KMeans(n_clusters=4, random_state=1)\n",
    "model_k_sz.fit(dfn_sz)"
   ]
  },
  {
   "cell_type": "code",
   "execution_count": 35,
   "metadata": {},
   "outputs": [
    {
     "data": {
      "text/html": [
       "<div>\n",
       "<style scoped>\n",
       "    .dataframe tbody tr th:only-of-type {\n",
       "        vertical-align: middle;\n",
       "    }\n",
       "\n",
       "    .dataframe tbody tr th {\n",
       "        vertical-align: top;\n",
       "    }\n",
       "\n",
       "    .dataframe thead th {\n",
       "        text-align: right;\n",
       "    }\n",
       "</style>\n",
       "<table border=\"1\" class=\"dataframe\">\n",
       "  <thead>\n",
       "    <tr style=\"text-align: right;\">\n",
       "      <th></th>\n",
       "      <th>freq</th>\n",
       "      <th>%</th>\n",
       "    </tr>\n",
       "  </thead>\n",
       "  <tbody>\n",
       "    <tr>\n",
       "      <th>0</th>\n",
       "      <td>39</td>\n",
       "      <td>13</td>\n",
       "    </tr>\n",
       "    <tr>\n",
       "      <th>1</th>\n",
       "      <td>91</td>\n",
       "      <td>30</td>\n",
       "    </tr>\n",
       "    <tr>\n",
       "      <th>2</th>\n",
       "      <td>92</td>\n",
       "      <td>31</td>\n",
       "    </tr>\n",
       "    <tr>\n",
       "      <th>3</th>\n",
       "      <td>78</td>\n",
       "      <td>26</td>\n",
       "    </tr>\n",
       "  </tbody>\n",
       "</table>\n",
       "</div>"
      ],
      "text/plain": [
       "   freq   %\n",
       "0    39  13\n",
       "1    91  30\n",
       "2    92  31\n",
       "3    78  26"
      ]
     },
     "execution_count": 35,
     "metadata": {},
     "output_type": "execute_result"
    }
   ],
   "source": [
    "# Frequency table - Clusters\n",
    "clust_k_sz = model_k_sz.predict(dfn_sz)\n",
    "fd(pd.Series(clust_k_sz))"
   ]
  },
  {
   "cell_type": "code",
   "execution_count": 36,
   "metadata": {},
   "outputs": [
    {
     "data": {
      "text/html": [
       "<div>\n",
       "<style scoped>\n",
       "    .dataframe tbody tr th:only-of-type {\n",
       "        vertical-align: middle;\n",
       "    }\n",
       "\n",
       "    .dataframe tbody tr th {\n",
       "        vertical-align: top;\n",
       "    }\n",
       "\n",
       "    .dataframe thead th {\n",
       "        text-align: right;\n",
       "    }\n",
       "</style>\n",
       "<table border=\"1\" class=\"dataframe\">\n",
       "  <thead>\n",
       "    <tr style=\"text-align: right;\">\n",
       "      <th></th>\n",
       "      <th>age</th>\n",
       "      <th>income</th>\n",
       "      <th>kids</th>\n",
       "      <th>male</th>\n",
       "      <th>homeOwner</th>\n",
       "      <th>subscriber</th>\n",
       "    </tr>\n",
       "    <tr>\n",
       "      <th>cluster</th>\n",
       "      <th></th>\n",
       "      <th></th>\n",
       "      <th></th>\n",
       "      <th></th>\n",
       "      <th></th>\n",
       "      <th></th>\n",
       "    </tr>\n",
       "  </thead>\n",
       "  <tbody>\n",
       "    <tr>\n",
       "      <th>0</th>\n",
       "      <td>38.599344</td>\n",
       "      <td>45006.917378</td>\n",
       "      <td>1.282051</td>\n",
       "      <td>0.461538</td>\n",
       "      <td>0.435897</td>\n",
       "      <td>1.000000</td>\n",
       "    </tr>\n",
       "    <tr>\n",
       "      <th>1</th>\n",
       "      <td>35.045163</td>\n",
       "      <td>49682.364920</td>\n",
       "      <td>1.769231</td>\n",
       "      <td>0.000000</td>\n",
       "      <td>0.318681</td>\n",
       "      <td>0.000000</td>\n",
       "    </tr>\n",
       "    <tr>\n",
       "      <th>2</th>\n",
       "      <td>35.208379</td>\n",
       "      <td>44625.519102</td>\n",
       "      <td>1.771739</td>\n",
       "      <td>1.000000</td>\n",
       "      <td>0.336957</td>\n",
       "      <td>0.000000</td>\n",
       "    </tr>\n",
       "    <tr>\n",
       "      <th>3</th>\n",
       "      <td>56.746664</td>\n",
       "      <td>62808.309131</td>\n",
       "      <td>0.089744</td>\n",
       "      <td>0.423077</td>\n",
       "      <td>0.820513</td>\n",
       "      <td>0.012821</td>\n",
       "    </tr>\n",
       "  </tbody>\n",
       "</table>\n",
       "</div>"
      ],
      "text/plain": [
       "               age        income      kids      male  homeOwner  subscriber\n",
       "cluster                                                                    \n",
       "0        38.599344  45006.917378  1.282051  0.461538   0.435897    1.000000\n",
       "1        35.045163  49682.364920  1.769231  0.000000   0.318681    0.000000\n",
       "2        35.208379  44625.519102  1.771739  1.000000   0.336957    0.000000\n",
       "3        56.746664  62808.309131  0.089744  0.423077   0.820513    0.012821"
      ]
     },
     "execution_count": 36,
     "metadata": {},
     "output_type": "execute_result"
    }
   ],
   "source": [
    "# Segment-wise means\n",
    "seg_summ(dfn, clust_k_sz)"
   ]
  },
  {
   "cell_type": "markdown",
   "metadata": {},
   "source": [
    "<a id='obs-kmeans2'></a>"
   ]
  },
  {
   "cell_type": "markdown",
   "metadata": {},
   "source": [
    "<div class=\"alert alert-block alert-info\">\n",
    "<h5>Segment distinguishing features</h5><br>\n",
    "    The differentiation between the groups has reduced considerably compared with the model built on unstandardized data.<br>\n",
    "    Groups 0-2 have similar ages, incomes, home-ownership rates amongst themselves, but differ from group 3.<br>\n",
    "    Groups 1 and 2 are non-subscibers that have similar feature means, and differ on gender only.<br>\n",
    "    Group 0 contains subscribers, who are similar to group 1 and 2 in all respects except having 46% males.<br>\n",
    "    <br>\n",
    "    <b>Unstandardized data has provided a more meaningful and useful segmentation for this dataset.</b>\n",
    "</div>"
   ]
  },
  {
   "cell_type": "markdown",
   "metadata": {},
   "source": [
    "##### Segment distributions"
   ]
  },
  {
   "cell_type": "code",
   "execution_count": 37,
   "metadata": {},
   "outputs": [
    {
     "data": {
      "image/png": "[encoded data removed]",
      "text/plain": [
       "<Figure size 864x216 with 1 Axes>"
      ]
     },
     "metadata": {},
     "output_type": "display_data"
    }
   ],
   "source": [
    "segment_boxplot(dfn.age, clust_k_sz, title='Age')"
   ]
  },
  {
   "cell_type": "code",
   "execution_count": 38,
   "metadata": {},
   "outputs": [
    {
     "data": {
      "image/png": "[encoded data removed]",
      "text/plain": [
       "<Figure size 864x216 with 1 Axes>"
      ]
     },
     "metadata": {},
     "output_type": "display_data"
    }
   ],
   "source": [
    "segment_boxplot(dfn.income, clust_k_sz, 'Income')"
   ]
  },
  {
   "cell_type": "code",
   "execution_count": 39,
   "metadata": {},
   "outputs": [
    {
     "data": {
      "image/png": "[encoded data removed]",
      "text/plain": [
       "<Figure size 864x216 with 1 Axes>"
      ]
     },
     "metadata": {},
     "output_type": "display_data"
    }
   ],
   "source": [
    "segment_boxplot(dfn.kids, clust_k_sz, 'Kids')"
   ]
  },
  {
   "cell_type": "markdown",
   "metadata": {},
   "source": [
    "[go to toc](#index)"
   ]
  },
  {
   "cell_type": "markdown",
   "metadata": {},
   "source": [
    "<div align=\"center\"><b>------------------------------------------------------------------------------------------------------------------------------------------------------------------------------------------------</b></div>"
   ]
  },
  {
   "cell_type": "markdown",
   "metadata": {},
   "source": [
    "### b) Hierarchical clustering\n",
    "\n",
    "<b>Agglomerative approach (bottom-up)</b><br>\n",
    "The clustering process begins with each observation in its own cluster. \n",
    "Then observations are clustered together with other observations that are closest to them. \n",
    "Centroid of this cluster is then used to measure distance of other observations from it based on which further clustering takes place.\n",
    "This process continues until all the observations are linked.<br>\n",
    "\n",
    "<b>Divisive approach (top-down)</b><br>\n",
    "All observations are presumed to belong to one big cluster and splits are performed recursively by moving dissimilar points into separate clusters.\n",
    "[To divide the data](https://stats.stackexchange.com/questions/148094/how-to-perform-divisive-hierarchical-clustering), we start by finding the single point which is the most dissimilar to the rest of the cluster.\n",
    "The most dissimilar point is found by calculating the average distance of that point with all the other points.\n",
    "The point with the higest average distance is the most dissimilar.\n",
    "The process stops when we have the desired number of clusters.<br>\n",
    "\n",
    "<b><i>Which approach is best for you?</i></b><br>\n",
    "It is always worth trying all the options, but in general, [agglomerative clustering is better](https://towardsdatascience.com/hierarchical-clustering-on-categorical-data-in-r-a27e578f2995) in discovering small clusters, and is used by most software; divisive clustering — in discovering larger clusters.<br>\n",
    "\n",
    "<b><i>We will use the agglomerative approach here with gower's distance as the metric for dissimilarity matrix - a matrix that reports a metric for the distance between each pair of observation.</i></b>"
   ]
  },
  {
   "cell_type": "markdown",
   "metadata": {},
   "source": [
    "#### Dissimilarity matrix"
   ]
  },
  {
   "cell_type": "code",
   "execution_count": 40,
   "metadata": {},
   "outputs": [
    {
     "data": {
      "text/plain": [
       "array([[0.        , 0.25328153, 0.23290278, 0.261725  , 0.4161338 ],\n",
       "       [0.25328153, 0.        , 0.06799781, 0.41294932, 0.30144686],\n",
       "       [0.23290278, 0.06799781, 0.        , 0.4246012 , 0.2932957 ],\n",
       "       [0.261725  , 0.41294932, 0.4246012 , 0.        , 0.22654359],\n",
       "       [0.4161338 , 0.30144686, 0.2932957 , 0.22654359, 0.        ]], dtype=float32)"
      ]
     },
     "execution_count": 40,
     "metadata": {},
     "output_type": "execute_result"
    }
   ],
   "source": [
    "import gower\n",
    "\n",
    "# gower does not recognize the 'category' type, so will need to convert that\n",
    "tempdf = df.copy()\n",
    "for col in tempdf.select_dtypes('category').columns:\n",
    "    tempdf[col] = tempdf[col].astype('str')\n",
    "\n",
    "# Calculate gower coefficient\n",
    "gower_d = gower.gower_matrix(tempdf)\n",
    "\n",
    "# Sample of matrix\n",
    "gower_d[0:5,0:5]"
   ]
  },
  {
   "cell_type": "code",
   "execution_count": 41,
   "metadata": {},
   "outputs": [
    {
     "data": {
      "text/html": [
       "<div>\n",
       "<style scoped>\n",
       "    .dataframe tbody tr th:only-of-type {\n",
       "        vertical-align: middle;\n",
       "    }\n",
       "\n",
       "    .dataframe tbody tr th {\n",
       "        vertical-align: top;\n",
       "    }\n",
       "\n",
       "    .dataframe thead th {\n",
       "        text-align: right;\n",
       "    }\n",
       "</style>\n",
       "<table border=\"1\" class=\"dataframe\">\n",
       "  <thead>\n",
       "    <tr style=\"text-align: right;\">\n",
       "      <th></th>\n",
       "      <th>0</th>\n",
       "      <th>1</th>\n",
       "      <th>2</th>\n",
       "      <th>3</th>\n",
       "      <th>4</th>\n",
       "      <th>5</th>\n",
       "      <th>6</th>\n",
       "      <th>7</th>\n",
       "      <th>8</th>\n",
       "      <th>9</th>\n",
       "      <th>...</th>\n",
       "      <th>290</th>\n",
       "      <th>291</th>\n",
       "      <th>292</th>\n",
       "      <th>293</th>\n",
       "      <th>294</th>\n",
       "      <th>295</th>\n",
       "      <th>296</th>\n",
       "      <th>297</th>\n",
       "      <th>298</th>\n",
       "      <th>299</th>\n",
       "    </tr>\n",
       "  </thead>\n",
       "  <tbody>\n",
       "    <tr>\n",
       "      <th>min</th>\n",
       "      <td>0.000000</td>\n",
       "      <td>0.000000</td>\n",
       "      <td>0.000000</td>\n",
       "      <td>0.000000</td>\n",
       "      <td>0.000000</td>\n",
       "      <td>0.000000</td>\n",
       "      <td>0.000000</td>\n",
       "      <td>0.000000</td>\n",
       "      <td>0.000000</td>\n",
       "      <td>0.000000</td>\n",
       "      <td>...</td>\n",
       "      <td>0.000000</td>\n",
       "      <td>0.00000</td>\n",
       "      <td>0.000000</td>\n",
       "      <td>0.000000</td>\n",
       "      <td>0.000000</td>\n",
       "      <td>0.000000</td>\n",
       "      <td>0.000000</td>\n",
       "      <td>0.000000</td>\n",
       "      <td>0.000000</td>\n",
       "      <td>0.000000</td>\n",
       "    </tr>\n",
       "    <tr>\n",
       "      <th>max</th>\n",
       "      <td>0.640466</td>\n",
       "      <td>0.627514</td>\n",
       "      <td>0.630225</td>\n",
       "      <td>0.642766</td>\n",
       "      <td>0.683291</td>\n",
       "      <td>0.709348</td>\n",
       "      <td>0.722094</td>\n",
       "      <td>0.669863</td>\n",
       "      <td>0.669657</td>\n",
       "      <td>0.618489</td>\n",
       "      <td>...</td>\n",
       "      <td>0.639023</td>\n",
       "      <td>0.77275</td>\n",
       "      <td>0.691986</td>\n",
       "      <td>0.684095</td>\n",
       "      <td>0.631416</td>\n",
       "      <td>0.600384</td>\n",
       "      <td>0.680153</td>\n",
       "      <td>0.651476</td>\n",
       "      <td>0.629872</td>\n",
       "      <td>0.703377</td>\n",
       "    </tr>\n",
       "  </tbody>\n",
       "</table>\n",
       "<p>2 rows × 300 columns</p>\n",
       "</div>"
      ],
      "text/plain": [
       "          0         1         2         3         4         5         6    \\\n",
       "min  0.000000  0.000000  0.000000  0.000000  0.000000  0.000000  0.000000   \n",
       "max  0.640466  0.627514  0.630225  0.642766  0.683291  0.709348  0.722094   \n",
       "\n",
       "          7         8         9    ...       290      291       292       293  \\\n",
       "min  0.000000  0.000000  0.000000  ...  0.000000  0.00000  0.000000  0.000000   \n",
       "max  0.669863  0.669657  0.618489  ...  0.639023  0.77275  0.691986  0.684095   \n",
       "\n",
       "          294       295       296       297       298       299  \n",
       "min  0.000000  0.000000  0.000000  0.000000  0.000000  0.000000  \n",
       "max  0.631416  0.600384  0.680153  0.651476  0.629872  0.703377  \n",
       "\n",
       "[2 rows x 300 columns]"
      ]
     },
     "execution_count": 41,
     "metadata": {},
     "output_type": "execute_result"
    }
   ],
   "source": [
    "# Understanding the dimensions of the Gower's Distance matrix\n",
    "a = pd.DataFrame(gower_d)\n",
    "b = pd.concat([a.apply(lambda x: min(x)), a.apply(lambda x: max(x))], \n",
    "              axis=1, keys=['min','max']).T\n",
    "b"
   ]
  },
  {
   "cell_type": "code",
   "execution_count": 42,
   "metadata": {},
   "outputs": [
    {
     "data": {
      "text/plain": [
       "0.8111075758934021"
      ]
     },
     "execution_count": 42,
     "metadata": {},
     "output_type": "execute_result"
    }
   ],
   "source": [
    "max(b.loc['max'])"
   ]
  },
  {
   "cell_type": "markdown",
   "metadata": {},
   "source": [
    "<div align=\"center\"><b>------------------------------------------------------------------------------------------------------------------------------------------------------------------------------------------------</b></div>"
   ]
  },
  {
   "cell_type": "markdown",
   "metadata": {},
   "source": [
    "#### Hierarchical Clustering\n",
    "Resources : [1](https://www.thinkdatascience.com/post/2019-12-16-introducing-python-package-gower/) , [2](https://stackabuse.com/hierarchical-clustering-with-python-and-scikit-learn/)"
   ]
  },
  {
   "cell_type": "code",
   "execution_count": 43,
   "metadata": {},
   "outputs": [],
   "source": [
    "from scipy.cluster.hierarchy import linkage, fcluster, dendrogram, cut_tree\n",
    "from scipy.spatial.distance import squareform"
   ]
  },
  {
   "cell_type": "code",
   "execution_count": 44,
   "metadata": {},
   "outputs": [
    {
     "data": {
      "text/plain": [
       "array([[8.40000000e+01, 2.90000000e+02, 1.76507013e-03, 2.00000000e+00],\n",
       "       [1.25000000e+02, 1.26000000e+02, 2.51056440e-03, 2.00000000e+00],\n",
       "       [1.19000000e+02, 1.24000000e+02, 2.91917776e-03, 2.00000000e+00],\n",
       "       ...,\n",
       "       [5.92000000e+02, 5.94000000e+02, 6.17942750e-01, 4.00000000e+01],\n",
       "       [5.93000000e+02, 5.95000000e+02, 6.62737429e-01, 2.60000000e+02],\n",
       "       [5.96000000e+02, 5.97000000e+02, 8.11107576e-01, 3.00000000e+02]])"
      ]
     },
     "execution_count": 44,
     "metadata": {},
     "output_type": "execute_result"
    }
   ],
   "source": [
    "clust_hc = linkage(squareform(gower_d), method='complete')\n",
    "clust_hc"
   ]
  },
  {
   "cell_type": "markdown",
   "metadata": {},
   "source": [
    "<div align=\"center\"><b>------------------------------------------------------------------------------------------------------------------------------------------------------------------------------------------------</b></div>"
   ]
  },
  {
   "cell_type": "markdown",
   "metadata": {},
   "source": [
    "#### Dendrogram"
   ]
  },
  {
   "cell_type": "code",
   "execution_count": 45,
   "metadata": {},
   "outputs": [
    {
     "data": {
      "image/png": "[encoded data removed]",
      "text/plain": [
       "<Figure size 1800x720 with 1 Axes>"
      ]
     },
     "metadata": {},
     "output_type": "display_data"
    }
   ],
   "source": [
    "plt.figure(figsize=(25,10))\n",
    "dendrogram(clust_hc, leaf_font_size=10);"
   ]
  },
  {
   "cell_type": "markdown",
   "metadata": {},
   "source": [
    "<b>A hierarchical dendrogram is interpreted primarily by height and where observations are joined. \n",
    "The height represents the dissimilarity between elements that are joined.</b>"
   ]
  },
  {
   "cell_type": "markdown",
   "metadata": {},
   "source": [
    "<div align=\"center\"><b>------------------------------------------------------------------------------------------------------------------------------------------------------------------------------------------------</b></div>"
   ]
  },
  {
   "cell_type": "markdown",
   "metadata": {},
   "source": [
    "#### Segment assignments\n",
    "<i>How do we get specific segment assignments?<br></i>\n",
    "A dendrogram can be cut into clusters at any height desired, resulting in different numbers of groups.<br>\n",
    "Because a dendrogram can be cut at any point, the analyst must specify the number of groups desired.<br><br>\n",
    "Looking at the dendrogram, k = 4 seems to be a good cut-off point."
   ]
  },
  {
   "cell_type": "code",
   "execution_count": 46,
   "metadata": {
    "scrolled": true
   },
   "outputs": [
    {
     "data": {
      "text/plain": [
       "3    136\n",
       "4    124\n",
       "1     22\n",
       "2     18\n",
       "dtype: int64"
      ]
     },
     "execution_count": 46,
     "metadata": {},
     "output_type": "execute_result"
    }
   ],
   "source": [
    "clust_hc_segments = fcluster(clust_hc, 4, criterion='maxclust')\n",
    "pd.Series(clust_hc_segments).value_counts()"
   ]
  },
  {
   "cell_type": "markdown",
   "metadata": {},
   "source": [
    "We can see that groups 1 and 2 dominate the assignment."
   ]
  },
  {
   "cell_type": "markdown",
   "metadata": {},
   "source": [
    "###### Alternative"
   ]
  },
  {
   "cell_type": "code",
   "execution_count": 47,
   "metadata": {},
   "outputs": [
    {
     "data": {
      "text/plain": [
       "2    136\n",
       "0    124\n",
       "3     22\n",
       "1     18\n",
       "dtype: int64"
      ]
     },
     "execution_count": 47,
     "metadata": {},
     "output_type": "execute_result"
    }
   ],
   "source": [
    "from sklearn.cluster import AgglomerativeClustering\n",
    "ac_model = AgglomerativeClustering(n_clusters = 4, affinity='precomputed', linkage='complete')\n",
    "clust_hc2 = ac_model.fit(gower_d)\n",
    "clust_hc2_segments = ac_model.fit_predict(gower_d)\n",
    "pd.Series(clust_hc2_segments).value_counts()"
   ]
  },
  {
   "cell_type": "markdown",
   "metadata": {},
   "source": [
    "#### Segment summary"
   ]
  },
  {
   "cell_type": "code",
   "execution_count": 48,
   "metadata": {},
   "outputs": [
    {
     "data": {
      "text/html": [
       "<div>\n",
       "<style scoped>\n",
       "    .dataframe tbody tr th:only-of-type {\n",
       "        vertical-align: middle;\n",
       "    }\n",
       "\n",
       "    .dataframe tbody tr th {\n",
       "        vertical-align: top;\n",
       "    }\n",
       "\n",
       "    .dataframe thead th {\n",
       "        text-align: right;\n",
       "    }\n",
       "</style>\n",
       "<table border=\"1\" class=\"dataframe\">\n",
       "  <thead>\n",
       "    <tr style=\"text-align: right;\">\n",
       "      <th></th>\n",
       "      <th>age</th>\n",
       "      <th>income</th>\n",
       "      <th>kids</th>\n",
       "      <th>male</th>\n",
       "      <th>homeOwner</th>\n",
       "      <th>subscriber</th>\n",
       "    </tr>\n",
       "    <tr>\n",
       "      <th>cluster</th>\n",
       "      <th></th>\n",
       "      <th></th>\n",
       "      <th></th>\n",
       "      <th></th>\n",
       "      <th></th>\n",
       "      <th></th>\n",
       "    </tr>\n",
       "  </thead>\n",
       "  <tbody>\n",
       "    <tr>\n",
       "      <th>0</th>\n",
       "      <td>40.784556</td>\n",
       "      <td>49454.075091</td>\n",
       "      <td>1.314516</td>\n",
       "      <td>1.000000</td>\n",
       "      <td>0.467742</td>\n",
       "      <td>0.0</td>\n",
       "    </tr>\n",
       "    <tr>\n",
       "      <th>1</th>\n",
       "      <td>44.311939</td>\n",
       "      <td>52628.416596</td>\n",
       "      <td>1.388889</td>\n",
       "      <td>0.388889</td>\n",
       "      <td>1.000000</td>\n",
       "      <td>1.0</td>\n",
       "    </tr>\n",
       "    <tr>\n",
       "      <th>2</th>\n",
       "      <td>42.034923</td>\n",
       "      <td>53759.624533</td>\n",
       "      <td>1.235294</td>\n",
       "      <td>0.000000</td>\n",
       "      <td>0.477941</td>\n",
       "      <td>0.0</td>\n",
       "    </tr>\n",
       "    <tr>\n",
       "      <th>3</th>\n",
       "      <td>35.829349</td>\n",
       "      <td>40456.141298</td>\n",
       "      <td>1.136364</td>\n",
       "      <td>0.545455</td>\n",
       "      <td>0.000000</td>\n",
       "      <td>1.0</td>\n",
       "    </tr>\n",
       "  </tbody>\n",
       "</table>\n",
       "</div>"
      ],
      "text/plain": [
       "               age        income      kids      male  homeOwner  subscriber\n",
       "cluster                                                                    \n",
       "0        40.784556  49454.075091  1.314516  1.000000   0.467742         0.0\n",
       "1        44.311939  52628.416596  1.388889  0.388889   1.000000         1.0\n",
       "2        42.034923  53759.624533  1.235294  0.000000   0.477941         0.0\n",
       "3        35.829349  40456.141298  1.136364  0.545455   0.000000         1.0"
      ]
     },
     "execution_count": 48,
     "metadata": {},
     "output_type": "execute_result"
    }
   ],
   "source": [
    "# Mean factor value for each segment\n",
    "seg_summ(dfn, clust_hc2_segments)"
   ]
  },
  {
   "cell_type": "markdown",
   "metadata": {},
   "source": [
    "<div class=\"alert alert-block alert-info\">\n",
    "We can see that groups 0 and 2 represent non-subscribers that have been divided along the lines of gender.<br>\n",
    "Groups 1 and 3 contain subscribers and have been segregated into home owners and renters.<br>\n",
    "These results are not very nuanced or insightful.\n",
    "</div>"
   ]
  },
  {
   "cell_type": "code",
   "execution_count": 49,
   "metadata": {},
   "outputs": [
    {
     "data": {
      "image/png": "[encoded data removed]",
      "text/plain": [
       "<Figure size 504x360 with 1 Axes>"
      ]
     },
     "metadata": {},
     "output_type": "display_data"
    }
   ],
   "source": [
    "# Plotting segments\n",
    "plt.gcf().set_size_inches(7,5)\n",
    "sns.stripplot(x=dfn['male'], y=dfn['subscriber']+np.random.normal(0,.1,size=300), jitter=.2, \n",
    "              hue=clust_hc2_segments, palette=['green','orange','brown','steelblue'], \n",
    "              s=7, marker = 'o')\n",
    "plt.legend(bbox_to_anchor=(1.12, 1), borderaxespad=0, frameon=False);"
   ]
  },
  {
   "cell_type": "markdown",
   "metadata": {},
   "source": [
    "<div class=\"alert alert-block alert-info\">\n",
    "The reason for such simple and uninteresting results from hierarchical clustering could be the rescaling done on the categorical columns. \n",
    "In the dataset, we had only binary categorical variables, that were rescaled to [0,1], which made the two-category factors (gender, ownHome, subscribe) more influential.<br>\n",
    "We need to try other methods.\n",
    "</div>"
   ]
  },
  {
   "cell_type": "markdown",
   "metadata": {},
   "source": [
    "[go to toc](#index)"
   ]
  },
  {
   "cell_type": "markdown",
   "metadata": {},
   "source": [
    "<div align=\"center\"><b>------------------------------------------------------------------------------------------------------------------------------------------------------------------------------------------------</b></div>"
   ]
  },
  {
   "cell_type": "markdown",
   "metadata": {},
   "source": [
    "### c) Model-based clustering (incomplete)"
   ]
  },
  {
   "cell_type": "markdown",
   "metadata": {},
   "source": [
    "The key idea for model-based clustering is that observations come from groups with different statistical distributions (such as different means and variances). \n",
    "The algorithms try to find the best set of such underlying distributions to explain the observed data.\n",
    "\n",
    "Such models are also known as \"mixture models\" because it is assumed that the data reflect a mixture of observations drawn from different populations, although we don’t know which population each observation was drawn from. \n",
    "We are trying to estimate the underlying population parameters and the mixture proportion."
   ]
  },
  {
   "cell_type": "markdown",
   "metadata": {},
   "source": [
    "<b>Gaussian Mixture Model</b><br>\n",
    "It is presumed that the clusters come from different distributions but all of them are gaussian or normal distributions.\n",
    "The algorithm used below (Mclust) assumes a Gaussian Mixture Model."
   ]
  },
  {
   "cell_type": "markdown",
   "metadata": {},
   "source": [
    "Maybe helpful<br>\n",
    "https://towardsdatascience.com/gaussian-mixture-modelling-gmm-833c88587c7f"
   ]
  },
  {
   "cell_type": "code",
   "execution_count": 50,
   "metadata": {},
   "outputs": [],
   "source": [
    "from sklearn.mixture import GaussianMixture"
   ]
  },
  {
   "cell_type": "code",
   "execution_count": 76,
   "metadata": {},
   "outputs": [
    {
     "data": {
      "text/plain": [
       "array([0, 0, 2, 0, 0, 0, 0, 0, 0, 2, 2, 0, 0, 0, 0, 0, 2, 2, 0, 3, 0, 0, 0, 0, 0, 0, 0,\n",
       "       0, 0, 0, 0, 0, 0, 0, 0, 0, 0, 0, 0, 0, 0, 0, 0, 0, 0, 0, 0, 0, 0, 0, 0, 0, 3, 0,\n",
       "       0, 0, 0, 0, 0, 0, 0, 0, 0, 0, 3, 0, 0, 0, 0, 0, 0, 0, 0, 0, 0, 0, 0, 0, 2, 0, 0,\n",
       "       0, 0, 3, 0, 0, 0, 0, 3, 0, 0, 0, 0, 0, 3, 0, 0, 0, 0, 0, 1, 1, 0, 0, 0, 0, 1, 1,\n",
       "       0, 0, 0, 0, 0, 0, 0, 0, 0, 0, 0, 0, 1, 2, 0, 0, 0, 0, 0, 1, 1, 1, 0, 0, 0, 0, 0,\n",
       "       0, 1, 0, 0, 0, 1, 0, 0, 0, 2, 0, 0, 0, 0, 2, 2, 2, 2, 0, 2, 2, 2, 0, 2, 2, 2, 2,\n",
       "       2, 2, 2, 2, 2, 2, 2, 2, 2, 3, 3, 0, 2, 2, 2, 2, 2, 2, 2, 2, 2, 2, 2, 0, 2, 2, 2,\n",
       "       2, 0, 2, 0, 2, 2, 2, 2, 2, 2, 2, 2, 0, 2, 2, 0, 0, 2, 2, 0, 2, 2, 0, 2, 2, 2, 2,\n",
       "       0, 0, 3, 2, 2, 0, 2, 2, 2, 2, 0, 2, 0, 0, 0, 0, 0, 0, 0, 0, 0, 0, 0, 0, 0, 3, 0,\n",
       "       0, 0, 0, 0, 0, 0, 0, 0, 2, 0, 0, 0, 3, 3, 3, 0, 0, 3, 0, 0, 0, 0, 0, 0, 0, 2, 0,\n",
       "       3, 0, 0, 0, 0, 3, 0, 3, 0, 0, 0, 0, 3, 0, 0, 2, 3, 3, 0, 0, 0, 0, 3, 3, 2, 2, 0,\n",
       "       3, 0, 0], dtype=int64)"
      ]
     },
     "execution_count": 76,
     "metadata": {},
     "output_type": "execute_result"
    }
   ],
   "source": [
    "gmm = GaussianMixture(n_components=4).fit(dfn)\n",
    "gmm.predict(dfn)"
   ]
  },
  {
   "cell_type": "code",
   "execution_count": 77,
   "metadata": {},
   "outputs": [
    {
     "data": {
      "text/html": [
       "<div>\n",
       "<style scoped>\n",
       "    .dataframe tbody tr th:only-of-type {\n",
       "        vertical-align: middle;\n",
       "    }\n",
       "\n",
       "    .dataframe tbody tr th {\n",
       "        vertical-align: top;\n",
       "    }\n",
       "\n",
       "    .dataframe thead th {\n",
       "        text-align: right;\n",
       "    }\n",
       "</style>\n",
       "<table border=\"1\" class=\"dataframe\">\n",
       "  <thead>\n",
       "    <tr style=\"text-align: right;\">\n",
       "      <th></th>\n",
       "      <th>age</th>\n",
       "      <th>income</th>\n",
       "      <th>kids</th>\n",
       "      <th>male</th>\n",
       "      <th>homeOwner</th>\n",
       "      <th>subscriber</th>\n",
       "    </tr>\n",
       "    <tr>\n",
       "      <th>cluster</th>\n",
       "      <th></th>\n",
       "      <th></th>\n",
       "      <th></th>\n",
       "      <th></th>\n",
       "      <th></th>\n",
       "      <th></th>\n",
       "    </tr>\n",
       "  </thead>\n",
       "  <tbody>\n",
       "    <tr>\n",
       "      <th>0</th>\n",
       "      <td>37.403453</td>\n",
       "      <td>49595.345361</td>\n",
       "      <td>1.715026</td>\n",
       "      <td>0.481865</td>\n",
       "      <td>0.290155</td>\n",
       "      <td>0.000000</td>\n",
       "    </tr>\n",
       "    <tr>\n",
       "      <th>1</th>\n",
       "      <td>23.682825</td>\n",
       "      <td>20081.192737</td>\n",
       "      <td>1.300000</td>\n",
       "      <td>0.600000</td>\n",
       "      <td>0.200000</td>\n",
       "      <td>1.000000</td>\n",
       "    </tr>\n",
       "    <tr>\n",
       "      <th>2</th>\n",
       "      <td>53.820837</td>\n",
       "      <td>58274.663479</td>\n",
       "      <td>0.000000</td>\n",
       "      <td>0.472973</td>\n",
       "      <td>1.000000</td>\n",
       "      <td>0.094595</td>\n",
       "    </tr>\n",
       "    <tr>\n",
       "      <th>3</th>\n",
       "      <td>40.063407</td>\n",
       "      <td>51996.616328</td>\n",
       "      <td>1.608696</td>\n",
       "      <td>0.391304</td>\n",
       "      <td>0.391304</td>\n",
       "      <td>1.000000</td>\n",
       "    </tr>\n",
       "  </tbody>\n",
       "</table>\n",
       "</div>"
      ],
      "text/plain": [
       "               age        income      kids      male  homeOwner  subscriber\n",
       "cluster                                                                    \n",
       "0        37.403453  49595.345361  1.715026  0.481865   0.290155    0.000000\n",
       "1        23.682825  20081.192737  1.300000  0.600000   0.200000    1.000000\n",
       "2        53.820837  58274.663479  0.000000  0.472973   1.000000    0.094595\n",
       "3        40.063407  51996.616328  1.608696  0.391304   0.391304    1.000000"
      ]
     },
     "execution_count": 77,
     "metadata": {},
     "output_type": "execute_result"
    }
   ],
   "source": [
    "seg_summ(dfn, gmm.predict(dfn))"
   ]
  },
  {
   "cell_type": "markdown",
   "metadata": {},
   "source": [
    "##### BIC scores"
   ]
  },
  {
   "cell_type": "code",
   "execution_count": 53,
   "metadata": {},
   "outputs": [],
   "source": [
    "models = {}\n",
    "for k in range(1, 11):\n",
    "    models['k'+str(k)] = GaussianMixture(n_components=k, n_init=2, random_state=1).fit(dfn)"
   ]
  },
  {
   "cell_type": "code",
   "execution_count": 54,
   "metadata": {},
   "outputs": [
    {
     "name": "stdout",
     "output_type": "stream",
     "text": [
      "11261.9401116636\n",
      "7834.251761127949\n",
      "7933.878000621998\n",
      "6972.378186362119\n",
      "6423.007247479967\n",
      "6426.633833928164\n",
      "6235.046452279086\n",
      "6556.174724974513\n",
      "4399.591712788208\n",
      "6652.117267859221\n"
     ]
    }
   ],
   "source": [
    "for m in models:\n",
    "    print(models[m].bic(dfn))"
   ]
  },
  {
   "cell_type": "code",
   "execution_count": 55,
   "metadata": {},
   "outputs": [
    {
     "data": {
      "image/png": "[encoded data removed]",
      "text/plain": [
       "<Figure size 432x288 with 1 Axes>"
      ]
     },
     "metadata": {},
     "output_type": "display_data"
    }
   ],
   "source": [
    "plt.plot(range(1,11), [models[m].bic(dfn) for m in models], label='BIC', marker='o')\n",
    "plt.plot(range(1,11), [models[m].aic(dfn) for m in models], label='AIC', marker='o');"
   ]
  },
  {
   "cell_type": "code",
   "execution_count": 56,
   "metadata": {},
   "outputs": [],
   "source": [
    "# https://www.kaggle.com/vipulgandhi/gaussian-mixture-models-clustering-explained\n",
    "def SelBest(arr:list, X:int)->list:\n",
    "    '''\n",
    "    returns the set of X configurations with shorter distance\n",
    "    '''\n",
    "    dx=np.argsort(arr)[:X]\n",
    "    return arr[dx]"
   ]
  },
  {
   "cell_type": "code",
   "execution_count": 57,
   "metadata": {},
   "outputs": [],
   "source": [
    "X_principal = dfn.copy()\n",
    "n_clusters=np.arange(2, 8)\n",
    "bics=[]\n",
    "bics_err=[]\n",
    "iterations=20\n",
    "for n in n_clusters:\n",
    "    tmp_bic=[]\n",
    "    for _ in range(iterations):\n",
    "        gmm=GaussianMixture(n, n_init=2).fit(X_principal) \n",
    "        \n",
    "        tmp_bic.append(gmm.bic(X_principal))\n",
    "    val=np.mean(SelBest(np.array(tmp_bic), int(iterations/5)))\n",
    "    err=np.std(tmp_bic)\n",
    "    bics.append(val)\n",
    "    bics_err.append(err)"
   ]
  },
  {
   "cell_type": "code",
   "execution_count": 58,
   "metadata": {},
   "outputs": [
    {
     "data": {
      "text/plain": [
       "<matplotlib.legend.Legend at 0x2276d205c70>"
      ]
     },
     "execution_count": 58,
     "metadata": {},
     "output_type": "execute_result"
    },
    {
     "data": {
      "image/png": "[encoded data removed]",
      "text/plain": [
       "<Figure size 432x288 with 1 Axes>"
      ]
     },
     "metadata": {},
     "output_type": "display_data"
    }
   ],
   "source": [
    "plt.errorbar(n_clusters,bics, yerr=bics_err, label='BIC')\n",
    "plt.title(\"BIC Scores\", fontsize=20)\n",
    "plt.xticks(n_clusters)\n",
    "plt.xlabel(\"N. of clusters\")\n",
    "plt.ylabel(\"Score\")\n",
    "plt.legend()"
   ]
  },
  {
   "cell_type": "code",
   "execution_count": 59,
   "metadata": {},
   "outputs": [
    {
     "data": {
      "text/plain": [
       "<matplotlib.legend.Legend at 0x2276bceddc0>"
      ]
     },
     "execution_count": 59,
     "metadata": {},
     "output_type": "execute_result"
    },
    {
     "data": {
      "image/png": "[encoded data removed]",
      "text/plain": [
       "<Figure size 432x288 with 1 Axes>"
      ]
     },
     "metadata": {},
     "output_type": "display_data"
    }
   ],
   "source": [
    "plt.errorbar(n_clusters, np.gradient(bics), yerr=bics_err, label='BIC')\n",
    "plt.title(\"Gradient of BIC Scores\", fontsize=20)\n",
    "plt.xticks(n_clusters)\n",
    "plt.xlabel(\"N. of clusters\")\n",
    "plt.ylabel(\"grad(BIC)\")\n",
    "plt.legend()"
   ]
  },
  {
   "cell_type": "markdown",
   "metadata": {},
   "source": [
    "[go to toc](#index)"
   ]
  },
  {
   "cell_type": "markdown",
   "metadata": {},
   "source": [
    "<div align=\"center\"><b>------------------------------------------------------------------------------------------------------------------------------------------------------------------------------------------------</b></div>"
   ]
  },
  {
   "cell_type": "markdown",
   "metadata": {},
   "source": [
    "### d) Latent Class Analysis (no code)"
   ]
  },
  {
   "cell_type": "markdown",
   "metadata": {},
   "source": [
    "A latent class model (LCM) relates a set of observed (usually discrete) multivariate variables to a set of latent variables. [(wiki)](https://en.wikipedia.org/wiki/Latent_class_model)<br>\n",
    "Latent variables are variables that are not directly observed but have been inferred from other variables that have been observed.  \n",
    "\n",
    "Latent class analysis (LCA) is used to find groups or subtypes of cases in multivariate categorical data and is similar to mixture modeling in the assumption that differences are attributable to unobserved groups that one wishes to uncover. \n",
    "\n",
    "But since LCA can be done on categorical variables only, we'll need to convert our numeric variables into categories. \n",
    "One of the ways to do that is simply recode the numerical column as binary with regards to a specified cutting point.<br>\n",
    "\n",
    "Here, we will use median as the cutoff point."
   ]
  },
  {
   "cell_type": "raw",
   "metadata": {},
   "source": [
    "No packages found"
   ]
  },
  {
   "cell_type": "markdown",
   "metadata": {},
   "source": [
    "[go to toc](#index)"
   ]
  },
  {
   "cell_type": "markdown",
   "metadata": {},
   "source": [
    "<div align=\"center\"><b>------------------------------------------------------------------------------------------------------------------------------------------------------------------------------------------------</b></div>"
   ]
  },
  {
   "cell_type": "markdown",
   "metadata": {},
   "source": [
    "## 7) Comparing Cluster Solutions"
   ]
  },
  {
   "cell_type": "markdown",
   "metadata": {},
   "source": [
    "Given that we know the real group membership, how does it compare to clustering method's results?<br>\n",
    "\n",
    "The answer is not as simple as counting agreement. There are 2 reasons for that:<br>\n",
    "    1) It is not obvious how to match one cluster solution to another because the order of group labels is arbitrary. Group 1 under 1 method might appear as group 3 under another.<br>\n",
    "    2) Second, if we solve the matching problem we still need to adjust for chance agreement.\n",
    "    Is an agreement rate of 90% good? It depends on the base rate. If base rate is 50% (like gender ratio in the world), then 90% accuracy is much better than chance (50%). If base rate is 99%+ (Japanese speakers in Japan), then 90% accuracy is terrible."
   ]
  },
  {
   "cell_type": "code",
   "execution_count": 60,
   "metadata": {},
   "outputs": [],
   "source": [
    "from sklearn.metrics import adjusted_rand_score"
   ]
  },
  {
   "cell_type": "markdown",
   "metadata": {},
   "source": [
    "#### kmeans segments vs y"
   ]
  },
  {
   "cell_type": "code",
   "execution_count": 61,
   "metadata": {},
   "outputs": [
    {
     "data": {
      "text/html": [
       "<div>\n",
       "<style scoped>\n",
       "    .dataframe tbody tr th:only-of-type {\n",
       "        vertical-align: middle;\n",
       "    }\n",
       "\n",
       "    .dataframe tbody tr th {\n",
       "        vertical-align: top;\n",
       "    }\n",
       "\n",
       "    .dataframe thead th {\n",
       "        text-align: right;\n",
       "    }\n",
       "</style>\n",
       "<table border=\"1\" class=\"dataframe\">\n",
       "  <thead>\n",
       "    <tr style=\"text-align: right;\">\n",
       "      <th>Segment</th>\n",
       "      <th>Moving up</th>\n",
       "      <th>Suburb mix</th>\n",
       "      <th>Travelers</th>\n",
       "      <th>Urban hip</th>\n",
       "    </tr>\n",
       "    <tr>\n",
       "      <th>row_0</th>\n",
       "      <th></th>\n",
       "      <th></th>\n",
       "      <th></th>\n",
       "      <th></th>\n",
       "    </tr>\n",
       "  </thead>\n",
       "  <tbody>\n",
       "    <tr>\n",
       "      <th>0</th>\n",
       "      <td>25</td>\n",
       "      <td>43</td>\n",
       "      <td>27</td>\n",
       "      <td>0</td>\n",
       "    </tr>\n",
       "    <tr>\n",
       "      <th>1</th>\n",
       "      <td>1</td>\n",
       "      <td>5</td>\n",
       "      <td>7</td>\n",
       "      <td>50</td>\n",
       "    </tr>\n",
       "    <tr>\n",
       "      <th>2</th>\n",
       "      <td>0</td>\n",
       "      <td>6</td>\n",
       "      <td>21</td>\n",
       "      <td>0</td>\n",
       "    </tr>\n",
       "    <tr>\n",
       "      <th>3</th>\n",
       "      <td>44</td>\n",
       "      <td>46</td>\n",
       "      <td>25</td>\n",
       "      <td>0</td>\n",
       "    </tr>\n",
       "  </tbody>\n",
       "</table>\n",
       "</div>"
      ],
      "text/plain": [
       "Segment  Moving up  Suburb mix  Travelers  Urban hip\n",
       "row_0                                               \n",
       "0               25          43         27          0\n",
       "1                1           5          7         50\n",
       "2                0           6         21          0\n",
       "3               44          46         25          0"
      ]
     },
     "execution_count": 61,
     "metadata": {},
     "output_type": "execute_result"
    }
   ],
   "source": [
    "pd.crosstab(pd.Series(model_k.labels_), y, dropna=False)"
   ]
  },
  {
   "cell_type": "code",
   "execution_count": 62,
   "metadata": {},
   "outputs": [
    {
     "data": {
      "text/plain": [
       "0.20177486142483086"
      ]
     },
     "execution_count": 62,
     "metadata": {},
     "output_type": "execute_result"
    }
   ],
   "source": [
    "adjusted_rand_score(model_k.labels_, y)"
   ]
  },
  {
   "cell_type": "markdown",
   "metadata": {},
   "source": [
    "#### heirarchical segments vs y"
   ]
  },
  {
   "cell_type": "code",
   "execution_count": 63,
   "metadata": {},
   "outputs": [
    {
     "data": {
      "text/html": [
       "<div>\n",
       "<style scoped>\n",
       "    .dataframe tbody tr th:only-of-type {\n",
       "        vertical-align: middle;\n",
       "    }\n",
       "\n",
       "    .dataframe tbody tr th {\n",
       "        vertical-align: top;\n",
       "    }\n",
       "\n",
       "    .dataframe thead th {\n",
       "        text-align: right;\n",
       "    }\n",
       "</style>\n",
       "<table border=\"1\" class=\"dataframe\">\n",
       "  <thead>\n",
       "    <tr style=\"text-align: right;\">\n",
       "      <th>Segment</th>\n",
       "      <th>Moving up</th>\n",
       "      <th>Suburb mix</th>\n",
       "      <th>Travelers</th>\n",
       "      <th>Urban hip</th>\n",
       "    </tr>\n",
       "    <tr>\n",
       "      <th>row_0</th>\n",
       "      <th></th>\n",
       "      <th></th>\n",
       "      <th></th>\n",
       "      <th></th>\n",
       "    </tr>\n",
       "  </thead>\n",
       "  <tbody>\n",
       "    <tr>\n",
       "      <th>1</th>\n",
       "      <td>9</td>\n",
       "      <td>2</td>\n",
       "      <td>3</td>\n",
       "      <td>8</td>\n",
       "    </tr>\n",
       "    <tr>\n",
       "      <th>2</th>\n",
       "      <td>5</td>\n",
       "      <td>4</td>\n",
       "      <td>7</td>\n",
       "      <td>2</td>\n",
       "    </tr>\n",
       "    <tr>\n",
       "      <th>3</th>\n",
       "      <td>38</td>\n",
       "      <td>45</td>\n",
       "      <td>37</td>\n",
       "      <td>16</td>\n",
       "    </tr>\n",
       "    <tr>\n",
       "      <th>4</th>\n",
       "      <td>18</td>\n",
       "      <td>49</td>\n",
       "      <td>33</td>\n",
       "      <td>24</td>\n",
       "    </tr>\n",
       "  </tbody>\n",
       "</table>\n",
       "</div>"
      ],
      "text/plain": [
       "Segment  Moving up  Suburb mix  Travelers  Urban hip\n",
       "row_0                                               \n",
       "1                9           2          3          8\n",
       "2                5           4          7          2\n",
       "3               38          45         37         16\n",
       "4               18          49         33         24"
      ]
     },
     "execution_count": 63,
     "metadata": {},
     "output_type": "execute_result"
    }
   ],
   "source": [
    "pd.crosstab(pd.Series(clust_hc_segments), y, dropna=False)"
   ]
  },
  {
   "cell_type": "code",
   "execution_count": 64,
   "metadata": {},
   "outputs": [
    {
     "data": {
      "text/plain": [
       "0.021520949805032236"
      ]
     },
     "execution_count": 64,
     "metadata": {},
     "output_type": "execute_result"
    }
   ],
   "source": [
    "adjusted_rand_score(clust_hc_segments, y)"
   ]
  },
  {
   "cell_type": "markdown",
   "metadata": {},
   "source": [
    "<div class=\"alert alert-block alert-info\">\n",
    "    Adjusted Rand Index of the Kmeans model (0.201) suggests there is a mild benefit of using the model over random chance segmentation.<br><br>\n",
    "    Adjusted Rand Index of the Hierarchical Model (0.021) close to 0 suggests that there is not much difference in its segmentation compared with random chance.\n",
    "</div>"
   ]
  },
  {
   "cell_type": "markdown",
   "metadata": {},
   "source": [
    "<div align=\"center\"><b>------------------------------------------------------------------------------------------------------------------------------------------------------------------------------------------------</b></div>"
   ]
  },
  {
   "cell_type": "markdown",
   "metadata": {},
   "source": [
    "## 8) Concluding summary"
   ]
  },
  {
   "cell_type": "markdown",
   "metadata": {},
   "source": [
    "Above we learned a few methods for identifying potential groups of observations in a data set.\n",
    "The problem of how to predict (classify) observations into groups after those groups have been defined, falls under classification.<br>\n",
    "\n",
    "<b>Two points that are crucial for success in segmentation projects :</b><br>\n",
    "1) Different methods are likely to yield different solutions, and in general there is no absolute “right” answer. We recommend to try multiple clustering methods with different potential numbers of clusters.<br>\n",
    "\n",
    "2) The results of segmentation are primarily about business value, and solutions should be evaluated in terms of both model fit (e.g., using BIC()) and business utility. Although model fit is an important criterion and should not be overlooked, it is ultimately necessary that an answer can be communicated to and used by stakeholders."
   ]
  },
  {
   "cell_type": "markdown",
   "metadata": {},
   "source": [
    "<div align=\"center\"><b>------------------------------------------------------------------------------------------------------------------------------------------------------------------------------------------------</b></div>"
   ]
  },
  {
   "cell_type": "markdown",
   "metadata": {},
   "source": [
    "[go to toc](#index)"
   ]
  },
  {
   "attachments": {},
   "cell_type": "markdown",
   "metadata": {},
   "source": [
    "<div align=\"center\"><b>-------------------------------------------- &ensp; <i>That's All Folks!</i> &ensp; --------------------------------------------</b></div>"
   ]
  }
 ],
 "metadata": {
  "kernelspec": {
   "display_name": "Python 3",
   "language": "python",
   "name": "python3"
  },
  "language_info": {
   "codemirror_mode": {
    "name": "ipython",
    "version": 3
   },
   "file_extension": ".py",
   "mimetype": "text/x-python",
   "name": "python",
   "nbconvert_exporter": "python",
   "pygments_lexer": "ipython3",
   "version": "3.8.5"
  },
  "toc": {
   "base_numbering": 1,
   "nav_menu": {},
   "number_sections": false,
   "sideBar": true,
   "skip_h1_title": true,
   "title_cell": "Table of Contents",
   "title_sidebar": "Contents",
   "toc_cell": false,
   "toc_position": {},
   "toc_section_display": true,
   "toc_window_display": true
  }
 },
 "nbformat": 4,
 "nbformat_minor": 4
}
